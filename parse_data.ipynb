{
 "cells": [
  {
   "cell_type": "code",
   "execution_count": 50,
   "id": "9e096de1",
   "metadata": {},
   "outputs": [],
   "source": [
    "import findspark\n",
    "findspark.init()\n",
    "import pandas as pd;\n",
    "import numpy as np;\n",
    "from pyspark import SparkContext\n",
    "from pyspark import SparkConf\n",
    "import re"
   ]
  },
  {
   "cell_type": "code",
   "execution_count": 32,
   "id": "600b2666",
   "metadata": {},
   "outputs": [],
   "source": [
    "conf = SparkConf().setAppName('Read & parse text data file in pyspark')\n",
    "sc = SparkContext.getOrCreate(conf=conf)"
   ]
  },
  {
   "cell_type": "code",
   "execution_count": 36,
   "id": "fc32d019",
   "metadata": {},
   "outputs": [
    {
     "name": "stderr",
     "output_type": "stream",
     "text": [
      "                                                                                \r"
     ]
    }
   ],
   "source": [
    "lines = sc.textFile('./assets/AMiner-Author.txt').zipWithIndex()"
   ]
  },
  {
   "cell_type": "code",
   "execution_count": 37,
   "id": "5811092f",
   "metadata": {},
   "outputs": [
    {
     "name": "stderr",
     "output_type": "stream",
     "text": [
      "                                                                                \r"
     ]
    }
   ],
   "source": [
    "# Find the starting row of each data entry\n",
    "pos = lines.filter(lambda x: \"#index\" in x[0]).map(lambda x: x[1]).collect()"
   ]
  },
  {
   "cell_type": "code",
   "execution_count": 38,
   "id": "c71dc380",
   "metadata": {},
   "outputs": [
    {
     "name": "stderr",
     "output_type": "stream",
     "text": [
      "                                                                                \r"
     ]
    }
   ],
   "source": [
    "zeroArray = np.zeros(lines.count(), dtype=int)"
   ]
  },
  {
   "cell_type": "code",
   "execution_count": 39,
   "id": "9f92fa1a",
   "metadata": {},
   "outputs": [],
   "source": [
    "def exchangeElementAtIndexToOne(index):\n",
    "    zeroArray[index] = 1;"
   ]
  },
  {
   "cell_type": "code",
   "execution_count": 40,
   "id": "a4c2f3f2",
   "metadata": {},
   "outputs": [],
   "source": [
    "for element in pos:\n",
    "    exchangeElementAtIndexToOne(element)"
   ]
  },
  {
   "cell_type": "code",
   "execution_count": 41,
   "id": "1ecbf478",
   "metadata": {},
   "outputs": [],
   "source": [
    "# Calculate cumulative sum of starting data entry indexes\n",
    "summedArray = np.cumsum(zeroArray)"
   ]
  },
  {
   "cell_type": "code",
   "execution_count": 42,
   "id": "63589899",
   "metadata": {},
   "outputs": [],
   "source": [
    "broadcastedArray = sc.broadcast(summedArray);"
   ]
  },
  {
   "cell_type": "code",
   "execution_count": 43,
   "id": "75b0a8d3",
   "metadata": {},
   "outputs": [],
   "source": [
    "def createBroarcastedTuple(x):\n",
    "    return (broadcastedArray.value[x[1]], x[0])"
   ]
  },
  {
   "cell_type": "code",
   "execution_count": 44,
   "id": "bf5aedaf",
   "metadata": {},
   "outputs": [],
   "source": [
    "papers = lines.map(lambda x: createBroarcastedTuple(x))"
   ]
  },
  {
   "cell_type": "code",
   "execution_count": 13,
   "id": "aacf1ec9",
   "metadata": {},
   "outputs": [],
   "source": [
    "list_get = lambda l, x, d=None: d if not l[x:x+1] else l[x] # safe getter of list values\n",
    "\n",
    "def reduceFeaturesToDict(featureA={}, featureB=''):\n",
    "    try:\n",
    "        splittedA = featureA;\n",
    "        if type(splittedA) is str:\n",
    "            splittedA = splittedA.split(\" \", 1)\n",
    "            if len(splittedA) > 0:\n",
    "                splittedA = { list_get(splittedA, 0): list_get(splittedA, 1, '') }\n",
    "            else:\n",
    "                splittedA = {}\n",
    "\n",
    "        splittedB = featureB;\n",
    "        if type(featureB) is str:\n",
    "            if len(featureB) > 0:\n",
    "                splittedB = featureB.split(\" \", 1)\n",
    "                splittedB = { list_get(splittedB, 0): list_get(splittedB, 1, '') }\n",
    "            else:\n",
    "                splittedB = {}\n",
    "        return { **splittedA, **splittedB }\n",
    "    except:\n",
    "        print(\"ERROR: \", featureA, featureB)\n",
    "        raise"
   ]
  },
  {
   "cell_type": "code",
   "execution_count": 45,
   "id": "62f4c792",
   "metadata": {},
   "outputs": [],
   "source": [
    "reducedPapers = papers.reduceByKey(lambda a, b: reduceFeaturesToDict(a, b))"
   ]
  },
  {
   "cell_type": "code",
   "execution_count": null,
   "id": "d84c871d",
   "metadata": {
    "scrolled": true
   },
   "outputs": [],
   "source": [
    "print(reducedPapers.sortByKey(ascending=False).first())"
   ]
  },
  {
   "cell_type": "code",
   "execution_count": 47,
   "id": "615a9690",
   "metadata": {},
   "outputs": [],
   "source": [
    "mappedPaperDicts = reducedPapers.map(lambda x: x[1]) # retrieve dicts from the tuples"
   ]
  },
  {
   "cell_type": "code",
   "execution_count": null,
   "id": "8a381100",
   "metadata": {},
   "outputs": [],
   "source": [
    "# print(mappedPaperDicts.sortByKey(ascending=False).take(100))"
   ]
  },
  {
   "cell_type": "code",
   "execution_count": null,
   "id": "946bedef",
   "metadata": {},
   "outputs": [],
   "source": [
    "# pdPapers = pd.DataFrame.from_records(mappedPaperDicts)"
   ]
  },
  {
   "cell_type": "code",
   "execution_count": null,
   "id": "7873861b",
   "metadata": {},
   "outputs": [],
   "source": [
    "mappedPaperDicts.saveAsTextFile('./assets/parsedData/authors')"
   ]
  }
 ],
 "metadata": {
  "kernelspec": {
   "display_name": "Python 3 (ipykernel)",
   "language": "python",
   "name": "python3"
  },
  "language_info": {
   "codemirror_mode": {
    "name": "ipython",
    "version": 3
   },
   "file_extension": ".py",
   "mimetype": "text/x-python",
   "name": "python",
   "nbconvert_exporter": "python",
   "pygments_lexer": "ipython3",
   "version": "3.9.8"
  }
 },
 "nbformat": 4,
 "nbformat_minor": 5
}
