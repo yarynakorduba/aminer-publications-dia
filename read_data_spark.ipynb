{
 "cells": [
  {
   "cell_type": "code",
   "execution_count": 8,
   "id": "9e096de1",
   "metadata": {
    "pycharm": {
     "name": "#%%\n"
    }
   },
   "outputs": [],
   "source": [
    "from pyspark.sql import SparkSession"
   ]
  },
  {
   "cell_type": "code",
   "execution_count": 10,
   "id": "9ec4155c",
   "metadata": {
    "pycharm": {
     "is_executing": true,
     "name": "#%%\n"
    }
   },
   "outputs": [],
   "source": [
    "spark=SparkSession.builder.appName('read data through spark').getOrCreate()"
   ]
  },
  {
   "cell_type": "code",
   "execution_count": 12,
   "id": "3c1e3d6e",
   "metadata": {
    "pycharm": {
     "is_executing": true
    }
   },
   "outputs": [
    {
     "data": {
      "text/html": [
       "\n",
       "            <div>\n",
       "                <p><b>SparkSession - in-memory</b></p>\n",
       "                \n",
       "        <div>\n",
       "            <p><b>SparkContext</b></p>\n",
       "\n",
       "            <p><a href=\"http://192.168.0.104:4042\">Spark UI</a></p>\n",
       "\n",
       "            <dl>\n",
       "              <dt>Version</dt>\n",
       "                <dd><code>v3.2.0</code></dd>\n",
       "              <dt>Master</dt>\n",
       "                <dd><code>local[*]</code></dd>\n",
       "              <dt>AppName</dt>\n",
       "                <dd><code>read data through spark</code></dd>\n",
       "            </dl>\n",
       "        </div>\n",
       "        \n",
       "            </div>\n",
       "        "
      ],
      "text/plain": [
       "<pyspark.sql.session.SparkSession at 0x7fe37d6656a0>"
      ]
     },
     "execution_count": 12,
     "metadata": {},
     "output_type": "execute_result"
    }
   ],
   "source": [
    "spark"
   ]
  },
  {
   "cell_type": "code",
   "execution_count": 37,
   "id": "68d17e5d",
   "metadata": {
    "pycharm": {
     "is_executing": true,
     "name": "#%%\n"
    }
   },
   "outputs": [
    {
     "name": "stderr",
     "output_type": "stream",
     "text": [
      "                                                                                \r"
     ]
    }
   ],
   "source": [
    "authors_pyspark = spark.read.option('header', 'true').csv('./assets/parsedData/authors.csv', inferSchema=True)"
   ]
  },
  {
   "cell_type": "code",
   "execution_count": 38,
   "id": "b14e573e",
   "metadata": {
    "pycharm": {
     "is_executing": true
    }
   },
   "outputs": [
    {
     "name": "stdout",
     "output_type": "stream",
     "text": [
      "+-----------------+--------------------+----------+---------+--------------------+\n",
      "|             name|        affiliations|pub_papers|citations|  research_interests|\n",
      "+-----------------+--------------------+----------+---------+--------------------+\n",
      "|        O. Willum|Res. Center for M...|         1|        0|new product;produ...|\n",
      "|           D. Wei|Dept. of Electr. ...|         1|        0|lowpass filter;mu...|\n",
      "|         Wenhu Wu|                null|         1|        0|MAP adaptation;ad...|\n",
      "|     Zhiyuan Zeng|College of Geogra...|         1|        0|normalized differ...|\n",
      "|       Erzen Hyko|Department of Com...|         1|        0|information conte...|\n",
      "|      S. Wanstedt|                null|         1|        0|average quality;s...|\n",
      "|       Lis Weimar|AmsterdamAmstella...|         1|        0|GSS transition;ac...|\n",
      "|    Chih-Yung Wen|National ChengKun...|         3|        1|diaphragm deflect...|\n",
      "|        An-Yeu Wu|                null|         1|        0|direct CSD approa...|\n",
      "|       Anon et al|Wayne State Unive...|        47|       67|security consulta...|\n",
      "|       M. Wengler|                null|         1|        0|MRC receiver;OC r...|\n",
      "|    Eric P. Bloom|                null|         1|        0|Turbo C Programme...|\n",
      "|  Kimberly Weaver|Iowa State Univer...|         9|       14|sign language;hea...|\n",
      "|Mohan V. Kalkunte|                null|         1|        0|alternative desig...|\n",
      "|    IEEE Region 7|Department of Com...|        16|       35|Visual Language;d...|\n",
      "|    Nadia Dahmani|                null|         2|        1|2-dimensional vec...|\n",
      "|  J. Michael Howe|                null|         1|        0|HIV disease;Inter...|\n",
      "|           Z. Liu|                null|         1|        0|encapsulated vide...|\n",
      "|    Ren-Hong Wang|                null|         1|        0|Arbitrary Degree;...|\n",
      "|   Chun-Yen Chang|The authors are w...|         1|        0|CMOS Low-Noise Am...|\n",
      "+-----------------+--------------------+----------+---------+--------------------+\n",
      "only showing top 20 rows\n",
      "\n"
     ]
    }
   ],
   "source": [
    "authors_pyspark.show()"
   ]
  },
  {
   "cell_type": "code",
   "execution_count": null,
   "id": "152dffba",
   "metadata": {
    "pycharm": {
     "is_executing": true
    }
   },
   "outputs": [],
   "source": [
    "authors_pyspark.printSchema()"
   ]
  },
  {
   "cell_type": "code",
   "execution_count": null,
   "id": "734e2e21",
   "metadata": {
    "pycharm": {
     "is_executing": true
    }
   },
   "outputs": [],
   "source": [
    "authors_pyspark.select('name').show()"
   ]
  },
  {
   "cell_type": "code",
   "execution_count": null,
   "id": "ee7b2089",
   "metadata": {
    "pycharm": {
     "is_executing": true
    }
   },
   "outputs": [],
   "source": [
    "authors_pyspark.dtypes"
   ]
  },
  {
   "cell_type": "code",
   "execution_count": null,
   "id": "c0b179cf",
   "metadata": {
    "pycharm": {
     "is_executing": true
    }
   },
   "outputs": [],
   "source": [
    "authors_pyspark.describe().show()"
   ]
  },
  {
   "cell_type": "code",
   "execution_count": null,
   "id": "5f4ec43c",
   "metadata": {
    "pycharm": {
     "is_executing": true
    }
   },
   "outputs": [],
   "source": [
    "### to rename columns\n",
    "authors_pyspark.withColumnRenamed('name', 'Name').show()"
   ]
  },
  {
   "cell_type": "code",
   "execution_count": null,
   "id": "5d9c7305",
   "metadata": {
    "pycharm": {
     "is_executing": true
    }
   },
   "outputs": [],
   "source": [
    "### add columns\n",
    "authors_pyspark.withColumn('pub_papers_2', authors_pyspark['pub_papers']+2).show()"
   ]
  },
  {
   "cell_type": "code",
   "execution_count": null,
   "id": "183788e7",
   "metadata": {
    "pycharm": {
     "is_executing": true
    }
   },
   "outputs": [],
   "source": [
    "### drop columns (need ti assign to the existing df)\n",
    "authors_pyspark.drop('pub_papers').show()"
   ]
  },
  {
   "cell_type": "code",
   "execution_count": null,
   "id": "cdc89533",
   "metadata": {
    "pycharm": {
     "is_executing": true
    }
   },
   "outputs": [],
   "source": [
    "### to drop rows which have all columns as null\n",
    "authors_pyspark.na.drop(how=\"all\").count()"
   ]
  },
  {
   "cell_type": "code",
   "execution_count": null,
   "id": "1722286f",
   "metadata": {
    "pycharm": {
     "is_executing": true
    }
   },
   "outputs": [],
   "source": [
    "### to drop rows that have any null values\n",
    "authors_pyspark.na.drop(how=\"any\", thresh=4).count()"
   ]
  },
  {
   "cell_type": "code",
   "execution_count": null,
   "id": "028ace20",
   "metadata": {
    "pycharm": {
     "is_executing": true
    }
   },
   "outputs": [],
   "source": [
    "### subset\n",
    "authors_pyspark.na.drop(how=\"any\", subset=['affiliations']).count()"
   ]
  },
  {
   "cell_type": "code",
   "execution_count": null,
   "id": "135d102e",
   "metadata": {
    "pycharm": {
     "is_executing": true
    }
   },
   "outputs": [],
   "source": [
    "### Filling missing values \n",
    "authors_pyspark.na.fill('Missing Values').show()"
   ]
  },
  {
   "cell_type": "code",
   "execution_count": null,
   "id": "3f0e800a",
   "metadata": {
    "pycharm": {
     "is_executing": true
    }
   },
   "outputs": [],
   "source": [
    "# Filling missing values in a specific column\n",
    "authors_pyspark.na.fill('Missing Values', ['affiliations']).show()"
   ]
  },
  {
   "cell_type": "code",
   "execution_count": null,
   "id": "135f08d2",
   "metadata": {
    "pycharm": {
     "is_executing": true
    }
   },
   "outputs": [],
   "source": [
    "authors_pyspark.show()"
   ]
  },
  {
   "cell_type": "code",
   "execution_count": null,
   "id": "53cd5995",
   "metadata": {
    "pycharm": {
     "is_executing": true
    }
   },
   "outputs": [],
   "source": [
    "### filter operations\n",
    "authors_pyspark.filter('citations<1').show()"
   ]
  },
  {
   "cell_type": "code",
   "execution_count": null,
   "id": "a58907fd",
   "metadata": {
    "pycharm": {
     "is_executing": true
    }
   },
   "outputs": [],
   "source": [
    "### filter operations\n",
    "authors_pyspark.filter('citations<1').select(['name', 'pub_papers']).show()"
   ]
  },
  {
   "cell_type": "code",
   "execution_count": null,
   "id": "85ba6f24",
   "metadata": {
    "pycharm": {
     "is_executing": true
    }
   },
   "outputs": [],
   "source": [
    "### filter operations\n",
    "authors_pyspark.filter((authors_pyspark['citations']<1) & (authors_pyspark['pub_papers']<1)).show()"
   ]
  },
  {
   "cell_type": "code",
   "execution_count": null,
   "id": "233ff82d",
   "metadata": {
    "pycharm": {
     "is_executing": true
    }
   },
   "outputs": [],
   "source": [
    "### filter operations\n",
    "authors_pyspark.filter((authors_pyspark['citations']<1) | (authors_pyspark['pub_papers']<1)).show()"
   ]
  },
  {
   "cell_type": "code",
   "execution_count": null,
   "id": "4444702c",
   "metadata": {
    "pycharm": {
     "is_executing": true
    }
   },
   "outputs": [],
   "source": [
    "### filter operations - not condition ~\n",
    "authors_pyspark.filter(~(authors_pyspark['citations']<1)).show()"
   ]
  },
  {
   "cell_type": "code",
   "execution_count": null,
   "id": "bf10bf37",
   "metadata": {
    "pycharm": {
     "is_executing": true
    }
   },
   "outputs": [],
   "source": [
    "### group by and aggregate functions\n",
    "authors_pyspark.groupBy('name').sum('pub_papers', 'citations').show()"
   ]
  },
  {
   "cell_type": "code",
   "execution_count": 39,
   "id": "611baeb5",
   "metadata": {
    "pycharm": {
     "is_executing": true
    }
   },
   "outputs": [
    {
     "name": "stderr",
     "output_type": "stream",
     "text": [
      "                                                                                \r"
     ]
    }
   ],
   "source": [
    "papers_pyspark = spark.read.option('header', 'true').csv('./assets/parsedData/papers.csv', inferSchema=True)"
   ]
  },
  {
   "cell_type": "code",
   "execution_count": 40,
   "id": "ed3cb2cb",
   "metadata": {
    "pycharm": {
     "is_executing": true
    }
   },
   "outputs": [
    {
     "name": "stdout",
     "output_type": "stream",
     "text": [
      "+--------------------+--------------------+--------------------+-----+--------------------+---------+--------+\n",
      "|         paper_title|             authors|        affiliations| year|   publication_venue|citations|abstract|\n",
      "+--------------------+--------------------+--------------------+-----+--------------------+---------+--------+\n",
      "|Book Review: Disc...| Marjorie Richardson|                   -| 1998|       Linux Journal|        0|    null|\n",
      "|MOSFET table look...|                    |                    | 1984| Integration, the...|        0|    null|\n",
      "|The verification ...|    Virgil D. Gligor| Univ. of Marylan...| 1984| International Jo...|        0|    null|\n",
      "|Another view of f...| M. Gyssens;J. Pa...| Univ. of Antwerp...| 1984| International Jo...|        0|    null|\n",
      "|Entity-relationsh...| Sushil Jajodia;P...| University of Mi...| 1984| International Jo...|        0|    null|\n",
      "|The computer come...|         Rene Moreau|                   -| 1984| The computer com...|        0|    null|\n",
      "|Computationally e...| A. G. Akritas;S....| Univ. of Kansas,...| 1984| International Jo...|        0|    null|\n",
      "|The hierarchical ...| C. C. Chang;M. W...| National Chiao T...| 1983| Information Scie...|        0|    null|\n",
      "| Insertion languages|      David Haussler| University of De...| 1983| Information Scie...|        0|    null|\n",
      "|The Three-Machine...|           Hans Röck| Technical Univer...| 1984| Journal of the A...|        1|    null|\n",
      "|Lower Bounds and ...|    George M. Trojan| The Universtty o...| 1984| Journal of the A...|        0|    null|\n",
      "|Space-Time Trade-...|      John E. Savage| Brown Umversity,...| 1984| Journal of the A...|        4|    null|\n",
      "|The VLSI Complexi...|        Joseph Já Já| The Pennsylvania...| 1984| Journal of the A...|       12|    null|\n",
      "|Computability wit...| John S. Mallozzi...| Iona College, Ne...| 1984| Computability wi...|        0|    null|\n",
      "|Ambiguity and dec...| Karel Culik, II;...| Univ. of Waterlo...| 1984| Information and ...|        0|    null|\n",
      "|The implication p...|    John C. Mitchell|  MIT, Cambridge, MA| 1984| Information and ...|        0|    null|\n",
      "|Cynamic parallel ...| Uzi Vishkin;Avi ...| New York Univ., ...| 1984| Information and ...|        0|    null|\n",
      "|Succinct represen...| Hana Galperin;Av...| Mini Systems, In...| 1984| Information and ...|        0|    null|\n",
      "|On storage media ...| H. S. Witsenhaus...| Bell Laboratorie...| 1984| Information and ...|        0|    null|\n",
      "|A necessary and s...|                    |                    | 1984| Information and ...|        0|    null|\n",
      "+--------------------+--------------------+--------------------+-----+--------------------+---------+--------+\n",
      "only showing top 20 rows\n",
      "\n"
     ]
    }
   ],
   "source": [
    "papers_pyspark.show()"
   ]
  },
  {
   "cell_type": "code",
   "execution_count": null,
   "id": "d0ea1d08",
   "metadata": {
    "pycharm": {
     "is_executing": true
    }
   },
   "outputs": [],
   "source": [
    "papers_pyspark.dtypes"
   ]
  },
  {
   "cell_type": "code",
   "execution_count": 41,
   "id": "a2da285b",
   "metadata": {
    "pycharm": {
     "is_executing": true
    }
   },
   "outputs": [
    {
     "data": {
      "text/plain": [
       "[('year', 'string')]"
      ]
     },
     "execution_count": 41,
     "metadata": {},
     "output_type": "execute_result"
    }
   ],
   "source": [
    "papers_pyspark.select('year').dtypes"
   ]
  },
  {
   "cell_type": "code",
   "execution_count": 42,
   "id": "8494c025",
   "metadata": {
    "pycharm": {
     "is_executing": true
    }
   },
   "outputs": [],
   "source": [
    "### change year, citations dtypes from string to int\n",
    "from pyspark.sql.types import IntegerType\n",
    "papers_pyspark = papers_pyspark.withColumn(\"year\",papers_pyspark[\"year\"].cast(IntegerType()))\n",
    "papers_pyspark = papers_pyspark.withColumn(\"citations\",papers_pyspark[\"citations\"].cast(IntegerType()))"
   ]
  },
  {
   "cell_type": "code",
   "execution_count": 43,
   "id": "9e5bd70a",
   "metadata": {
    "pycharm": {
     "is_executing": true
    }
   },
   "outputs": [],
   "source": [
    "### remove leading and trailing spaces \n",
    "from pyspark.sql.functions import *\n",
    "papers_pyspark = papers_pyspark.withColumn(\"paper_title\", trim(papers_pyspark.paper_title))\n",
    "papers_pyspark = papers_pyspark.withColumn(\"authors\", trim(papers_pyspark.authors))\n",
    "papers_pyspark = papers_pyspark.withColumn(\"affiliations\", trim(papers_pyspark.affiliations))\n",
    "papers_pyspark = papers_pyspark.withColumn(\"publication_venue\", trim(papers_pyspark.publication_venue))\n",
    "papers_pyspark = papers_pyspark.withColumn(\"abstract\", trim(papers_pyspark.abstract))\n",
    "papers_pyspark = papers_pyspark.withColumn(\"citations\", trim(papers_pyspark.citations))\n",
    "papers_pyspark = papers_pyspark.withColumn(\"year\", trim(papers_pyspark.year))"
   ]
  },
  {
   "cell_type": "code",
   "execution_count": null,
   "id": "33774988",
   "metadata": {
    "pycharm": {
     "is_executing": true
    }
   },
   "outputs": [],
   "source": [
    "papers_pyspark.select('year').show(truncate=False)"
   ]
  },
  {
   "cell_type": "code",
   "execution_count": null,
   "id": "99060412",
   "metadata": {
    "pycharm": {
     "is_executing": true
    }
   },
   "outputs": [],
   "source": [
    "papers_pyspark.show()"
   ]
  },
  {
   "cell_type": "code",
   "execution_count": null,
   "id": "f8a89565",
   "metadata": {
    "pycharm": {
     "is_executing": true
    }
   },
   "outputs": [],
   "source": [
    "papers_pyspark.show(truncate=False)"
   ]
  },
  {
   "cell_type": "code",
   "execution_count": 44,
   "id": "bcf3047f",
   "metadata": {
    "pycharm": {
     "is_executing": true
    }
   },
   "outputs": [
    {
     "name": "stderr",
     "output_type": "stream",
     "text": [
      "[Stage 45:==============================================>          (9 + 2) / 11]\r"
     ]
    },
    {
     "name": "stdout",
     "output_type": "stream",
     "text": [
      "+-----------+--------------------+--------------------+----+--------------------+---------+--------------------+\n",
      "|paper_title|             authors|        affiliations|year|   publication_venue|citations|            abstract|\n",
      "+-----------+--------------------+--------------------+----+--------------------+---------+--------------------+\n",
      "|       null|Jorge J. Gómez-Sa...|                 -;-|2003|FTDCS '03 Proceed...|        0|                null|\n",
      "|       null|Robert Ghanea-Her...| -;-;-;-;-;-;-;-;-;-|2007|The Computer Journal|        0|The future digita...|\n",
      "|       null|Andrew M. Waterho...|           -;-;-;-;-|2009|      Bioinformatics|        0|Summary: Jalview ...|\n",
      "|       null|Tal Vider-Shalit;...|         -;-;-;-;-;-|2009|      Bioinformatics|        0|Motivation: Virus...|\n",
      "|       null|Tianwei Yu;Youngj...|             -;-;-;-|2009|      Bioinformatics|        0|Motivation: Liqui...|\n",
      "|       null|Jill L. Wegrzyn;J...|             -;-;-;-|2009|      Bioinformatics|        0|Summary: The Pine...|\n",
      "|       null|Kosaku Shinoda;Ma...|               -;-;-|2010|      Bioinformatics|        0|Summary: emPAI Ca...|\n",
      "|       null|Sebastian Briesem...|               -;-;-|2010|      Bioinformatics|        0|Motivation: Prote...|\n",
      "|       null|Christoph Müssel;...|               -;-;-|2010|      Bioinformatics|        0|Motivation: As th...|\n",
      "|       null|Juliane Liepe;Chr...|       -;-;-;-;-;-;-|2010|      Bioinformatics|        0|Motivation: The g...|\n",
      "|       null|Susanne Balzer;Ke...|           -;-;-;-;-|2010|      Bioinformatics|        0|Motivation: The c...|\n",
      "|       null|Ravi Shankar;Hele...|-;-;-;-;-;-;-;-;-...|2010|      Bioinformatics|        0|Summary: Computat...|\n",
      "|       null|Sergii Ivakhno;To...|         -;-;-;-;-;-|2010|      Bioinformatics|        0|Motivation: Copy ...|\n",
      "|       null|Vijay Garla;Yong ...|             -;-;-;-|2011|      Bioinformatics|        0|Motivation: Next-...|\n",
      "|       null|Sebastián Basterr...|             -;-;-;-|2011|The Computer Journal|        0|Random neural net...|\n",
      "|       null|Annekathrin Barts...| -;-;-;-;-;-;-;-;-;-|2011|      Bioinformatics|        0|Summary: GeneRepo...|\n",
      "|       null|Regev Schweiger;M...|               -;-;-|2011|      Bioinformatics|        0|Motivation: Much ...|\n",
      "|       null|Carissa G. Fonsec...|-;-;-;-;-;-;-;-;-...|2011|      Bioinformatics|        0|Motivation: Integ...|\n",
      "|       null|Tilo Eißler;Chris...|               -;-;-|2011|      Bioinformatics|        0|Motivation: Nucle...|\n",
      "|       null|Wei-Po Lee;Yu-Tin...|                 -;-|2011|The Computer Journal|        0|The construction ...|\n",
      "+-----------+--------------------+--------------------+----+--------------------+---------+--------------------+\n",
      "only showing top 20 rows\n",
      "\n"
     ]
    },
    {
     "name": "stderr",
     "output_type": "stream",
     "text": [
      "\r",
      "                                                                                \r"
     ]
    }
   ],
   "source": [
    "papers_pyspark.filter(papers_pyspark['paper_title'].isNull()).show()"
   ]
  },
  {
   "cell_type": "code",
   "execution_count": null,
   "id": "e128aed1",
   "metadata": {},
   "outputs": [],
   "source": []
  }
 ],
 "metadata": {
  "kernelspec": {
   "display_name": "Python 3 (ipykernel)",
   "language": "python",
   "name": "python3"
  },
  "language_info": {
   "codemirror_mode": {
    "name": "ipython",
    "version": 3
   },
   "file_extension": ".py",
   "mimetype": "text/x-python",
   "name": "python",
   "nbconvert_exporter": "python",
   "pygments_lexer": "ipython3",
   "version": "3.8.5"
  }
 },
 "nbformat": 4,
 "nbformat_minor": 5
}