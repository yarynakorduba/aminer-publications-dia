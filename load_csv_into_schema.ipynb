{
 "cells": [
  {
   "cell_type": "code",
   "execution_count": 1,
   "id": "4071cf9f",
   "metadata": {
    "pycharm": {
     "is_executing": true,
     "name": "#%%\n"
    }
   },
   "outputs": [],
   "source": [
    "from pyspark.sql import SparkSession"
   ]
  },
  {
   "cell_type": "code",
   "execution_count": 2,
   "id": "7626e981",
   "metadata": {
    "pycharm": {
     "is_executing": true
    }
   },
   "outputs": [],
   "source": [
    "import pandas as pd\n",
    "import pyspark.sql.functions as F\n",
    "from pyspark.sql.types import *\n",
    "from pyspark.sql.functions import *\n",
    "import pyspark.sql.types as T\n",
    "from pyspark.sql.types import IntegerType\n",
    "from pyspark.sql.window import Window\n",
    "from helpers import createDFFromFileAndSchema, clean_special_letters, clean_special_character"
   ]
  },
  {
   "cell_type": "code",
   "execution_count": 3,
   "id": "3ae6ee91",
   "metadata": {
    "pycharm": {
     "is_executing": true,
     "name": "#%%\n"
    }
   },
   "outputs": [
    {
     "name": "stderr",
     "output_type": "stream",
     "text": [
      "Using Spark's default log4j profile: org/apache/spark/log4j-defaults.properties\n",
      "Setting default log level to \"WARN\".\n",
      "To adjust logging level use sc.setLogLevel(newLevel). For SparkR, use setLogLevel(newLevel).\n",
      "22/01/20 15:47:51 WARN NativeCodeLoader: Unable to load native-hadoop library for your platform... using builtin-java classes where applicable\n"
     ]
    }
   ],
   "source": [
    "spark=SparkSession.builder.appName('read data through spark').getOrCreate()"
   ]
  },
  {
   "cell_type": "code",
   "execution_count": 4,
   "id": "fb68a75d",
   "metadata": {
    "pycharm": {
     "is_executing": true,
     "name": "#%%\n"
    }
   },
   "outputs": [
    {
     "data": {
      "text/html": [
       "\n",
       "            <div>\n",
       "                <p><b>SparkSession - in-memory</b></p>\n",
       "                \n",
       "        <div>\n",
       "            <p><b>SparkContext</b></p>\n",
       "\n",
       "            <p><a href=\"http://s-16.vc-graz.ac.at:4040\">Spark UI</a></p>\n",
       "\n",
       "            <dl>\n",
       "              <dt>Version</dt>\n",
       "                <dd><code>v3.2.0</code></dd>\n",
       "              <dt>Master</dt>\n",
       "                <dd><code>local[*]</code></dd>\n",
       "              <dt>AppName</dt>\n",
       "                <dd><code>read data through spark</code></dd>\n",
       "            </dl>\n",
       "        </div>\n",
       "        \n",
       "            </div>\n",
       "        "
      ],
      "text/plain": [
       "<pyspark.sql.session.SparkSession at 0x7fa76125d6d0>"
      ]
     },
     "execution_count": 4,
     "metadata": {},
     "output_type": "execute_result"
    }
   ],
   "source": [
    "spark"
   ]
  },
  {
   "cell_type": "code",
   "execution_count": 5,
   "id": "062ec083",
   "metadata": {},
   "outputs": [],
   "source": [
    "SCHEMAS_FOLDER = './schemas/'\n",
    "FILES_FOLDER = './assets/parsedData/'"
   ]
  },
  {
   "cell_type": "markdown",
   "id": "5d92dff5",
   "metadata": {},
   "source": [
    "# Load and clean Paper DF"
   ]
  },
  {
   "cell_type": "code",
   "execution_count": 6,
   "id": "f2f871ce",
   "metadata": {
    "pycharm": {
     "is_executing": true,
     "name": "#%%\n"
    }
   },
   "outputs": [
    {
     "name": "stdout",
     "output_type": "stream",
     "text": [
      "File path: ./assets/parsedData/papers.csv, schema path: ./schemas/paper.csv\n",
      "Types from schema: [('paper_id', 'Integer'), ('title', 'String'), ('year', 'Integer')]\n"
     ]
    },
    {
     "name": "stderr",
     "output_type": "stream",
     "text": [
      "\r",
      "[Stage 0:>                                                          (0 + 1) / 1]\r"
     ]
    },
    {
     "name": "stdout",
     "output_type": "stream",
     "text": [
      "+--------+--------------------+----+\n",
      "|paper_id|               title|year|\n",
      "+--------+--------------------+----+\n",
      "|      65|Direct file organ...|1984|\n",
      "|     130|An introduction t...|1983|\n",
      "|     195|On solving almost...|1984|\n",
      "|     260|Connections betwe...|1984|\n",
      "|     325|Computers and pen...|1984|\n",
      "|     390|Relativizations c...|1984|\n",
      "|     455|On the optimum ch...|1984|\n",
      "|     520|All points addres...|1984|\n",
      "|     585|Optimum Head Sepa...|1984|\n",
      "|     650|A parallel-design...|1984|\n",
      "|     715|Computer - IEEE C...|1984|\n",
      "|     780|Experience with G...|1984|\n",
      "|     845|Code generation a...|1984|\n",
      "|     910|On estimating acc...|1984|\n",
      "|     975|A distributed alt...|1985|\n",
      "|    1040|A comparison of t...|1984|\n",
      "|    1105|Generalizing spec...|1985|\n",
      "|    1170|Real time graphic...|1984|\n",
      "|    1235|Common and uncomm...|1984|\n",
      "|    1300|Foundations of co...|1985|\n",
      "+--------+--------------------+----+\n",
      "only showing top 20 rows\n",
      "\n"
     ]
    },
    {
     "name": "stderr",
     "output_type": "stream",
     "text": [
      "\r",
      "                                                                                \r"
     ]
    }
   ],
   "source": [
    "### load paper into schema\n",
    "paper_df = createDFFromFileAndSchema(spark, f'{FILES_FOLDER}papers.csv', f'{SCHEMAS_FOLDER}paper.csv')\n",
    "paper_df.show()"
   ]
  },
  {
   "cell_type": "code",
   "execution_count": 7,
   "id": "3054c0b5",
   "metadata": {
    "pycharm": {
     "is_executing": true
    }
   },
   "outputs": [],
   "source": [
    "### data cleaning for paper schema\n",
    "\n",
    "### remove spaces from values of the columns\n",
    "paper_df = paper_df.withColumn(\"paper_id\", trim(paper_df.paper_id))\n",
    "paper_df = paper_df.withColumn(\"title\", trim(paper_df.title))\n",
    "paper_df = paper_df.withColumn(\"year\", trim(paper_df.year))"
   ]
  },
  {
   "cell_type": "code",
   "execution_count": 8,
   "id": "285bb60f",
   "metadata": {
    "pycharm": {
     "is_executing": true
    }
   },
   "outputs": [
    {
     "name": "stdout",
     "output_type": "stream",
     "text": [
      "root\n",
      " |-- paper_id: string (nullable = true)\n",
      " |-- title: string (nullable = true)\n",
      " |-- year: string (nullable = true)\n",
      "\n"
     ]
    }
   ],
   "source": [
    "### check for the data types\n",
    "paper_df.printSchema()\n",
    "### change the data type of year to Integer\n",
    "paper_df = paper_df.withColumn(\"year\",paper_df[\"year\"].cast(IntegerType()))"
   ]
  },
  {
   "cell_type": "code",
   "execution_count": 9,
   "id": "40fc4cf2",
   "metadata": {
    "pycharm": {
     "is_executing": true
    }
   },
   "outputs": [
    {
     "name": "stderr",
     "output_type": "stream",
     "text": [
      "                                                                                \r"
     ]
    }
   ],
   "source": [
    "### check for nonsense null data\n",
    "null_values_paper_df = paper_df.select([count(when(isnan(c) | col(c).isNull(), c)).alias(c) for c in paper_df.columns]\n",
    "   )\n",
    "### save the ids of papers whose title is missing to clean up the other dataframes\n",
    "null_paper_ids = paper_df.filter(paper_df['title'].isNull())\n",
    "null_paper_ids_list=null_paper_ids.select('paper_id').rdd.flatMap(lambda x: x).collect()\n",
    "null_paper_ids_list = [int(item) for item in null_paper_ids_list]"
   ]
  },
  {
   "cell_type": "code",
   "execution_count": 10,
   "id": "fbdfb814",
   "metadata": {
    "pycharm": {
     "is_executing": true
    }
   },
   "outputs": [],
   "source": [
    "### after checking the below dataframes, all papers whose title is missing have the authors besides paper_id = 748056\n",
    "### decision: fill missing titles with : Missing Title\n",
    "\n",
    "paper_df=paper_df.na.fill('Missing Title', ['title'])"
   ]
  },
  {
   "cell_type": "code",
   "execution_count": 11,
   "id": "12f62d8e",
   "metadata": {
    "pycharm": {
     "is_executing": true
    }
   },
   "outputs": [],
   "source": [
    "### remove special characters\n",
    "paper_df=clean_special_character(paper_df,'title')"
   ]
  },
  {
   "cell_type": "code",
   "execution_count": 12,
   "id": "53f0f49a",
   "metadata": {
    "pycharm": {
     "is_executing": true
    }
   },
   "outputs": [
    {
     "data": {
      "text/plain": [
       "['paper_id', 'title', 'year']"
      ]
     },
     "execution_count": 12,
     "metadata": {},
     "output_type": "execute_result"
    }
   ],
   "source": [
    "paper_df.columns"
   ]
  },
  {
   "cell_type": "code",
   "execution_count": 13,
   "id": "6b78e5ec",
   "metadata": {
    "pycharm": {
     "is_executing": true
    }
   },
   "outputs": [
    {
     "name": "stderr",
     "output_type": "stream",
     "text": [
      "22/01/20 15:48:33 WARN RowBasedKeyValueBatch: Calling spill() on RowBasedKeyValueBatch. Will not spill but return 0.\n",
      "22/01/20 15:48:34 WARN RowBasedKeyValueBatch: Calling spill() on RowBasedKeyValueBatch. Will not spill but return 0.\n",
      "22/01/20 15:48:34 WARN RowBasedKeyValueBatch: Calling spill() on RowBasedKeyValueBatch. Will not spill but return 0.\n",
      "                                                                                \r"
     ]
    },
    {
     "name": "stdout",
     "output_type": "stream",
     "text": [
      "+--------+--------------------+----+-------------------+\n",
      "|paper_id|               title|year|Duplicate_indicator|\n",
      "+--------+--------------------+----+-------------------+\n",
      "|      10|The Three-Machine...|1984|                  0|\n",
      "|     100|A structured appr...|1983|                  0|\n",
      "| 1000003|Allocation tolera...|2007|                  0|\n",
      "| 1000006|Numerical and exp...|2007|                  0|\n",
      "|  100001|The operation and...|1991|                  0|\n",
      "| 1000012|An accurate and f...|2007|                  0|\n",
      "| 1000015|Increasing the ef...|2007|                  0|\n",
      "| 1000023|Modeling and line...|2007|                  0|\n",
      "| 1000035|Asymmetric pricin...|2007|                  0|\n",
      "| 1000041|Practical conside...|2007|                  0|\n",
      "| 1000049|A data simulation...|2007|                  0|\n",
      "| 1000052|An integrated met...|2007|                  0|\n",
      "| 1000054|Towards a grid si...|2007|                  0|\n",
      "| 1000056|Shape efficiency ...|2007|                  0|\n",
      "|  100006|Implications of n...|1991|                  0|\n",
      "| 1000065|Capacity analysis...|2007|                  0|\n",
      "| 1000069|Evaluation of dua...|2007|                  0|\n",
      "| 1000077|Time series analy...|2007|                  0|\n",
      "| 1000083|Image-based motio...|2007|                  0|\n",
      "| 1000096|Tree decompositio...|2007|                  0|\n",
      "+--------+--------------------+----+-------------------+\n",
      "only showing top 20 rows\n",
      "\n"
     ]
    },
    {
     "name": "stderr",
     "output_type": "stream",
     "text": [
      "[Stage 9:>                                                          (0 + 4) / 4]\r"
     ]
    },
    {
     "name": "stdout",
     "output_type": "stream",
     "text": [
      "+--------+-----+\n",
      "|paper_id|count|\n",
      "+--------+-----+\n",
      "+--------+-----+\n",
      "\n"
     ]
    },
    {
     "name": "stderr",
     "output_type": "stream",
     "text": [
      "\r",
      "                                                                                \r"
     ]
    }
   ],
   "source": [
    "### check if there are duplicate rows\n",
    "paper_df.join(paper_df.groupBy(paper_df.columns).agg((F.count(\"*\")>1).cast(\"int\").alias(\"Duplicate_indicator\")),\n",
    "on=paper_df.columns,how=\"inner\").show()\n",
    "###there are no duplicates\n",
    "paper_df.groupby(['paper_id']).count().where('count > 1').sort('count', ascending=False).show()"
   ]
  },
  {
   "cell_type": "code",
   "execution_count": 14,
   "id": "df50d456",
   "metadata": {
    "pycharm": {
     "is_executing": true
    }
   },
   "outputs": [],
   "source": [
    "# paper_df.filter(unique_paper_author_df['title'].like(\"%%\")).show(20,False)"
   ]
  },
  {
   "cell_type": "markdown",
   "id": "912b2ccd",
   "metadata": {},
   "source": [
    "# Load and clean paper_authors"
   ]
  },
  {
   "cell_type": "code",
   "execution_count": 15,
   "id": "fcee7867",
   "metadata": {},
   "outputs": [
    {
     "name": "stdout",
     "output_type": "stream",
     "text": [
      "File path: ./assets/parsedData/paper_authors.csv, schema path: ./schemas/paper_authors.csv\n",
      "Types from schema: [('authors', 'String'), ('paper_id', 'Integer')]\n",
      "+--------------------+--------+\n",
      "|             authors|paper_id|\n",
      "+--------------------+--------+\n",
      "| K Devine;F J. Smith|      65|\n",
      "|J Wolff von Guden...|     130|\n",
      "|J. K. Reid;A. Jen...|     195|\n",
      "|William G. Golson...|     260|\n",
      "|    Stein Schjolberg|     325|\n",
      "|W Ian Gasarch;Ste...|     390|\n",
      "|Sam Toueg;Özalp B...|     455|\n",
      "|Frederick H. Dill...|     520|\n",
      "|A. R. Calderbank;...|     585|\n",
      "|         Uzi Vishkin|     650|\n",
      "|      Stephen S. Yau|     715|\n",
      "|Michael D. Schroe...|     780|\n",
      "|         S L. Graham|     845|\n",
      "|D Maio;M R. Scala...|     910|\n",
      "|         Pamela Zave|     975|\n",
      "|G. Salton;E. Voor...|    1040|\n",
      "|Douglas D. Dunlop...|    1105|\n",
      "|Patrick Peruch;Vi...|    1170|\n",
      "| Robert J. Sternberg|    1235|\n",
      "|Curtis Roads;John...|    1300|\n",
      "+--------------------+--------+\n",
      "only showing top 20 rows\n",
      "\n"
     ]
    }
   ],
   "source": [
    "### load paper_authors into schema\n",
    "paper_author_df = createDFFromFileAndSchema(spark, f'{FILES_FOLDER}paper_authors.csv', f'{SCHEMAS_FOLDER}paper_authors.csv')\n",
    "paper_author_df.show()"
   ]
  },
  {
   "cell_type": "code",
   "execution_count": 16,
   "id": "278c1964",
   "metadata": {},
   "outputs": [],
   "source": [
    "### remove leadind and trailing spaces\n",
    "paper_author_df = paper_author_df.withColumn(\"authors\", trim(paper_author_df.authors))\n",
    "paper_author_df = paper_author_df.withColumn(\"paper_id\", trim(paper_author_df.paper_id))"
   ]
  },
  {
   "cell_type": "code",
   "execution_count": 17,
   "id": "58e669a1",
   "metadata": {},
   "outputs": [],
   "source": [
    "### change data type for paper_id to Integer\n",
    "paper_author_df = paper_author_df.withColumn(\"paper_id\",paper_author_df[\"paper_id\"].cast(IntegerType()))\n"
   ]
  },
  {
   "cell_type": "code",
   "execution_count": 18,
   "id": "b2504316",
   "metadata": {},
   "outputs": [],
   "source": [
    "### remove special letters\n",
    "paper_author_df=clean_special_letters(paper_author_df, 'authors')"
   ]
  },
  {
   "cell_type": "code",
   "execution_count": 19,
   "id": "39f99aae",
   "metadata": {},
   "outputs": [],
   "source": [
    "###null_values_paper_authors=paper_author_df.select([count(when(isnan(c) | col(c).isNull(), c)).alias(c) for c in paper_author_df.columns])\n",
    "\n",
    "### check if authors are missing as well for the ids whose title was missing in paper_df\n",
    "###for rows in paper_author_df.select(\"authors\",\"paper_id\").collect():\n",
    "###    if rows[1] in null_paper_ids_list:\n",
    "###        print(rows[0], rows[1])"
   ]
  },
  {
   "cell_type": "code",
   "execution_count": 20,
   "id": "07360376",
   "metadata": {},
   "outputs": [
    {
     "name": "stdout",
     "output_type": "stream",
     "text": [
      "+--------+---------------------+\n",
      "|paper_id|author               |\n",
      "+--------+---------------------+\n",
      "|65      |K Devine             |\n",
      "|65      |F J. Smith           |\n",
      "|130     |J Wolff von Gudenberg|\n",
      "|195     |J. K. Reid           |\n",
      "|195     |A. Jennings          |\n",
      "|260     |William G. Golson    |\n",
      "|260     |William C. Rounds    |\n",
      "|325     |Stein Schjolberg     |\n",
      "|390     |W Ian Gasarch        |\n",
      "|390     |Steven Homer         |\n",
      "|455     |Sam Toueg            |\n",
      "|455     |zalp Babaoğlu        |\n",
      "|520     |Frederick H. Dill    |\n",
      "|520     |Satish Gupta         |\n",
      "|520     |Daniel T. Ling       |\n",
      "|520     |Richard E. Matick    |\n",
      "|585     |A. R. Calderbank     |\n",
      "|585     |E. G. Coffman, Jr.   |\n",
      "|585     |L. Flatto            |\n",
      "|650     |Uzi Vishkin          |\n",
      "+--------+---------------------+\n",
      "only showing top 20 rows\n",
      "\n",
      "+---------------------------------------------------------------+--------+\n",
      "|authors                                                        |paper_id|\n",
      "+---------------------------------------------------------------+--------+\n",
      "|K Devine;F J. Smith                                            |65      |\n",
      "|J Wolff von Gudenberg                                          |130     |\n",
      "|J. K. Reid;A. Jennings                                         |195     |\n",
      "|William G. Golson;William C. Rounds                            |260     |\n",
      "|Stein Schjolberg                                               |325     |\n",
      "|W Ian Gasarch;Steven Homer                                     |390     |\n",
      "|Sam Toueg;zalp Babaoğlu                                        |455     |\n",
      "|Frederick H. Dill;Satish Gupta;Daniel T. Ling;Richard E. Matick|520     |\n",
      "|A. R. Calderbank;E. G. Coffman, Jr.;L. Flatto                  |585     |\n",
      "|Uzi Vishkin                                                    |650     |\n",
      "|Stephen S. Yau                                                 |715     |\n",
      "|Michael D. Schroeder;Andrew D. Birrell;Roger M. Needham        |780     |\n",
      "|S L. Graham                                                    |845     |\n",
      "|D Maio;M R. Scalas;P Tiberio                                   |910     |\n",
      "|Pamela Zave                                                    |975     |\n",
      "|G. Salton;E. Voorhees;E. A. Fox                                |1040    |\n",
      "|Douglas D. Dunlop;Victor R. Basili                             |1105    |\n",
      "|Patrick Peruch;Viola Cavallo;Christian Deutsch;Jean Pailhous   |1170    |\n",
      "|Robert J. Sternberg                                            |1235    |\n",
      "|Curtis Roads;John Strawn                                       |1300    |\n",
      "+---------------------------------------------------------------+--------+\n",
      "only showing top 20 rows\n",
      "\n"
     ]
    }
   ],
   "source": [
    "### split authors so we can have clean data and seperate records {paper_id; author}\n",
    "unique_paper_author_df = paper_author_df.select(F.col(\"paper_id\"), F.explode(F.split(F.col(\"authors\"),\";\")).alias(\"author\"))\n",
    "unique_paper_author_df.show(20, False)\n",
    "paper_author_df.show(20, False)"
   ]
  },
  {
   "cell_type": "code",
   "execution_count": 21,
   "id": "7ed2185b",
   "metadata": {},
   "outputs": [],
   "source": [
    "### remove leadind and trailing spaces\n",
    "unique_paper_author_df = unique_paper_author_df.withColumn(\"author\", trim(unique_paper_author_df.author))\n",
    "unique_paper_author_df = unique_paper_author_df.withColumn(\"paper_id\", trim(unique_paper_author_df.paper_id))\n",
    "### change data type for paper_id to Integer\n",
    "unique_paper_author_df = unique_paper_author_df.withColumn(\"paper_id\",unique_paper_author_df[\"paper_id\"].cast(IntegerType()))\n"
   ]
  },
  {
   "cell_type": "code",
   "execution_count": 22,
   "id": "c08dd87a",
   "metadata": {},
   "outputs": [],
   "source": [
    "### remove special characters\n",
    "unique_paper_author_df=clean_special_character(unique_paper_author_df, 'author')"
   ]
  },
  {
   "cell_type": "code",
   "execution_count": 23,
   "id": "3e64ec1e",
   "metadata": {},
   "outputs": [],
   "source": [
    "### lowercase author-name\n",
    "unique_paper_author_df=unique_paper_author_df.withColumn('author', lower(col('author')))"
   ]
  },
  {
   "cell_type": "code",
   "execution_count": 24,
   "id": "f4934708",
   "metadata": {},
   "outputs": [
    {
     "name": "stderr",
     "output_type": "stream",
     "text": [
      "22/01/20 15:49:18 WARN RowBasedKeyValueBatch: Calling spill() on RowBasedKeyValueBatch. Will not spill but return 0.\n",
      "22/01/20 15:49:19 WARN RowBasedKeyValueBatch: Calling spill() on RowBasedKeyValueBatch. Will not spill but return 0.\n",
      "22/01/20 15:49:19 WARN RowBasedKeyValueBatch: Calling spill() on RowBasedKeyValueBatch. Will not spill but return 0.\n",
      "22/01/20 15:49:19 WARN RowBasedKeyValueBatch: Calling spill() on RowBasedKeyValueBatch. Will not spill but return 0.\n",
      "22/01/20 15:49:48 WARN RowBasedKeyValueBatch: Calling spill() on RowBasedKeyValueBatch. Will not spill but return 0.\n",
      "22/01/20 15:49:48 WARN RowBasedKeyValueBatch: Calling spill() on RowBasedKeyValueBatch. Will not spill but return 0.\n",
      "22/01/20 15:49:48 WARN RowBasedKeyValueBatch: Calling spill() on RowBasedKeyValueBatch. Will not spill but return 0.\n",
      "22/01/20 15:49:48 WARN RowBasedKeyValueBatch: Calling spill() on RowBasedKeyValueBatch. Will not spill but return 0.\n",
      "22/01/20 15:50:04 WARN RowBasedKeyValueBatch: Calling spill() on RowBasedKeyValueBatch. Will not spill but return 0.\n",
      "22/01/20 15:50:04 WARN RowBasedKeyValueBatch: Calling spill() on RowBasedKeyValueBatch. Will not spill but return 0.\n",
      "22/01/20 15:50:04 WARN RowBasedKeyValueBatch: Calling spill() on RowBasedKeyValueBatch. Will not spill but return 0.\n",
      "22/01/20 15:50:04 WARN RowBasedKeyValueBatch: Calling spill() on RowBasedKeyValueBatch. Will not spill but return 0.\n",
      "22/01/20 15:50:05 WARN RowBasedKeyValueBatch: Calling spill() on RowBasedKeyValueBatch. Will not spill but return 0.\n",
      "22/01/20 15:50:05 WARN RowBasedKeyValueBatch: Calling spill() on RowBasedKeyValueBatch. Will not spill but return 0.\n",
      "22/01/20 15:50:05 WARN RowBasedKeyValueBatch: Calling spill() on RowBasedKeyValueBatch. Will not spill but return 0.\n",
      "22/01/20 15:50:05 WARN RowBasedKeyValueBatch: Calling spill() on RowBasedKeyValueBatch. Will not spill but return 0.\n"
     ]
    },
    {
     "name": "stdout",
     "output_type": "stream",
     "text": [
      "+--------+--------------------+-----+\n",
      "|paper_id|              author|count|\n",
      "+--------+--------------------+-----+\n",
      "| 1523221|        dongkun shin|    4|\n",
      "| 2040206|        mingshu wang|    3|\n",
      "| 2059316|       han chuanfeng|    3|\n",
      "| 2040206|        anchun cheng|    3|\n",
      "| 1202294|           n. sharma|    3|\n",
      "| 2042230|             lu leng|    3|\n",
      "| 1198797|    alladi venkatesh|    2|\n",
      "| 1503841|   a. a. khoroshilov|    2|\n",
      "| 1939475|        nicola ferro|    2|\n",
      "|  128862|         yang w. lee|    2|\n",
      "| 1423835|deogratias harori...|    2|\n",
      "| 1440869|  mehdi khosrow-pour|    2|\n",
      "| 1018879|       bruce spencer|    2|\n",
      "|  390835|       jeff van west|    2|\n",
      "| 1668760|       pradeep kumar|    2|\n",
      "| 1900087|              cao yi|    2|\n",
      "| 1900218|        dongqiang xu|    2|\n",
      "| 2083391|      m. chidambaram|    2|\n",
      "| 1167734| theodore a. bakalar|    2|\n",
      "| 1423827|            xin geng|    2|\n",
      "+--------+--------------------+-----+\n",
      "only showing top 20 rows\n",
      "\n"
     ]
    },
    {
     "name": "stderr",
     "output_type": "stream",
     "text": [
      "\r",
      "                                                                                \r"
     ]
    }
   ],
   "source": [
    "### check for duplicate rows:\n",
    "unique_paper_author_df.groupby(['paper_id', 'author']).count().where('count > 1').sort('count', ascending=False).show()\n",
    "\n",
    "### drop duplicate rows since here we need unique paper-author relation\n",
    "unique_paper_author_df=unique_paper_author_df.dropDuplicates()"
   ]
  },
  {
   "cell_type": "code",
   "execution_count": 25,
   "id": "11fc36a4",
   "metadata": {},
   "outputs": [
    {
     "name": "stderr",
     "output_type": "stream",
     "text": [
      "[Stage 16:==============>                                           (1 + 3) / 4]\r"
     ]
    },
    {
     "name": "stdout",
     "output_type": "stream",
     "text": [
      "+--------+---------+\n",
      "|paper_id|     name|\n",
      "+--------+---------+\n",
      "|     470|soderlund|\n",
      "|    1700|     ceri|\n",
      "|    1821|     suri|\n",
      "|    1895|     plum|\n",
      "|    3259|      iii|\n",
      "|    3523| cardelli|\n",
      "|    3582| williams|\n",
      "|    3717|silvester|\n",
      "|    5083|prodinger|\n",
      "|    5151|   verity|\n",
      "|    7290|  swieten|\n",
      "|    8388|     huet|\n",
      "|    8581| stoddart|\n",
      "|    9505| korfhage|\n",
      "|   10149| phillips|\n",
      "|   10610|     saad|\n",
      "|   11188|     maio|\n",
      "|   11391|    tracz|\n",
      "|   11703|   landau|\n",
      "|   11831|   reeves|\n",
      "+--------+---------+\n",
      "only showing top 20 rows\n",
      "\n"
     ]
    },
    {
     "name": "stderr",
     "output_type": "stream",
     "text": [
      "\r",
      "[Stage 18:>                                                         (0 + 1) / 1]\r",
      "\r",
      "                                                                                \r"
     ]
    }
   ],
   "source": [
    "### split author-name so we keep only the surname\n",
    "unique_paper_author_cleaned_df = unique_paper_author_df.select(F.col(\"paper_id\"), F.trim(F.element_at \\\n",
    "                    (F.split(F.col(\"author\"),\" \"),-1)).alias('name'))\n",
    "unique_paper_author_cleaned_df.show()"
   ]
  },
  {
   "cell_type": "code",
   "execution_count": 26,
   "id": "8dcf9204",
   "metadata": {},
   "outputs": [
    {
     "name": "stderr",
     "output_type": "stream",
     "text": [
      "[Stage 19:===========================================>              (3 + 1) / 4]\r"
     ]
    },
    {
     "name": "stdout",
     "output_type": "stream",
     "text": [
      "+--------+----------------------+\n",
      "|paper_id|author                |\n",
      "+--------+----------------------+\n",
      "|470     |lars soderlund        |\n",
      "|1700    |s. ceri               |\n",
      "|1821    |rajan suri            |\n",
      "|1895    |thomas plum           |\n",
      "|3259    |george m. whitson, iii|\n",
      "|3523    |luca cardelli         |\n",
      "|3582    |martha e. williams    |\n",
      "|3717    |p. p. silvester       |\n",
      "|5083    |h prodinger           |\n",
      "|5151    |john w verity         |\n",
      "|7290    |a c m van swieten     |\n",
      "|8388    |g huet                |\n",
      "|8581    |bill stoddart         |\n",
      "|9505    |r r korfhage          |\n",
      "|10149   |t n phillips          |\n",
      "|10610   |youcef saad           |\n",
      "|11188   |d maio                |\n",
      "|11391   |w tracz               |\n",
      "|11703   |marie-claude landau   |\n",
      "|11831   |thomas c reeves       |\n",
      "+--------+----------------------+\n",
      "only showing top 20 rows\n",
      "\n"
     ]
    },
    {
     "name": "stderr",
     "output_type": "stream",
     "text": [
      "\r",
      "[Stage 21:>                                                         (0 + 1) / 1]\r",
      "\r",
      "                                                                                \r"
     ]
    }
   ],
   "source": [
    "unique_paper_author_df.show(truncate=False)"
   ]
  },
  {
   "cell_type": "code",
   "execution_count": null,
   "id": "6fafe971",
   "metadata": {},
   "outputs": [],
   "source": []
  },
  {
   "cell_type": "markdown",
   "id": "7680a4f7",
   "metadata": {},
   "source": [
    "# Clean and Load Authors df"
   ]
  },
  {
   "cell_type": "code",
   "execution_count": 27,
   "id": "4045db44",
   "metadata": {},
   "outputs": [
    {
     "name": "stdout",
     "output_type": "stream",
     "text": [
      "File path: ./assets/parsedData/authors.csv, schema path: ./schemas/author.csv\n",
      "Types from schema: [('author_id', 'Integer'), ('citation_count', 'Integer'), ('h_index', 'Integer'), ('name', 'String'), ('paper_count', 'Integer')]\n",
      "+---------+--------------+-------+--------------------+-----------+\n",
      "|author_id|citation_count|h_index|                name|paper_count|\n",
      "+---------+--------------+-------+--------------------+-----------+\n",
      "|       17|             0|      0|     J. Michael Howe|          1|\n",
      "|       34|             0|      0|        Haitham Gabr|          2|\n",
      "|       51|             4|      1|         Emma Tonkin|          8|\n",
      "|       68|             1|      1|        Woochul Shin|          4|\n",
      "|       85|             0|      0|           S Improta|          1|\n",
      "|      102|             8|      2|       Richard Ferri|          5|\n",
      "|      119|             0|      0|            Qing Liu|          1|\n",
      "|      136|             0|      0|      Artur Gramacki|          2|\n",
      "|      153|             0|      0|Olumuyiwa Oluwasanmi|          2|\n",
      "|      170|             0|      0|    Josef Willenborg|          1|\n",
      "|      187|             0|      0|            Qing Wei|          1|\n",
      "|      204|             4|      1|Jurey Ivanovich Z...|          1|\n",
      "|      221|            13|      1|             Anny Ng|          1|\n",
      "|      238|             2|      1|    Nikos B. Pronios|          3|\n",
      "|      255|             0|      0| Lourdes Fraga Alman|          1|\n",
      "|      272|             2|      1|       Junji Nishino|          7|\n",
      "|      289|             0|      0|       L. Dascalescu|          2|\n",
      "|      306|             0|      0|    Masakazu Nishino|          1|\n",
      "|      323|             4|      1|    Jean-Rémi Duquet|          2|\n",
      "|      340|             1|      1|     Brian A. Canada|          2|\n",
      "+---------+--------------+-------+--------------------+-----------+\n",
      "only showing top 20 rows\n",
      "\n",
      "root\n",
      " |-- author_id: integer (nullable = true)\n",
      " |-- citation_count: integer (nullable = true)\n",
      " |-- h_index: integer (nullable = true)\n",
      " |-- name: string (nullable = true)\n",
      " |-- paper_count: integer (nullable = true)\n",
      "\n"
     ]
    }
   ],
   "source": [
    "### load author into schema\n",
    "author_df = createDFFromFileAndSchema(spark, f'{FILES_FOLDER}authors.csv', f'{SCHEMAS_FOLDER}author.csv')\n",
    "author_df.show()\n",
    "\n",
    "author_df.printSchema()"
   ]
  },
  {
   "cell_type": "code",
   "execution_count": 28,
   "id": "616c4cf1",
   "metadata": {},
   "outputs": [],
   "source": [
    "### remove spaces from values of the columns\n",
    "author_df = author_df.withColumn(\"author_id\", trim(author_df.author_id))\n",
    "author_df = author_df.withColumn(\"citation_count\", trim(author_df.citation_count))\n",
    "author_df = author_df.withColumn(\"h_index\", trim(author_df.h_index))\n",
    "author_df = author_df.withColumn(\"name\", trim(author_df.name))\n",
    "author_df = author_df.withColumn(\"paper_count\", trim(author_df.paper_count))"
   ]
  },
  {
   "cell_type": "code",
   "execution_count": 29,
   "id": "14b4745a",
   "metadata": {},
   "outputs": [],
   "source": [
    "\n",
    "### change data type of author_id, paper_count, citation_count, h_index to Integer\n",
    "author_df = author_df.withColumn(\"author_id\",author_df[\"author_id\"].cast(IntegerType()))\n",
    "author_df = author_df.withColumn(\"citation_count\",author_df[\"citation_count\"].cast(IntegerType()))\n",
    "author_df = author_df.withColumn(\"h_index\",author_df[\"h_index\"].cast(IntegerType()))\n",
    "author_df = author_df.withColumn(\"paper_count\",author_df[\"paper_count\"].cast(IntegerType()))"
   ]
  },
  {
   "cell_type": "code",
   "execution_count": 30,
   "id": "8dedb8ca",
   "metadata": {},
   "outputs": [
    {
     "name": "stderr",
     "output_type": "stream",
     "text": [
      "                                                                                \r"
     ]
    },
    {
     "name": "stdout",
     "output_type": "stream",
     "text": [
      "+---------+--------------+-------+----+-----------+\n",
      "|author_id|citation_count|h_index|name|paper_count|\n",
      "+---------+--------------+-------+----+-----------+\n",
      "|        0|             2|      2|   3|          2|\n",
      "+---------+--------------+-------+----+-----------+\n",
      "\n"
     ]
    }
   ],
   "source": [
    "### check for nonsense null data\n",
    "null_values_author_df = author_df.select([count(when(isnan(c) | col(c).isNull(), c)).alias(c) for c in author_df.columns]\n",
    "   )\n",
    "null_values_author_df.show()\n",
    "\n",
    "### Decided to drop rows whose author--name is missing (2 authors)\n",
    "### At the moment we can evaluate precomputed paper_count and citation_count only if we have the author_names\n",
    "\n",
    "### author_df=author_df.na.drop(how=\"any\", subset=['name'])"
   ]
  },
  {
   "cell_type": "code",
   "execution_count": 31,
   "id": "6da14c71",
   "metadata": {},
   "outputs": [],
   "source": [
    "### fill empty paper_count, citation_count, h_index to 0   (just one author)\n",
    "author_df=author_df.na.fill(value=0, subset='paper_count')\n",
    "author_df=author_df.na.fill(value=0, subset='citation_count')\n",
    "author_df=author_df.na.fill(value=0, subset='h_index')"
   ]
  },
  {
   "cell_type": "code",
   "execution_count": 32,
   "id": "4cb698f7",
   "metadata": {},
   "outputs": [],
   "source": [
    "### remove special characters like í, â, é\n",
    "author_df=clean_special_letters(author_df, 'name')"
   ]
  },
  {
   "cell_type": "code",
   "execution_count": 33,
   "id": "f2bd0eb9",
   "metadata": {},
   "outputs": [],
   "source": [
    "### remove special characters\n",
    "author_df=clean_special_character(author_df,'name')"
   ]
  },
  {
   "cell_type": "code",
   "execution_count": 34,
   "id": "b1e1f88f",
   "metadata": {},
   "outputs": [],
   "source": [
    "### lowercase author-name\n",
    "author_df=author_df.withColumn('name', lower(col('name')))"
   ]
  },
  {
   "cell_type": "code",
   "execution_count": 35,
   "id": "f1658155",
   "metadata": {},
   "outputs": [],
   "source": [
    "### check if there are duplicate author_ids\n",
    "### author_df.groupby(['author_id']).count().where('count > 1').sort('count', ascending=False).show()\n",
    "\n",
    "# grouped_author_duplicates_df=author_df.groupby(['name'])\n",
    "# unique_authors_df=grouped_author_duplicates_df.agg(\n",
    "#     round(F.avg(\"paper_count\")).alias(\"paper_count\"),\n",
    "#     round(F.avg(\"citation_count\")).alias(\"citation_count\"),\n",
    "#     round(F.avg(\"h_index\")).alias(\"h_index\"))\n",
    "\n",
    "### unique_authors_df.count()"
   ]
  },
  {
   "cell_type": "code",
   "execution_count": null,
   "id": "2da8f4fa",
   "metadata": {},
   "outputs": [],
   "source": []
  },
  {
   "cell_type": "markdown",
   "id": "49edfb27",
   "metadata": {},
   "source": [
    "# Join author and paper dataframes to ensure consistency"
   ]
  },
  {
   "cell_type": "markdown",
   "id": "08f747bc",
   "metadata": {},
   "source": [
    "Load and clean Author2Paper (from the supplement txt file)"
   ]
  },
  {
   "cell_type": "code",
   "execution_count": 36,
   "id": "96b82af9",
   "metadata": {},
   "outputs": [
    {
     "name": "stdout",
     "output_type": "stream",
     "text": [
      "[('index', 'Integer'), ('author_id', 'Integer'), ('paper_id', 'Integer'), ('author_position', 'Integer')]\n"
     ]
    }
   ],
   "source": [
    "### load file into schema\n",
    "dtypes = pd.read_csv('./schemas/paper_author_id.csv').to_records(index=False).tolist()\n",
    "print(dtypes)\n",
    "fields = [T.StructField(dtype[0], globals()[f'{dtype[1]}Type']()) for dtype in dtypes]\n",
    "schema = StructType(fields)\n",
    "author_id_2_paper_id_df = spark.read.options(delimiter='\\t').csv('./assets/AMiner-Author2Paper.txt', header=False,schema=schema)"
   ]
  },
  {
   "cell_type": "code",
   "execution_count": 37,
   "id": "38a8bf12",
   "metadata": {},
   "outputs": [
    {
     "name": "stdout",
     "output_type": "stream",
     "text": [
      "root\n",
      " |-- index: integer (nullable = true)\n",
      " |-- author_id: integer (nullable = true)\n",
      " |-- paper_id: integer (nullable = true)\n",
      " |-- author_position: integer (nullable = true)\n",
      "\n"
     ]
    }
   ],
   "source": [
    "author_id_2_paper_id_df.printSchema()"
   ]
  },
  {
   "cell_type": "code",
   "execution_count": 38,
   "id": "c16144d8",
   "metadata": {},
   "outputs": [
    {
     "name": "stderr",
     "output_type": "stream",
     "text": [
      "22/01/20 15:53:19 WARN RowBasedKeyValueBatch: Calling spill() on RowBasedKeyValueBatch. Will not spill but return 0.\n",
      "22/01/20 15:53:19 WARN RowBasedKeyValueBatch: Calling spill() on RowBasedKeyValueBatch. Will not spill but return 0.\n",
      "22/01/20 15:53:19 WARN RowBasedKeyValueBatch: Calling spill() on RowBasedKeyValueBatch. Will not spill but return 0.\n",
      "22/01/20 15:53:19 WARN RowBasedKeyValueBatch: Calling spill() on RowBasedKeyValueBatch. Will not spill but return 0.\n",
      "22/01/20 15:53:19 WARN RowBasedKeyValueBatch: Calling spill() on RowBasedKeyValueBatch. Will not spill but return 0.\n",
      "22/01/20 15:53:19 WARN RowBasedKeyValueBatch: Calling spill() on RowBasedKeyValueBatch. Will not spill but return 0.\n",
      "22/01/20 15:53:19 WARN RowBasedKeyValueBatch: Calling spill() on RowBasedKeyValueBatch. Will not spill but return 0.\n",
      "22/01/20 15:53:19 WARN RowBasedKeyValueBatch: Calling spill() on RowBasedKeyValueBatch. Will not spill but return 0.\n",
      "22/01/20 15:53:25 WARN RowBasedKeyValueBatch: Calling spill() on RowBasedKeyValueBatch. Will not spill but return 0.\n",
      "22/01/20 15:53:25 WARN RowBasedKeyValueBatch: Calling spill() on RowBasedKeyValueBatch. Will not spill but return 0.\n",
      "22/01/20 15:53:25 WARN RowBasedKeyValueBatch: Calling spill() on RowBasedKeyValueBatch. Will not spill but return 0.\n",
      "22/01/20 15:53:25 WARN RowBasedKeyValueBatch: Calling spill() on RowBasedKeyValueBatch. Will not spill but return 0.\n",
      "22/01/20 15:53:25 WARN RowBasedKeyValueBatch: Calling spill() on RowBasedKeyValueBatch. Will not spill but return 0.\n",
      "22/01/20 15:53:25 WARN RowBasedKeyValueBatch: Calling spill() on RowBasedKeyValueBatch. Will not spill but return 0.\n",
      "22/01/20 15:53:25 WARN RowBasedKeyValueBatch: Calling spill() on RowBasedKeyValueBatch. Will not spill but return 0.\n",
      "22/01/20 15:53:25 WARN RowBasedKeyValueBatch: Calling spill() on RowBasedKeyValueBatch. Will not spill but return 0.\n"
     ]
    },
    {
     "name": "stdout",
     "output_type": "stream",
     "text": [
      "+---------+--------+-----+\n",
      "|author_id|paper_id|count|\n",
      "+---------+--------+-----+\n",
      "+---------+--------+-----+\n",
      "\n"
     ]
    },
    {
     "name": "stderr",
     "output_type": "stream",
     "text": [
      "\r",
      "                                                                                \r"
     ]
    }
   ],
   "source": [
    "### check for duplicates between paper_id and author_id\n",
    "author_id_2_paper_id_df.groupby(['author_id', 'paper_id']).count().where('count > 1').sort('count', ascending=False).show(10,False)\n"
   ]
  },
  {
   "cell_type": "markdown",
   "id": "b6b0f80c",
   "metadata": {},
   "source": [
    "Join the suplementary df with author_df"
   ]
  },
  {
   "cell_type": "code",
   "execution_count": 39,
   "id": "1fe50e94",
   "metadata": {},
   "outputs": [],
   "source": [
    "author_id_2_paper_id_extended_df = author_id_2_paper_id_df.join(author_df, 'author_id', 'left').drop('index')"
   ]
  },
  {
   "cell_type": "code",
   "execution_count": 40,
   "id": "49f2aa61",
   "metadata": {},
   "outputs": [],
   "source": [
    "### split the author-name to keep only the surname ---> cleaning data\n",
    "author_id_2_paper_id_cleaned_df = author_id_2_paper_id_extended_df.select(F.col(\"paper_id\"), F.col(\"author_id\"), \\\n",
    "                                F.col(\"citation_count\"), F.col(\"h_index\"), F.col(\"paper_count\"),   \\\n",
    "                                F.trim(F.element_at(F.split(F.col(\"name\"),\" \"),-1)).alias('name'))"
   ]
  },
  {
   "cell_type": "markdown",
   "id": "eae300c2",
   "metadata": {},
   "source": [
    "Join the cleaned paper_2_author_cleaned_df to unique_paper_author_cleaned_df"
   ]
  },
  {
   "cell_type": "code",
   "execution_count": 41,
   "id": "8c6406b6",
   "metadata": {},
   "outputs": [],
   "source": [
    "final_paper_author_id_df = unique_paper_author_cleaned_df.join(author_id_2_paper_id_cleaned_df, \\\n",
    "                                                               ['paper_id', 'name'], 'inner').dropDuplicates()"
   ]
  },
  {
   "cell_type": "code",
   "execution_count": 42,
   "id": "1ef7e1e5",
   "metadata": {},
   "outputs": [
    {
     "name": "stderr",
     "output_type": "stream",
     "text": [
      "[Stage 42:>                                                         (0 + 1) / 1]\r"
     ]
    },
    {
     "name": "stdout",
     "output_type": "stream",
     "text": [
      "+--------+------------+---------+--------------+-------+-----------+\n",
      "|paper_id|        name|author_id|citation_count|h_index|paper_count|\n",
      "+--------+------------+---------+--------------+-------+-----------+\n",
      "|       5|     jajodia|   578328|          4230|     31|        372|\n",
      "|       7|     akritas|   621167|           111|      4|         20|\n",
      "|       7|     lyengar|   522333|             1|      1|          2|\n",
      "|       8|         lee|   798283|           165|      7|         51|\n",
      "|      14|       lillo|    94568|             5|      1|          5|\n",
      "|      16|    mitchell|   119094|          3929|     34|        188|\n",
      "|      17|     vishkin|  1700630|          1516|     23|        164|\n",
      "|      17|   wigderson|   721636|          4402|     30|        190|\n",
      "|      18|    galperin|    45666|            38|      0|          2|\n",
      "|      18|   wigderson|   721636|          4402|     30|        190|\n",
      "|      19|witsenhausen|   111844|            17|      2|         21|\n",
      "|      21|     schmidt|   508381|            48|      3|         28|\n",
      "|      28|        bolc|   685032|            19|      2|         25|\n",
      "|      28|strzalkowski|   200678|           164|      4|         20|\n",
      "|      33|     rohrich|   678503|             3|      1|          5|\n",
      "|      35|      pepper|  1706239|           173|      7|         41|\n",
      "|      40|   dembinski|  1593479|           140|      4|         25|\n",
      "|      45|     mandell|   450631|             9|      2|         49|\n",
      "|      51|    fishburn|  1513105|           218|      6|         17|\n",
      "|      53|       conte|   855737|           477|      8|         40|\n",
      "+--------+------------+---------+--------------+-------+-----------+\n",
      "only showing top 20 rows\n",
      "\n"
     ]
    },
    {
     "name": "stderr",
     "output_type": "stream",
     "text": [
      "\r",
      "                                                                                \r"
     ]
    }
   ],
   "source": [
    "final_paper_author_id_df.show()"
   ]
  },
  {
   "cell_type": "code",
   "execution_count": null,
   "id": "1290d925",
   "metadata": {},
   "outputs": [],
   "source": []
  },
  {
   "cell_type": "markdown",
   "id": "0d8d7b6c",
   "metadata": {},
   "source": [
    "# Load and clean Affiliations df"
   ]
  },
  {
   "cell_type": "code",
   "execution_count": 43,
   "id": "5a7d4c21",
   "metadata": {
    "pycharm": {
     "is_executing": true,
     "name": "#%%\n"
    }
   },
   "outputs": [
    {
     "name": "stdout",
     "output_type": "stream",
     "text": [
      "File path: ./assets/parsedData/affiliations.csv, schema path: ./schemas/affiliation.csv\n",
      "Types from schema: [('affiliations', 'String'), ('paper_id', 'Integer')]\n",
      "+--------------------+--------+\n",
      "|        affiliations|paper_id|\n",
      "+--------------------+--------+\n",
      "|The Queen's Unive...|      65|\n",
      "|Univ. of Karlsruh...|     130|\n",
      "|AERE Harwell Labo...|     195|\n",
      "|University of Mic...|     260|\n",
      "|Oslo politikammer...|     325|\n",
      "|Harvard Univ., Ca...|     390|\n",
      "|Cornell Univ., It...|     455|\n",
      "|IBM General Techn...|     520|\n",
      "|               -;-;-|     585|\n",
      "|New York Univ., N...|     650|\n",
      "|                   -|     715|\n",
      "|Xerox Palo Alto R...|     780|\n",
      "|Univ. of Californ...|     845|\n",
      "|University of Bol...|     910|\n",
      "|AT & T Bell Labor...|     975|\n",
      "|Cornell Univ., It...|    1040|\n",
      "|University of Mar...|    1105|\n",
      "|Laboratoire de Ps...|    1170|\n",
      "|Yale Univ., New H...|    1235|\n",
      "|                 -;-|    1300|\n",
      "+--------------------+--------+\n",
      "only showing top 20 rows\n",
      "\n"
     ]
    }
   ],
   "source": [
    "### load affiliation into schema\n",
    "affiliation_df = createDFFromFileAndSchema(spark, f'{FILES_FOLDER}affiliations.csv', f'{SCHEMAS_FOLDER}affiliation.csv')\n",
    "affiliation_df.show()"
   ]
  },
  {
   "cell_type": "code",
   "execution_count": 44,
   "id": "bab85ad4",
   "metadata": {
    "pycharm": {
     "is_executing": true
    }
   },
   "outputs": [
    {
     "name": "stdout",
     "output_type": "stream",
     "text": [
      "root\n",
      " |-- affiliations: string (nullable = true)\n",
      " |-- paper_id: integer (nullable = true)\n",
      "\n",
      "+--------------------+--------+\n",
      "|        affiliations|paper_id|\n",
      "+--------------------+--------+\n",
      "|The Queen's Unive...|      65|\n",
      "|Univ. of Karlsruh...|     130|\n",
      "|AERE Harwell Labo...|     195|\n",
      "|University of Mic...|     260|\n",
      "|Oslo politikammer...|     325|\n",
      "|Harvard Univ., Ca...|     390|\n",
      "|Cornell Univ., It...|     455|\n",
      "|IBM General Techn...|     520|\n",
      "|               -;-;-|     585|\n",
      "|New York Univ., N...|     650|\n",
      "|                   -|     715|\n",
      "|Xerox Palo Alto R...|     780|\n",
      "|Univ. of Californ...|     845|\n",
      "|University of Bol...|     910|\n",
      "|AT & T Bell Labor...|     975|\n",
      "|Cornell Univ., It...|    1040|\n",
      "|University of Mar...|    1105|\n",
      "|Laboratoire de Ps...|    1170|\n",
      "|Yale Univ., New H...|    1235|\n",
      "|                 -;-|    1300|\n",
      "+--------------------+--------+\n",
      "only showing top 20 rows\n",
      "\n"
     ]
    }
   ],
   "source": [
    "### remove leading and trailing spaces\n",
    "affiliation_df = affiliation_df.withColumn(\"affiliations\", trim(affiliation_df.affiliations))\n",
    "affiliation_df = affiliation_df.withColumn(\"paper_id\", trim(affiliation_df.paper_id))\n",
    "affiliation_df = affiliation_df.withColumn(\"paper_id\",affiliation_df[\"paper_id\"].cast(IntegerType()))\n",
    "\n",
    "affiliation_df.printSchema()\n",
    "affiliation_df.show()"
   ]
  },
  {
   "cell_type": "code",
   "execution_count": 45,
   "id": "af1159c5",
   "metadata": {
    "pycharm": {
     "is_executing": true
    }
   },
   "outputs": [],
   "source": [
    "### check for null values in the affiliations column\n",
    "###null_values_affiliations=affiliation_df.select([count(when(isnan(c) | col(c).isNull(), c)).alias(c) for c in affiliation_df.columns])"
   ]
  },
  {
   "cell_type": "code",
   "execution_count": 46,
   "id": "f9b5fdc7",
   "metadata": {
    "pycharm": {
     "is_executing": true
    }
   },
   "outputs": [],
   "source": [
    "### This df is used to count papers per unique affiliation, so if the affiliation is missing, it doesnt make sense\n",
    "### drop all rows where affiliation is null\n",
    "\n",
    "affiliation_df=affiliation_df.na.drop(how=\"any\", subset=['affiliations'])"
   ]
  },
  {
   "cell_type": "code",
   "execution_count": 47,
   "id": "0e1018dd",
   "metadata": {
    "pycharm": {
     "is_executing": true
    }
   },
   "outputs": [],
   "source": [
    "### affiliation_df.filter(affiliation_df.affiliations.contains('-')).collect()"
   ]
  },
  {
   "cell_type": "code",
   "execution_count": 48,
   "id": "0a272c4e",
   "metadata": {
    "pycharm": {
     "is_executing": true
    }
   },
   "outputs": [],
   "source": [
    "# ### check if affiliations are missing as well for the ids whose title was missing in paper_df\n",
    "# for rows in affiliation_df.select(\"affiliations\",\"paper_id\").collect():\n",
    "#     if rows[1] in null_paper_ids_list:\n",
    "#         print(rows[0], rows[1])"
   ]
  },
  {
   "cell_type": "code",
   "execution_count": 49,
   "id": "d8504dda",
   "metadata": {
    "pycharm": {
     "is_executing": true
    }
   },
   "outputs": [
    {
     "name": "stdout",
     "output_type": "stream",
     "text": [
      "+--------+------------------------------------------------------+\n",
      "|paper_id|affiliation                                           |\n",
      "+--------+------------------------------------------------------+\n",
      "|65      |The Queen's University of Belfast, Belfast, UK        |\n",
      "|65      |The Queen's University of Belfast, Belfast, UK        |\n",
      "|130     |Univ. of Karlsruhe, Karlsruhe, West Germany           |\n",
      "|195     |AERE Harwell Laboratory, Oxon, UK                     |\n",
      "|195     |Queen's Univ., Belfast, Northern Ireland              |\n",
      "|260     |University of Michigan, Ann Arbor, MI                 |\n",
      "|260     |University of Michigan, Ann Arbor, MI                 |\n",
      "|325     |Oslo politikammer, Oslo, Norway                       |\n",
      "|390     |Harvard Univ., Cambridge, MA                          |\n",
      "|390     |Boston Univ., Boston, MA                              |\n",
      "|455     |Cornell Univ., Ithaca, NY                             |\n",
      "|455     |Cornell Univ., Ithaca, NY                             |\n",
      "|520     |IBM General Technology Division, Hopewell Junction, NY|\n",
      "|520     |IBM Research Division, Yorktown Heights, NY           |\n",
      "|520     |IBM Research Division, Yorktown Heights, NY           |\n",
      "|520     |IBM Research Division, Yorktown Heights, NY           |\n",
      "|585     |-                                                     |\n",
      "|585     |-                                                     |\n",
      "|585     |-                                                     |\n",
      "|650     |New York Univ., New York, NY                          |\n",
      "+--------+------------------------------------------------------+\n",
      "only showing top 20 rows\n",
      "\n",
      "+--------------------------------------------------------------------------------------------------------------------------------------------------------------------------------------------------------------------------------------+--------+\n",
      "|affiliations                                                                                                                                                                                                                          |paper_id|\n",
      "+--------------------------------------------------------------------------------------------------------------------------------------------------------------------------------------------------------------------------------------+--------+\n",
      "|The Queen's University of Belfast, Belfast, UK;The Queen's University of Belfast, Belfast, UK                                                                                                                                         |65      |\n",
      "|Univ. of Karlsruhe, Karlsruhe, West Germany                                                                                                                                                                                           |130     |\n",
      "|AERE Harwell Laboratory, Oxon, UK;Queen's Univ., Belfast, Northern Ireland                                                                                                                                                            |195     |\n",
      "|University of Michigan, Ann Arbor, MI;University of Michigan, Ann Arbor, MI                                                                                                                                                           |260     |\n",
      "|Oslo politikammer, Oslo, Norway                                                                                                                                                                                                       |325     |\n",
      "|Harvard Univ., Cambridge, MA;Boston Univ., Boston, MA                                                                                                                                                                                 |390     |\n",
      "|Cornell Univ., Ithaca, NY;Cornell Univ., Ithaca, NY                                                                                                                                                                                   |455     |\n",
      "|IBM General Technology Division, Hopewell Junction, NY;IBM Research Division, Yorktown Heights, NY;IBM Research Division, Yorktown Heights, NY;IBM Research Division, Yorktown Heights, NY                                            |520     |\n",
      "|-;-;-                                                                                                                                                                                                                                 |585     |\n",
      "|New York Univ., New York, NY                                                                                                                                                                                                          |650     |\n",
      "|-                                                                                                                                                                                                                                     |715     |\n",
      "|Xerox Palo Alto Research Center, Palo Alto, CA;Xerox Palo Alto Research Center, Palo Alto, CA;Xerox Palo Alto Research Center, Palo Alto, CA                                                                                          |780     |\n",
      "|Univ. of California, Berkeley                                                                                                                                                                                                         |845     |\n",
      "|University of Bologna, Bologna, Italy;University of Bologna, Bologna, Italy;University of Bologna, Bologna, Italy                                                                                                                     |910     |\n",
      "|AT & T Bell Laboratories                                                                                                                                                                                                              |975     |\n",
      "|Cornell Univ., Ithaca, NY;Cornell Univ., Ithaca, NY;Virginia Polytechnic Institute and State Univ., Blacksburg, VA                                                                                                                    |1040    |\n",
      "|University of Maryland;University of Maryland                                                                                                                                                                                         |1105    |\n",
      "|Laboratoire de Psychologie de l'Apprentissage, Marseille, France;Laboratoire de Psychologie de l'Apprentissage, Marseille, France;Socie´te´ Opeform, Malakoff, France;Laboratoire de Psychologie de l'Apprentissage, Marseille, France|1170    |\n",
      "|Yale Univ., New Haven, CT                                                                                                                                                                                                             |1235    |\n",
      "|-;-                                                                                                                                                                                                                                   |1300    |\n",
      "+--------------------------------------------------------------------------------------------------------------------------------------------------------------------------------------------------------------------------------------+--------+\n",
      "only showing top 20 rows\n",
      "\n"
     ]
    }
   ],
   "source": [
    "### split affiliations so we can have clean data and seperate records {paper_id; affiliations}\n",
    "unique_affiliations_df = affiliation_df.select(F.col(\"paper_id\"), F.explode(F.split(F.col(\"affiliations\"),\";\")).alias(\"affiliation\"))\n",
    "unique_affiliations_df.show(20, False)\n",
    "affiliation_df.show(20, False)"
   ]
  },
  {
   "cell_type": "code",
   "execution_count": 50,
   "id": "3195d7d4",
   "metadata": {
    "pycharm": {
     "is_executing": true
    }
   },
   "outputs": [],
   "source": [
    "### check for special nonsense characters \"-\", If the affiliation is missing, there is no point of keeping the rows\n",
    "###unique_affiliations_df.filter(unique_affiliations_df.affiliations=='-').collect()\n",
    "unique_affiliations_df=unique_affiliations_df.where(unique_affiliations_df.affiliation!='-')"
   ]
  },
  {
   "cell_type": "code",
   "execution_count": 51,
   "id": "fda3c444",
   "metadata": {
    "pycharm": {
     "is_executing": true
    }
   },
   "outputs": [
    {
     "name": "stdout",
     "output_type": "stream",
     "text": [
      "+--------+--------------------+\n",
      "|paper_id|         affiliation|\n",
      "+--------+--------------------+\n",
      "|      65|The Queen's Unive...|\n",
      "|      65|The Queen's Unive...|\n",
      "|     130|Univ. of Karlsruh...|\n",
      "|     195|AERE Harwell Labo...|\n",
      "|     195|Queen's Univ., Be...|\n",
      "|     260|University of Mic...|\n",
      "|     260|University of Mic...|\n",
      "|     325|Oslo politikammer...|\n",
      "|     390|Harvard Univ., Ca...|\n",
      "|     390|Boston Univ., Bos...|\n",
      "|     455|Cornell Univ., It...|\n",
      "|     455|Cornell Univ., It...|\n",
      "|     520|IBM General Techn...|\n",
      "|     520|IBM Research Divi...|\n",
      "|     520|IBM Research Divi...|\n",
      "|     520|IBM Research Divi...|\n",
      "|     650|New York Univ., N...|\n",
      "|     780|Xerox Palo Alto R...|\n",
      "|     780|Xerox Palo Alto R...|\n",
      "|     780|Xerox Palo Alto R...|\n",
      "+--------+--------------------+\n",
      "only showing top 20 rows\n",
      "\n"
     ]
    }
   ],
   "source": [
    "unique_affiliations_df.show()"
   ]
  },
  {
   "cell_type": "code",
   "execution_count": 52,
   "id": "f62eeaed",
   "metadata": {
    "pycharm": {
     "is_executing": true
    }
   },
   "outputs": [
    {
     "name": "stderr",
     "output_type": "stream",
     "text": [
      "[Stage 50:>                                                         (0 + 4) / 4]\r"
     ]
    },
    {
     "name": "stdout",
     "output_type": "stream",
     "text": [
      "+--------+--------------------+-----+\n",
      "|paper_id|         affiliation|count|\n",
      "+--------+--------------------+-----+\n",
      "|  569905|IBM and Universit...|   91|\n",
      "| 1202294|Open Grid Forum—G...|   88|\n",
      "| 1542970|University of Ten...|   65|\n",
      "|  418817|Humanoid Robotics...|   62|\n",
      "| 1731577|IBM Semiconductor...|   59|\n",
      "|  772121|IBM Research Divi...|   52|\n",
      "| 1038111|IBM Thomas J. Wat...|   46|\n",
      "| 1241693|INFN-CNAF V.le Be...|   44|\n",
      "| 1633898|NASA Goddard Spac...|   31|\n",
      "| 1077644|Carnegie Mellon U...|   31|\n",
      "|  864278|Dept. of Electr. ...|   29|\n",
      "| 1210078|IMEC, Kapeldreef ...|   29|\n",
      "|  994444|Lehrstuhl fur Ope...|   29|\n",
      "| 1229219|    No Affiliations,|   29|\n",
      "| 1423217|Shanghai Astronom...|   28|\n",
      "|  771289|IBM Research Divi...|   28|\n",
      "|  827034|The Artist Educat...|   28|\n",
      "| 1312394|Atheros Communica...|   27|\n",
      "| 1625041|           Microsoft|   27|\n",
      "| 1972771|LinkedIn, Inc, Mo...|   27|\n",
      "+--------+--------------------+-----+\n",
      "only showing top 20 rows\n",
      "\n"
     ]
    },
    {
     "name": "stderr",
     "output_type": "stream",
     "text": [
      "\r",
      "                                                                                \r"
     ]
    }
   ],
   "source": [
    "### check for duplicate rows:\n",
    "unique_affiliations_df.groupby(['paper_id', 'affiliation']).count().where('count > 1').sort('count', ascending=False).show()"
   ]
  },
  {
   "cell_type": "code",
   "execution_count": 53,
   "id": "c3fbf49b",
   "metadata": {
    "pycharm": {
     "is_executing": true
    }
   },
   "outputs": [],
   "source": [
    "### drop duplicate rows since here we need unique affiliations\n",
    "unique_affiliations_df=unique_affiliations_df.dropDuplicates()\n"
   ]
  },
  {
   "cell_type": "code",
   "execution_count": 54,
   "id": "4e55ad40",
   "metadata": {
    "pycharm": {
     "is_executing": true
    }
   },
   "outputs": [],
   "source": [
    "### remove special characters\n",
    "unique_affiliations_df=clean_special_character(unique_affiliations_df,'affiliation')\n",
    "### remove special letters\n",
    "unique_affiliations_df=clean_special_letters(unique_affiliations_df, 'affiliation')"
   ]
  },
  {
   "cell_type": "code",
   "execution_count": 55,
   "id": "042f61d5",
   "metadata": {},
   "outputs": [],
   "source": [
    "unique_affiliations_df=unique_affiliations_df.withColumn('affiliation', lower(col('affiliation')))\n"
   ]
  },
  {
   "cell_type": "code",
   "execution_count": 56,
   "id": "b74d2b75",
   "metadata": {
    "pycharm": {
     "is_executing": true
    }
   },
   "outputs": [
    {
     "name": "stderr",
     "output_type": "stream",
     "text": [
      "[Stage 56:>                                                         (0 + 4) / 5]\r"
     ]
    },
    {
     "name": "stdout",
     "output_type": "stream",
     "text": [
      "+--------+-----------------------------------------------------------------------------------------------------+-----+\n",
      "|paper_id|affiliation                                                                                          |count|\n",
      "+--------+-----------------------------------------------------------------------------------------------------+-----+\n",
      "|1369204 |texas a&m university, college station, tx, usa                                                       |3    |\n",
      "|963171  |ut-austin, austin, tx                                                                                |3    |\n",
      "|1867776 |division of circuits & systems, school of eee, nanyang technological university, singapore, singapore|3    |\n",
      "|1681339 |the university of iowa, iowa city, ia, usa                                                           |3    |\n",
      "|1048768 |carnegie mellon university, pittsburgh, pa, usa                                                      |2    |\n",
      "|241009  |sematech, 2706 montopolis drive, austin, texas                                                       |2    |\n",
      "|984819  |laboratory of applied mathematics ecole centrale paris 92295 france                                  |2    |\n",
      "|1586494 |universidad de la sabana, autopista norte de bogot, d. c., chia (cundinamarca), colombia             |2    |\n",
      "|1543067 |sri international, menlo park, ca, usa                                                               |2    |\n",
      "|1864643 |sun yat-sen university, guangzhou, china                                                             |2    |\n",
      "|1984537 |boise state university, boise                                                                        |2    |\n",
      "|733053  |imec and ee department, ku leuven, leuven, belgium                                                   |2    |\n",
      "|2027331 |national tsing hua university, hsinchu, china                                                        |2    |\n",
      "|1591806 |newcastle university, newcastle upon tyne, united kingdom                                            |2    |\n",
      "|29364   |cornell univ., ithaca, ny                                                                            |2    |\n",
      "|1426197 |microsoft research, bangalore, india                                                                 |2    |\n",
      "|23935   |tokyo institute of technology                                                                        |2    |\n",
      "|1574422 |gitam university, visakhapatnam, ap, india                                                           |2    |\n",
      "|1973715 |the university of the west indies, kingston, jamaica                                                 |2    |\n",
      "|1093646 |universit paris-est, noisy le grand, france                                                          |2    |\n",
      "+--------+-----------------------------------------------------------------------------------------------------+-----+\n",
      "only showing top 20 rows\n",
      "\n"
     ]
    },
    {
     "name": "stderr",
     "output_type": "stream",
     "text": [
      "\r",
      "                                                                                \r"
     ]
    }
   ],
   "source": [
    "### check for duplicate rows:\n",
    "unique_affiliations_df.groupby(['paper_id', 'affiliation']).count().where('count > 1').sort('count', ascending=False).show(truncate=False)"
   ]
  },
  {
   "cell_type": "code",
   "execution_count": 57,
   "id": "08d8629e",
   "metadata": {},
   "outputs": [
    {
     "name": "stderr",
     "output_type": "stream",
     "text": [
      "                                                                                \r"
     ]
    },
    {
     "data": {
      "text/plain": [
       "1876283"
      ]
     },
     "execution_count": 57,
     "metadata": {},
     "output_type": "execute_result"
    }
   ],
   "source": [
    "unique_affiliations_df.count()"
   ]
  },
  {
   "cell_type": "code",
   "execution_count": 58,
   "id": "855886fd",
   "metadata": {
    "pycharm": {
     "is_executing": true
    }
   },
   "outputs": [],
   "source": [
    "### drop duplicates\n",
    "unique_affiliations_df=unique_affiliations_df.dropDuplicates()"
   ]
  },
  {
   "cell_type": "code",
   "execution_count": 59,
   "id": "e0083171",
   "metadata": {
    "pycharm": {
     "is_executing": true
    }
   },
   "outputs": [],
   "source": [
    "### Filter out paper_ids that are not part of the final_paper_author_id_df\n",
    "\n",
    "final_affiliations_df = unique_affiliations_df.join(final_paper_author_id_df, \\\n",
    "                            ['paper_id'], 'inner').select(F.col('paper_id'), F.col('affiliation')).dropDuplicates()"
   ]
  },
  {
   "cell_type": "code",
   "execution_count": null,
   "id": "d78d6238",
   "metadata": {
    "pycharm": {
     "is_executing": true
    }
   },
   "outputs": [],
   "source": []
  },
  {
   "cell_type": "code",
   "execution_count": null,
   "id": "c98b4f5d",
   "metadata": {
    "pycharm": {
     "is_executing": true
    }
   },
   "outputs": [],
   "source": [
    " "
   ]
  },
  {
   "cell_type": "markdown",
   "id": "b1855220",
   "metadata": {},
   "source": [
    "# Load and clean Publication_venues df"
   ]
  },
  {
   "cell_type": "code",
   "execution_count": 60,
   "id": "0d25f590",
   "metadata": {
    "pycharm": {
     "is_executing": true
    }
   },
   "outputs": [
    {
     "name": "stdout",
     "output_type": "stream",
     "text": [
      "File path: ./assets/parsedData/publication_venues.csv, schema path: ./schemas/publication_venues.csv\n",
      "Types from schema: [('paper_id', 'Integer'), ('publication_venue', 'String')]\n",
      "+--------+--------------------+\n",
      "|paper_id|   publication_venue|\n",
      "+--------+--------------------+\n",
      "|      65|Information Techn...|\n",
      "|     130|Proc. of the symp...|\n",
      "|     195|ACM Transactions ...|\n",
      "|     260|Information and C...|\n",
      "|     325|Computers and pen...|\n",
      "|     390|Information and C...|\n",
      "|     455|SIAM Journal on C...|\n",
      "|     520|IBM Journal of Re...|\n",
      "|     585|Journal of the AC...|\n",
      "|     650|Theoretical Compu...|\n",
      "|     715|            Computer|\n",
      "|     780|ACM Transactions ...|\n",
      "|     845|Methods and tools...|\n",
      "|     910|Information Proce...|\n",
      "|     975|ACM Transactions ...|\n",
      "|    1040|Information Proce...|\n",
      "|    1105|ACM Transactions ...|\n",
      "|    1170|Proc. of the 2nd ...|\n",
      "|    1235|Proc. of the inte...|\n",
      "|    1300|Foundations of co...|\n",
      "+--------+--------------------+\n",
      "only showing top 20 rows\n",
      "\n"
     ]
    }
   ],
   "source": [
    "### load publication_venues into schema\n",
    "publication_venue_df = createDFFromFileAndSchema(spark, f'{FILES_FOLDER}publication_venues.csv', f'{SCHEMAS_FOLDER}publication_venues.csv')\n",
    "publication_venue_df.show()"
   ]
  },
  {
   "cell_type": "code",
   "execution_count": 61,
   "id": "026166d7",
   "metadata": {
    "pycharm": {
     "is_executing": true
    }
   },
   "outputs": [
    {
     "name": "stdout",
     "output_type": "stream",
     "text": [
      "+--------+--------------------+\n",
      "|paper_id|   publication_venue|\n",
      "+--------+--------------------+\n",
      "|      65|Information Techn...|\n",
      "|     130|Proc. of the symp...|\n",
      "|     195|ACM Transactions ...|\n",
      "|     260|Information and C...|\n",
      "|     325|Computers and pen...|\n",
      "|     390|Information and C...|\n",
      "|     455|SIAM Journal on C...|\n",
      "|     520|IBM Journal of Re...|\n",
      "|     585|Journal of the AC...|\n",
      "|     650|Theoretical Compu...|\n",
      "|     715|            Computer|\n",
      "|     780|ACM Transactions ...|\n",
      "|     845|Methods and tools...|\n",
      "|     910|Information Proce...|\n",
      "|     975|ACM Transactions ...|\n",
      "|    1040|Information Proce...|\n",
      "|    1105|ACM Transactions ...|\n",
      "|    1170|Proc. of the 2nd ...|\n",
      "|    1235|Proc. of the inte...|\n",
      "|    1300|Foundations of co...|\n",
      "+--------+--------------------+\n",
      "only showing top 20 rows\n",
      "\n"
     ]
    }
   ],
   "source": [
    "publication_venue_df = publication_venue_df.withColumn(\"publication_venue\", trim(publication_venue_df.publication_venue))\n",
    "publication_venue_df = publication_venue_df.withColumn(\"paper_id\", trim(publication_venue_df.paper_id))\n",
    "publication_venue_df = publication_venue_df.withColumn(\"paper_id\",publication_venue_df[\"paper_id\"].cast(IntegerType()))\n",
    "publication_venue_df.show()"
   ]
  },
  {
   "cell_type": "code",
   "execution_count": 62,
   "id": "6daa39b5",
   "metadata": {
    "pycharm": {
     "is_executing": true
    }
   },
   "outputs": [],
   "source": [
    "null_values_publication_venue=publication_venue_df.select([count(when(isnan(c) | col(c).isNull(), c)).alias(c) for c in publication_venue_df.columns]\n",
    "   )"
   ]
  },
  {
   "cell_type": "code",
   "execution_count": 63,
   "id": "eef3dd2b",
   "metadata": {
    "pycharm": {
     "is_executing": true
    }
   },
   "outputs": [
    {
     "name": "stderr",
     "output_type": "stream",
     "text": [
      "\r",
      "[Stage 65:>                                                         (0 + 1) / 1]\r"
     ]
    },
    {
     "name": "stdout",
     "output_type": "stream",
     "text": [
      "+--------+-----------------+\n",
      "|paper_id|publication_venue|\n",
      "+--------+-----------------+\n",
      "|  109525|             null|\n",
      "|  987870|             null|\n",
      "| 1065415|             null|\n",
      "| 1555515|             null|\n",
      "|  144171|             null|\n",
      "|  804766|             null|\n",
      "| 1032591|             null|\n",
      "| 1986272|             null|\n",
      "| 1013548|             null|\n",
      "| 1054433|             null|\n",
      "| 1785618|             null|\n",
      "|  993855|             null|\n",
      "| 1444435|             null|\n",
      "|  893041|             null|\n",
      "|  947251|             null|\n",
      "|  638112|             null|\n",
      "| 1074067|             null|\n",
      "| 1375797|             null|\n",
      "| 1376577|             null|\n",
      "|  861258|             null|\n",
      "+--------+-----------------+\n",
      "only showing top 20 rows\n",
      "\n"
     ]
    },
    {
     "name": "stderr",
     "output_type": "stream",
     "text": [
      "\r",
      "                                                                                \r"
     ]
    }
   ],
   "source": [
    "publication_venue_df.filter(publication_venue_df['publication_venue'].isNull()).show()\n",
    "### drop null values \n",
    "publication_venue_df=publication_venue_df.na.drop(how=\"any\", subset=['publication_venue'])"
   ]
  },
  {
   "cell_type": "code",
   "execution_count": 64,
   "id": "61aa0c6c",
   "metadata": {
    "pycharm": {
     "is_executing": true
    }
   },
   "outputs": [],
   "source": [
    "## check for duplicate rows\n",
    "## publication_venue_df.groupby(['paper_id', 'publication_venue']).count().where('count > 1').sort('count', ascending=False).show()"
   ]
  },
  {
   "cell_type": "code",
   "execution_count": 65,
   "id": "a55ddef7",
   "metadata": {
    "pycharm": {
     "is_executing": true
    }
   },
   "outputs": [],
   "source": [
    "final_publication_venues_df = publication_venue_df.join(final_paper_author_id_df, \\\n",
    "                            ['paper_id'], 'inner').select(F.col('paper_id'), F.col('publication_venue')).dropDuplicates()"
   ]
  },
  {
   "cell_type": "code",
   "execution_count": null,
   "id": "0090bb43",
   "metadata": {},
   "outputs": [],
   "source": []
  },
  {
   "cell_type": "markdown",
   "id": "e1a6ec60",
   "metadata": {},
   "source": [
    "# Load and clean Citations df"
   ]
  },
  {
   "cell_type": "code",
   "execution_count": 66,
   "id": "6d24ec61",
   "metadata": {
    "pycharm": {
     "is_executing": true
    }
   },
   "outputs": [
    {
     "name": "stdout",
     "output_type": "stream",
     "text": [
      "File path: ./assets/parsedData/citations.csv, schema path: ./schemas/citations.csv\n",
      "Types from schema: [('paper_id', 'Integer'), ('ref_ids', 'String')]\n",
      "+--------+--------------------+\n",
      "|paper_id|             ref_ids|\n",
      "+--------+--------------------+\n",
      "|      65|                null|\n",
      "|     130|                null|\n",
      "|     195|317424;317425;317573|\n",
      "|     260|                null|\n",
      "|     325|                null|\n",
      "|     390|                null|\n",
      "|     455|                null|\n",
      "|     520|       318368;323493|\n",
      "|     585|                null|\n",
      "|     650|                null|\n",
      "|     715|                null|\n",
      "|     780|318420;319233;319...|\n",
      "|     845|                null|\n",
      "|     910|                null|\n",
      "|     975|67604;318882;3718...|\n",
      "|    1040|                null|\n",
      "|    1105|289087;318014;318...|\n",
      "|    1170|                null|\n",
      "|    1235|                null|\n",
      "|    1300|                null|\n",
      "+--------+--------------------+\n",
      "only showing top 20 rows\n",
      "\n"
     ]
    }
   ],
   "source": [
    "### load affiliation into schema\n",
    "citation_df = createDFFromFileAndSchema(spark, f'{FILES_FOLDER}citations.csv', f'{SCHEMAS_FOLDER}citations.csv')\n",
    "citation_df.show()"
   ]
  },
  {
   "cell_type": "code",
   "execution_count": 67,
   "id": "e1fbf832",
   "metadata": {
    "pycharm": {
     "is_executing": true
    }
   },
   "outputs": [
    {
     "name": "stdout",
     "output_type": "stream",
     "text": [
      "+--------+--------------------+\n",
      "|paper_id|             ref_ids|\n",
      "+--------+--------------------+\n",
      "|      65|                null|\n",
      "|     130|                null|\n",
      "|     195|317424;317425;317573|\n",
      "|     260|                null|\n",
      "|     325|                null|\n",
      "|     390|                null|\n",
      "|     455|                null|\n",
      "|     520|       318368;323493|\n",
      "|     585|                null|\n",
      "|     650|                null|\n",
      "|     715|                null|\n",
      "|     780|318420;319233;319...|\n",
      "|     845|                null|\n",
      "|     910|                null|\n",
      "|     975|67604;318882;3718...|\n",
      "|    1040|                null|\n",
      "|    1105|289087;318014;318...|\n",
      "|    1170|                null|\n",
      "|    1235|                null|\n",
      "|    1300|                null|\n",
      "+--------+--------------------+\n",
      "only showing top 20 rows\n",
      "\n"
     ]
    }
   ],
   "source": [
    "citation_df.show()"
   ]
  },
  {
   "cell_type": "code",
   "execution_count": 68,
   "id": "509f0ac2",
   "metadata": {
    "pycharm": {
     "is_executing": true
    }
   },
   "outputs": [
    {
     "name": "stdout",
     "output_type": "stream",
     "text": [
      "+--------+--------------------+\n",
      "|paper_id|             ref_ids|\n",
      "+--------+--------------------+\n",
      "|      65|                null|\n",
      "|     130|                null|\n",
      "|     195|317424;317425;317573|\n",
      "|     260|                null|\n",
      "|     325|                null|\n",
      "|     390|                null|\n",
      "|     455|                null|\n",
      "|     520|       318368;323493|\n",
      "|     585|                null|\n",
      "|     650|                null|\n",
      "|     715|                null|\n",
      "|     780|318420;319233;319...|\n",
      "|     845|                null|\n",
      "|     910|                null|\n",
      "|     975|67604;318882;3718...|\n",
      "|    1040|                null|\n",
      "|    1105|289087;318014;318...|\n",
      "|    1170|                null|\n",
      "|    1235|                null|\n",
      "|    1300|                null|\n",
      "+--------+--------------------+\n",
      "only showing top 20 rows\n",
      "\n"
     ]
    }
   ],
   "source": [
    "### remove leading and trailing spaces\n",
    "citation_df = citation_df.withColumn(\"ref_ids\", trim(citation_df.ref_ids))\n",
    "citation_df = citation_df.withColumn(\"paper_id\", trim(citation_df.paper_id))\n",
    "### change data type of paper_id to Integer\n",
    "citation_df = citation_df.withColumn(\"paper_id\",citation_df[\"paper_id\"].cast(IntegerType()))\n",
    "citation_df.show()"
   ]
  },
  {
   "cell_type": "code",
   "execution_count": 69,
   "id": "1afe6f2e",
   "metadata": {
    "pycharm": {
     "is_executing": true
    }
   },
   "outputs": [
    {
     "name": "stderr",
     "output_type": "stream",
     "text": [
      "[Stage 71:>                                                         (0 + 4) / 4]\r"
     ]
    },
    {
     "name": "stdout",
     "output_type": "stream",
     "text": [
      "+--------+-------+-----+\n",
      "|paper_id|ref_ids|count|\n",
      "+--------+-------+-----+\n",
      "+--------+-------+-----+\n",
      "\n"
     ]
    },
    {
     "name": "stderr",
     "output_type": "stream",
     "text": [
      "\r",
      "[Stage 71:==============>                                           (1 + 3) / 4]\r",
      "\r",
      "                                                                                \r"
     ]
    }
   ],
   "source": [
    "### check for duplicate rows\n",
    "citation_df.groupby(['paper_id', 'ref_ids']).count().where('count > 1').sort('count', ascending=False).show()"
   ]
  },
  {
   "cell_type": "code",
   "execution_count": 70,
   "id": "b5c54e1c",
   "metadata": {
    "pycharm": {
     "is_executing": true
    }
   },
   "outputs": [
    {
     "name": "stdout",
     "output_type": "stream",
     "text": [
      "+--------+------+\n",
      "|paper_id|ref_id|\n",
      "+--------+------+\n",
      "|195     |317424|\n",
      "|195     |317425|\n",
      "|195     |317573|\n",
      "|520     |318368|\n",
      "|520     |323493|\n",
      "|780     |318420|\n",
      "|780     |319233|\n",
      "|780     |319290|\n",
      "|780     |319579|\n",
      "|780     |320813|\n",
      "|975     |67604 |\n",
      "|975     |318882|\n",
      "|975     |371812|\n",
      "|975     |404772|\n",
      "|975     |604232|\n",
      "|975     |834995|\n",
      "|975     |836008|\n",
      "|1105    |289087|\n",
      "|1105    |318014|\n",
      "|1105    |318186|\n",
      "+--------+------+\n",
      "only showing top 20 rows\n",
      "\n",
      "+--------+------------------------------------------------+\n",
      "|paper_id|ref_ids                                         |\n",
      "+--------+------------------------------------------------+\n",
      "|65      |null                                            |\n",
      "|130     |null                                            |\n",
      "|195     |317424;317425;317573                            |\n",
      "|260     |null                                            |\n",
      "|325     |null                                            |\n",
      "|390     |null                                            |\n",
      "|455     |null                                            |\n",
      "|520     |318368;323493                                   |\n",
      "|585     |null                                            |\n",
      "|650     |null                                            |\n",
      "|715     |null                                            |\n",
      "|780     |318420;319233;319290;319579;320813              |\n",
      "|845     |null                                            |\n",
      "|910     |null                                            |\n",
      "|975     |67604;318882;371812;404772;604232;834995;836008 |\n",
      "|1040    |null                                            |\n",
      "|1105    |289087;318014;318186;320104;321160;323377;603800|\n",
      "|1170    |null                                            |\n",
      "|1235    |null                                            |\n",
      "|1300    |null                                            |\n",
      "+--------+------------------------------------------------+\n",
      "only showing top 20 rows\n",
      "\n"
     ]
    }
   ],
   "source": [
    "### split citations so we can have clean data and seperate records {paper_id; ref_id}\n",
    "unique_citation_df = citation_df.select(F.col(\"paper_id\"), F.explode(F.split(F.col(\"ref_ids\"),\";\")).alias(\"ref_id\"))\n",
    "unique_citation_df.show(20, False)\n",
    "citation_df.show(20, False)"
   ]
  },
  {
   "cell_type": "code",
   "execution_count": 71,
   "id": "32d01f0e",
   "metadata": {
    "pycharm": {
     "is_executing": true
    }
   },
   "outputs": [],
   "source": [
    "### remove leading and trailing spaces\n",
    "unique_citation_df = unique_citation_df.withColumn(\"ref_id\", trim(unique_citation_df.ref_id))\n",
    "unique_citation_df = unique_citation_df.withColumn(\"paper_id\", trim(unique_citation_df.paper_id))\n",
    "### change datat type of ref_id to Integer\n",
    "unique_citation_df = unique_citation_df.withColumn(\"ref_id\",unique_citation_df[\"ref_id\"].cast(IntegerType()))"
   ]
  },
  {
   "cell_type": "code",
   "execution_count": 72,
   "id": "037eb73e",
   "metadata": {
    "pycharm": {
     "is_executing": true
    }
   },
   "outputs": [
    {
     "name": "stdout",
     "output_type": "stream",
     "text": [
      "root\n",
      " |-- paper_id: string (nullable = true)\n",
      " |-- ref_id: integer (nullable = true)\n",
      "\n"
     ]
    }
   ],
   "source": [
    "unique_citation_df.printSchema()"
   ]
  },
  {
   "cell_type": "code",
   "execution_count": 73,
   "id": "ce89c12f",
   "metadata": {
    "pycharm": {
     "is_executing": true
    }
   },
   "outputs": [
    {
     "name": "stderr",
     "output_type": "stream",
     "text": [
      "22/01/20 15:57:21 WARN RowBasedKeyValueBatch: Calling spill() on RowBasedKeyValueBatch. Will not spill but return 0.\n",
      "22/01/20 15:57:21 WARN RowBasedKeyValueBatch: Calling spill() on RowBasedKeyValueBatch. Will not spill but return 0.\n",
      "22/01/20 15:57:21 WARN RowBasedKeyValueBatch: Calling spill() on RowBasedKeyValueBatch. Will not spill but return 0.\n",
      "22/01/20 15:57:22 WARN RowBasedKeyValueBatch: Calling spill() on RowBasedKeyValueBatch. Will not spill but return 0.\n",
      "22/01/20 15:57:22 WARN RowBasedKeyValueBatch: Calling spill() on RowBasedKeyValueBatch. Will not spill but return 0.\n",
      "22/01/20 15:57:22 WARN RowBasedKeyValueBatch: Calling spill() on RowBasedKeyValueBatch. Will not spill but return 0.\n",
      "22/01/20 15:57:22 WARN RowBasedKeyValueBatch: Calling spill() on RowBasedKeyValueBatch. Will not spill but return 0.\n",
      "22/01/20 15:57:22 WARN RowBasedKeyValueBatch: Calling spill() on RowBasedKeyValueBatch. Will not spill but return 0.\n",
      "22/01/20 15:57:30 WARN RowBasedKeyValueBatch: Calling spill() on RowBasedKeyValueBatch. Will not spill but return 0.\n",
      "22/01/20 15:57:30 WARN RowBasedKeyValueBatch: Calling spill() on RowBasedKeyValueBatch. Will not spill but return 0.\n",
      "22/01/20 15:57:30 WARN RowBasedKeyValueBatch: Calling spill() on RowBasedKeyValueBatch. Will not spill but return 0.\n",
      "22/01/20 15:57:37 WARN RowBasedKeyValueBatch: Calling spill() on RowBasedKeyValueBatch. Will not spill but return 0.\n",
      "22/01/20 15:57:37 WARN RowBasedKeyValueBatch: Calling spill() on RowBasedKeyValueBatch. Will not spill but return 0.\n",
      "22/01/20 15:57:37 WARN RowBasedKeyValueBatch: Calling spill() on RowBasedKeyValueBatch. Will not spill but return 0.\n",
      "22/01/20 15:57:37 WARN RowBasedKeyValueBatch: Calling spill() on RowBasedKeyValueBatch. Will not spill but return 0.\n",
      "22/01/20 15:57:37 WARN RowBasedKeyValueBatch: Calling spill() on RowBasedKeyValueBatch. Will not spill but return 0.\n",
      "22/01/20 15:57:37 WARN RowBasedKeyValueBatch: Calling spill() on RowBasedKeyValueBatch. Will not spill but return 0.\n",
      "22/01/20 15:57:37 WARN RowBasedKeyValueBatch: Calling spill() on RowBasedKeyValueBatch. Will not spill but return 0.\n",
      "22/01/20 15:57:37 WARN RowBasedKeyValueBatch: Calling spill() on RowBasedKeyValueBatch. Will not spill but return 0.\n",
      "22/01/20 15:57:39 WARN RowBasedKeyValueBatch: Calling spill() on RowBasedKeyValueBatch. Will not spill but return 0.\n",
      "22/01/20 15:57:39 WARN RowBasedKeyValueBatch: Calling spill() on RowBasedKeyValueBatch. Will not spill but return 0.\n",
      "22/01/20 15:57:39 WARN RowBasedKeyValueBatch: Calling spill() on RowBasedKeyValueBatch. Will not spill but return 0.\n",
      "22/01/20 15:57:39 WARN RowBasedKeyValueBatch: Calling spill() on RowBasedKeyValueBatch. Will not spill but return 0.\n",
      "22/01/20 15:57:39 WARN RowBasedKeyValueBatch: Calling spill() on RowBasedKeyValueBatch. Will not spill but return 0.\n",
      "22/01/20 15:57:39 WARN RowBasedKeyValueBatch: Calling spill() on RowBasedKeyValueBatch. Will not spill but return 0.\n",
      "22/01/20 15:57:39 WARN RowBasedKeyValueBatch: Calling spill() on RowBasedKeyValueBatch. Will not spill but return 0.\n",
      "22/01/20 15:57:39 WARN RowBasedKeyValueBatch: Calling spill() on RowBasedKeyValueBatch. Will not spill but return 0.\n"
     ]
    },
    {
     "name": "stdout",
     "output_type": "stream",
     "text": [
      "+--------+------+-----+\n",
      "|paper_id|ref_id|count|\n",
      "+--------+------+-----+\n",
      "+--------+------+-----+\n",
      "\n"
     ]
    },
    {
     "name": "stderr",
     "output_type": "stream",
     "text": [
      "\r",
      "[Stage 76:===========================================>              (3 + 1) / 4]\r",
      "\r",
      "                                                                                \r"
     ]
    }
   ],
   "source": [
    "### check for duplicate rows\n",
    "unique_citation_df.groupby(['paper_id', 'ref_id']).count().where('count > 1').sort('count', ascending=False).show()"
   ]
  },
  {
   "cell_type": "code",
   "execution_count": 74,
   "id": "995da1d2",
   "metadata": {
    "pycharm": {
     "is_executing": true
    }
   },
   "outputs": [
    {
     "name": "stderr",
     "output_type": "stream",
     "text": [
      "[Stage 78:===================>                                      (1 + 2) / 3]\r"
     ]
    },
    {
     "name": "stdout",
     "output_type": "stream",
     "text": [
      "+--------+------+\n",
      "|paper_id|ref_id|\n",
      "+--------+------+\n",
      "+--------+------+\n",
      "\n"
     ]
    },
    {
     "name": "stderr",
     "output_type": "stream",
     "text": [
      "\r",
      "                                                                                \r"
     ]
    }
   ],
   "source": [
    "### drop null values if any\n",
    "unique_citation_df.filter(unique_citation_df['ref_id'].isNull()).show()"
   ]
  },
  {
   "cell_type": "code",
   "execution_count": 75,
   "id": "c207d516",
   "metadata": {
    "pycharm": {
     "is_executing": true
    }
   },
   "outputs": [],
   "source": [
    "# clean up ref ids\n",
    "final_citation_df = unique_citation_df.join(final_paper_author_id_df, \\\n",
    "                            ['paper_id'], 'inner').select(F.col('paper_id'), F.col('ref_id')).dropDuplicates()"
   ]
  },
  {
   "cell_type": "code",
   "execution_count": null,
   "id": "cf00dab2",
   "metadata": {},
   "outputs": [],
   "source": []
  },
  {
   "cell_type": "markdown",
   "id": "9066b305",
   "metadata": {},
   "source": [
    "# Load and Research_interests in df"
   ]
  },
  {
   "cell_type": "code",
   "execution_count": 76,
   "id": "065c387e",
   "metadata": {
    "pycharm": {
     "is_executing": true
    }
   },
   "outputs": [
    {
     "name": "stdout",
     "output_type": "stream",
     "text": [
      "File path: ./assets/parsedData/research_interests.csv, schema path: ./schemas/research_interests.csv\n",
      "Types from schema: [('author_id', 'Integer'), ('research_interests', 'String')]\n",
      "+---------+--------------------+\n",
      "|author_id|  research_interests|\n",
      "+---------+--------------------+\n",
      "|       17|HIV disease;Inter...|\n",
      "|       34|associate polynom...|\n",
      "|       51|metadata element;...|\n",
      "|       68|Web Service;conte...|\n",
      "|       85|intermediate key;...|\n",
      "|      102|feedback loop;dif...|\n",
      "|      119|Rough Set;nomal C...|\n",
      "|      136|MATLAB toolbox;li...|\n",
      "|      153|Byzantine agreeme...|\n",
      "|      170|Ein objektorienti...|\n",
      "|      187|portable device;A...|\n",
      "|      204|Integer-valued pr...|\n",
      "|      221|stock price;stock...|\n",
      "|      238|Hypermedia Synchr...|\n",
      "|      255|computer-mediated...|\n",
      "|      272|Dijkstra method;o...|\n",
      "|      289|low-frequency act...|\n",
      "|      306|copyright process...|\n",
      "|      323|uncertain informa...|\n",
      "|      340|histology image;s...|\n",
      "+---------+--------------------+\n",
      "only showing top 20 rows\n",
      "\n"
     ]
    }
   ],
   "source": [
    "### load research_interests into schema\n",
    "research_interests_df = createDFFromFileAndSchema(spark, f'{FILES_FOLDER}research_interests.csv', f'{SCHEMAS_FOLDER}research_interests.csv')\n",
    "research_interests_df.show()"
   ]
  },
  {
   "cell_type": "code",
   "execution_count": 77,
   "id": "296ee220",
   "metadata": {
    "pycharm": {
     "is_executing": true
    }
   },
   "outputs": [
    {
     "name": "stdout",
     "output_type": "stream",
     "text": [
      "root\n",
      " |-- author_id: integer (nullable = true)\n",
      " |-- research_interests: string (nullable = true)\n",
      "\n",
      "+---------+--------------------+\n",
      "|author_id|  research_interests|\n",
      "+---------+--------------------+\n",
      "|       17|HIV disease;Inter...|\n",
      "|       34|associate polynom...|\n",
      "|       51|metadata element;...|\n",
      "|       68|Web Service;conte...|\n",
      "|       85|intermediate key;...|\n",
      "|      102|feedback loop;dif...|\n",
      "|      119|Rough Set;nomal C...|\n",
      "|      136|MATLAB toolbox;li...|\n",
      "|      153|Byzantine agreeme...|\n",
      "|      170|Ein objektorienti...|\n",
      "|      187|portable device;A...|\n",
      "|      204|Integer-valued pr...|\n",
      "|      221|stock price;stock...|\n",
      "|      238|Hypermedia Synchr...|\n",
      "|      255|computer-mediated...|\n",
      "|      272|Dijkstra method;o...|\n",
      "|      289|low-frequency act...|\n",
      "|      306|copyright process...|\n",
      "|      323|uncertain informa...|\n",
      "|      340|histology image;s...|\n",
      "+---------+--------------------+\n",
      "only showing top 20 rows\n",
      "\n"
     ]
    }
   ],
   "source": [
    "### remove leading and trailing spaces\n",
    "research_interests_df = research_interests_df.withColumn(\"author_id\", trim(research_interests_df.author_id))\n",
    "research_interests_df = research_interests_df.withColumn(\"research_interests\", trim(research_interests_df.research_interests))\n",
    "\n",
    "### change data type to Integer for author_id\n",
    "research_interests_df = research_interests_df.withColumn(\"author_id\",research_interests_df[\"author_id\"].cast(IntegerType()))\n",
    "\n",
    "research_interests_df.printSchema()\n",
    "research_interests_df.show()"
   ]
  },
  {
   "cell_type": "code",
   "execution_count": 78,
   "id": "b967513d",
   "metadata": {
    "pycharm": {
     "is_executing": true
    }
   },
   "outputs": [
    {
     "name": "stderr",
     "output_type": "stream",
     "text": [
      "[Stage 81:==============>                                           (1 + 3) / 4]\r"
     ]
    },
    {
     "name": "stdout",
     "output_type": "stream",
     "text": [
      "+---------+------------------+\n",
      "|author_id|research_interests|\n",
      "+---------+------------------+\n",
      "|        0|             15399|\n",
      "+---------+------------------+\n",
      "\n"
     ]
    },
    {
     "name": "stderr",
     "output_type": "stream",
     "text": [
      "\r",
      "                                                                                \r"
     ]
    }
   ],
   "source": [
    "### check for null values in the affiliations column\n",
    "research_interests_df.select([count(when(isnan(c) | col(c).isNull(), c)).alias(c) for c in research_interests_df.columns]).show()\n",
    "### drop null values since we dont need research_interests for any computation\n",
    "research_interests_df=research_interests_df.na.drop(how=\"any\", subset=['research_interests'])\n"
   ]
  },
  {
   "cell_type": "code",
   "execution_count": 79,
   "id": "16cf3d09",
   "metadata": {
    "pycharm": {
     "is_executing": true
    }
   },
   "outputs": [
    {
     "name": "stdout",
     "output_type": "stream",
     "text": [
      "+---------+-----------------------------------------+\n",
      "|author_id|research_interest                        |\n",
      "+---------+-----------------------------------------+\n",
      "|17       |HIV disease                              |\n",
      "|17       |Internet resource                        |\n",
      "|17       |World-Wide Web                           |\n",
      "|17       |clinical management                      |\n",
      "|34       |associate polynomial term                |\n",
      "|34       |bivariate polynomial                     |\n",
      "|34       |difficult computational problem          |\n",
      "|34       |novel polynomial                         |\n",
      "|34       |polynomial multiplication problem        |\n",
      "|34       |polynomial term                          |\n",
      "|34       |reachability problem                     |\n",
      "|34       |Probabilistic Reachability               |\n",
      "|34       |Reachability analysis                    |\n",
      "|34       |better time complexity                   |\n",
      "|51       |metadata element                         |\n",
      "|51       |metadata record                          |\n",
      "|51       |Dublin Core metadata                     |\n",
      "|51       |PaperBase extracts metadata              |\n",
      "|51       |Semi automated metadata extraction       |\n",
      "|51       |applicationAs metadata providers increase|\n",
      "+---------+-----------------------------------------+\n",
      "only showing top 20 rows\n",
      "\n",
      "+---------+--------------------------------------------------------------------------------------------------------------------------------------------------------------------------------------------------------------------------------------------------------------------------------------+\n",
      "|author_id|research_interests                                                                                                                                                                                                                                                                    |\n",
      "+---------+--------------------------------------------------------------------------------------------------------------------------------------------------------------------------------------------------------------------------------------------------------------------------------------+\n",
      "|17       |HIV disease;Internet resource;World-Wide Web;clinical management                                                                                                                                                                                                                      |\n",
      "|34       |associate polynomial term;bivariate polynomial;difficult computational problem;novel polynomial;polynomial multiplication problem;polynomial term;reachability problem;Probabilistic Reachability;Reachability analysis;better time complexity                                        |\n",
      "|51       |metadata element;metadata record;Dublin Core metadata;PaperBase extracts metadata;Semi automated metadata extraction;applicationAs metadata providers increase;automated metadata extraction tool;metadata correction process;metadata revision process;metadata revision processMetRe|\n",
      "|68       |Web Service;context information;mobile device;Web Service standard;Web technology;Web service operation;location-based GIS Web Service;location-based secured GIS Web;secured GIS Web Service;heterogeneous mobile device                                                             |\n",
      "|85       |intermediate key;key layering;key rotation;system key;encryption algorithm;encryption organization;authentication procedure;message authentication;message digit substitution;telesurveillance system                                                                                 |\n",
      "|102      |feedback loop;different reuse measure;reuse growth factor;software reuse;reusable code repository;reusable library component;reusable software;software development process;Heterogenous Linux;LUI6Remote Linux explainedLearn                                                        |\n",
      "|119      |Rough Set;nomal Counter Propagation Neural;CP Neural Network;Counter Propagation Neural Network;Rough Membership Function;Rough Set theory;edge detection;Image Edge;good result                                                                                                      |\n",
      "|136      |MATLAB toolbox;linear system;linear systemsDevelopment                                                                                                                                                                                                                                |\n",
      "|153      |Byzantine agreement;algorithms work;random bit;reliable algorithm;Random Beacon;Byzantine agreement problem;scalable byzantine agreement;classical problem;important problem;serious problem                                                                                          |\n",
      "|170      |Ein objektorientiertes System zur;tzung der Thesauruspflege                                                                                                                                                                                                                           |\n",
      "|187      |portable device;ASF format;TSM format;new Streaming Media format;new media format;proposed format;experiment TSM;Streaming Media;capacitive touch display;common VODs                                                                                                                 |\n",
      "|204      |Integer-valued problem;k-valued code;pattern recognition problem;training table                                                                                                                                                                                                       |\n",
      "|221      |stock price;stock prices databases;stock trendsIt;Chinese local newspaper;financial event;financial news;frequent episode;frequent temporal pattern;economic event;new method                                                                                                         |\n",
      "|238      |Hypermedia Synchronisation;Hypermedia SynchronisationMultimedia Synchronization;Communication System;Unified FrameworkA Scheme                                                                                                                                                        |\n",
      "|255      |computer-mediated intervention;preschool student;research question;intervention group;computer-mediated instruction;classroom teacher instruction;comparison group;receptive vocabulary;computer intervention;Two-Factor Repeated Measures                                            |\n",
      "|272      |Dijkstra method;optimal mixed strategy;team Zeng99;cable routing;genetic algorithm;genetic operation;optimization problem;two-level hierarchical GA;Open Zeng;formation property                                                                                                      |\n",
      "|289      |low-frequency active load-pull system;low-frequency drain termination;nonlinear amplifier performance;nonlinear performance;Inc. Int J RF;Microwave CAE;Non-linear analysis;Research ArticlesLow-frequency parameter;Two-tone simulation;WSEAS international conference               |\n",
      "|306      |copyright processing;image library;next-generation digital image library;Library SystemA;Next-Generation Digital Image;multiple network;mutual interconnectivity;new method;object-oriented technology;secondary usage                                                                |\n",
      "|323      |uncertain information;appropriate trust;complex dynamic environment;complex military systemsUtilization;complex systems concern;high-risk decision;new decision aid system;new decision aid systemsOne;new technology;system designer                                                 |\n",
      "|340      |histology image;sensitive method;research context;automated histology image annotation;high-resolution histology slide;irregular histology image;Towards efficient automated characterization;automated annotation;automated characterization;automated method                        |\n",
      "+---------+--------------------------------------------------------------------------------------------------------------------------------------------------------------------------------------------------------------------------------------------------------------------------------------+\n",
      "only showing top 20 rows\n",
      "\n"
     ]
    }
   ],
   "source": [
    "### split affiliations so we can have clean data and seperate records {paper_id; affiliations}\n",
    "unique_research_interests_df = research_interests_df.select(F.col(\"author_id\"), F.explode(F.split(F.col(\"research_interests\"),\";\")).alias(\"research_interest\"))\n",
    "unique_research_interests_df.show(20, False)\n",
    "research_interests_df.show(20, False)\n"
   ]
  },
  {
   "cell_type": "code",
   "execution_count": 80,
   "id": "00ef0111",
   "metadata": {
    "pycharm": {
     "is_executing": true
    }
   },
   "outputs": [],
   "source": [
    "### remove leading and trailing spaces\n",
    "unique_research_interests_df = unique_research_interests_df.withColumn(\"author_id\", trim(unique_research_interests_df.author_id))\n",
    "unique_research_interests_df = unique_research_interests_df.withColumn(\"research_interest\", trim(unique_research_interests_df.research_interest))\n",
    "\n",
    "### change data type to Integer for author_id\n",
    "unique_research_interests_df = unique_research_interests_df.withColumn(\"author_id\",unique_research_interests_df[\"author_id\"].cast(IntegerType()))"
   ]
  },
  {
   "cell_type": "code",
   "execution_count": 81,
   "id": "4cacff62",
   "metadata": {
    "pycharm": {
     "is_executing": true
    }
   },
   "outputs": [],
   "source": [
    "#### clean special characters and special letters\n",
    "unique_research_interests_df = clean_special_character(unique_research_interests_df, 'research_interest')\n",
    "unique_research_interests_df = clean_special_letters(unique_research_interests_df, 'research_interest')\n",
    "### lowercase research_interests\n",
    "unique_research_interests_df=unique_research_interests_df.withColumn('research_interest', lower(col('research_interest')))"
   ]
  },
  {
   "cell_type": "code",
   "execution_count": 82,
   "id": "d855bc9f",
   "metadata": {
    "pycharm": {
     "is_executing": true
    }
   },
   "outputs": [],
   "source": [
    "### check for duplicate rows:\n",
    "### unique_research_interests_df.groupby(['author_id', 'research_interest']).count().where('count > 1').sort('count', ascending=False).show()\n",
    "### drop duplicates\n",
    "unique_research_interests_df=unique_research_interests_df.dropDuplicates()\n"
   ]
  },
  {
   "cell_type": "code",
   "execution_count": null,
   "id": "342c3937",
   "metadata": {},
   "outputs": [],
   "source": []
  },
  {
   "cell_type": "code",
   "execution_count": 83,
   "id": "f1101afd",
   "metadata": {
    "pycharm": {
     "is_executing": true
    }
   },
   "outputs": [
    {
     "name": "stderr",
     "output_type": "stream",
     "text": [
      "[Stage 88:>                                                         (0 + 1) / 1]\r"
     ]
    },
    {
     "name": "stdout",
     "output_type": "stream",
     "text": [
      "+---------+--------------------+\n",
      "|author_id|   research_interest|\n",
      "+---------+--------------------+\n",
      "|      106|      support system|\n",
      "|      157|motorola ppg soft...|\n",
      "|      290|       ordpath value|\n",
      "|      310|     ber performance|\n",
      "|      341|        trained famr|\n",
      "|      378|term-by-document ...|\n",
      "|      527|digital informati...|\n",
      "|      548|  digital game title|\n",
      "|      768|    business process|\n",
      "|     1004|experiment selection|\n",
      "|     1038|best rational wei...|\n",
      "|     1089|air force weather...|\n",
      "|     1091|dynamic threateni...|\n",
      "|     1258|    simple algorithm|\n",
      "|     1479|overall good segm...|\n",
      "|     1617|       strip tension|\n",
      "|     1650|       mobile device|\n",
      "|     1838|    adaptive control|\n",
      "|     2041|     improved design|\n",
      "|     2059|  image segmentation|\n",
      "+---------+--------------------+\n",
      "only showing top 20 rows\n",
      "\n"
     ]
    },
    {
     "name": "stderr",
     "output_type": "stream",
     "text": [
      "\r",
      "                                                                                \r"
     ]
    }
   ],
   "source": [
    "unique_research_interests_df.show()"
   ]
  },
  {
   "cell_type": "code",
   "execution_count": 84,
   "id": "c32ed493",
   "metadata": {
    "pycharm": {
     "is_executing": true
    }
   },
   "outputs": [],
   "source": [
    "# clean up research interests\n",
    "final_research_interests_df = unique_research_interests_df.join(final_paper_author_id_df, \\\n",
    "                            ['author_id'], 'inner').select(F.col('author_id'),\\\n",
    "                                                           F.col('research_interest')).dropDuplicates()"
   ]
  },
  {
   "cell_type": "code",
   "execution_count": null,
   "id": "8738afbd",
   "metadata": {
    "pycharm": {
     "is_executing": true
    }
   },
   "outputs": [],
   "source": []
  },
  {
   "cell_type": "markdown",
   "id": "10818814",
   "metadata": {},
   "source": [
    "# Run Queries"
   ]
  },
  {
   "cell_type": "markdown",
   "id": "6b36310d",
   "metadata": {},
   "source": [
    "### Q1.2 Compute paper count per unique affiliation"
   ]
  },
  {
   "cell_type": "code",
   "execution_count": 85,
   "id": "08f3126d",
   "metadata": {
    "pycharm": {
     "is_executing": true
    }
   },
   "outputs": [
    {
     "name": "stderr",
     "output_type": "stream",
     "text": [
      "22/01/20 16:06:58 WARN RowBasedKeyValueBatch: Calling spill() on RowBasedKeyValueBatch. Will not spill but return 0.\n",
      "22/01/20 16:06:58 WARN RowBasedKeyValueBatch: Calling spill() on RowBasedKeyValueBatch. Will not spill but return 0.\n",
      "22/01/20 16:06:58 WARN RowBasedKeyValueBatch: Calling spill() on RowBasedKeyValueBatch. Will not spill but return 0.\n",
      "22/01/20 16:06:58 WARN RowBasedKeyValueBatch: Calling spill() on RowBasedKeyValueBatch. Will not spill but return 0.\n",
      "[Stage 114:======================>                                  (2 + 3) / 5]\r"
     ]
    },
    {
     "name": "stdout",
     "output_type": "stream",
     "text": [
      "+--------------------+------------+\n",
      "|         affiliation|papers_count|\n",
      "+--------------------+------------+\n",
      "|carnegie-mellon u...|         386|\n",
      "|shanghai teachers...|           2|\n",
      "|ibm japan, ltd., ...|           1|\n",
      "|gte laboratories,...|           7|\n",
      "|royal swedish aca...|           1|\n",
      "|univ. of patras, ...|          33|\n",
      "|univ. de sevilla,...|           1|\n",
      "|department of ele...|          20|\n",
      "|beyond words publ...|           1|\n",
      "|troy tech, 2200 e...|           1|\n",
      "|the bdm corporati...|           1|\n",
      "|the university of...|           2|\n",
      "|university of mia...|          45|\n",
      "|baylor college of...|          11|\n",
      "|univ. of alberta,...|          21|\n",
      "|technical univ., ...|           2|\n",
      "|univ. laval, que´...|           3|\n",
      "|univ. paderborn, ...|           4|\n",
      "|c&c information r...|           1|\n",
      "|univ. of torino, ...|           1|\n",
      "+--------------------+------------+\n",
      "only showing top 20 rows\n",
      "\n",
      "None\n"
     ]
    },
    {
     "name": "stderr",
     "output_type": "stream",
     "text": [
      "\r",
      "                                                                                \r"
     ]
    }
   ],
   "source": [
    "## Fact table\n",
    "paper_count_per_affiliation_df = final_affiliations_df.groupBy('affiliation').count().withColumnRenamed(\"count\", \"papers_count\")\n",
    "print(paper_count_per_affiliation_df.show())"
   ]
  },
  {
   "cell_type": "code",
   "execution_count": 87,
   "id": "8b2ce4bb",
   "metadata": {},
   "outputs": [
    {
     "name": "stderr",
     "output_type": "stream",
     "text": [
      "                                                                                \r"
     ]
    },
    {
     "data": {
      "text/plain": [
       "970892"
      ]
     },
     "execution_count": 87,
     "metadata": {},
     "output_type": "execute_result"
    }
   ],
   "source": [
    "paper_count_per_affiliation_df.count()"
   ]
  },
  {
   "cell_type": "code",
   "execution_count": 88,
   "id": "dac6b11b",
   "metadata": {},
   "outputs": [
    {
     "name": "stderr",
     "output_type": "stream",
     "text": [
      "22/01/20 16:18:14 WARN RowBasedKeyValueBatch: Calling spill() on RowBasedKeyValueBatch. Will not spill but return 0.\n",
      "22/01/20 16:18:14 WARN RowBasedKeyValueBatch: Calling spill() on RowBasedKeyValueBatch. Will not spill but return 0.\n",
      "22/01/20 16:18:14 WARN RowBasedKeyValueBatch: Calling spill() on RowBasedKeyValueBatch. Will not spill but return 0.\n",
      "22/01/20 16:18:14 WARN RowBasedKeyValueBatch: Calling spill() on RowBasedKeyValueBatch. Will not spill but return 0.\n",
      "[Stage 233:=============================================>           (4 + 1) / 5]\r"
     ]
    },
    {
     "name": "stdout",
     "output_type": "stream",
     "text": [
      "+-------------------------------------------------------------------------------------------------------+------------+\n",
      "|affiliation                                                                                            |papers_count|\n",
      "+-------------------------------------------------------------------------------------------------------+------------+\n",
      "|carnegie-mellon univ., pittsburgh, pa                                                                  |386         |\n",
      "|shanghai teachers univ.                                                                                |2           |\n",
      "|ibm japan, ltd., science institute                                                                     |1           |\n",
      "|gte laboratories, inc., waltham, ma                                                                    |7           |\n",
      "|royal swedish academy of sciences, stockholm, sweden                                                   |1           |\n",
      "|univ. of patras, patras, greece                                                                        |33          |\n",
      "|univ. de sevilla, seville, spain                                                                       |1           |\n",
      "|department of electrical and computer engineering, carnegie mellon university, pittsburgh, pennsylvania|20          |\n",
      "|beyond words publishing, portland, or                                                                  |1           |\n",
      "|troy tech, 2200 e. dorothy ln., fullerton, california                                                  |1           |\n",
      "|the bdm corporation, mclean, va                                                                        |1           |\n",
      "|the university of the witwatersrand, johannesburg, south africa                                        |2           |\n",
      "|university of miami, coral gables, fl                                                                  |45          |\n",
      "|baylor college of medicine                                                                             |11          |\n",
      "|univ. of alberta, edmonton                                                                             |21          |\n",
      "|technical univ., warsaw, poland                                                                        |2           |\n",
      "|univ. laval, que´bec, p.q., canada                                                                     |3           |\n",
      "|univ. paderborn, paderborn, w. germany                                                                 |4           |\n",
      "|c&c information research laboratories, kawasaki, japan                                                 |1           |\n",
      "|univ. of torino, torino. italy                                                                         |1           |\n",
      "+-------------------------------------------------------------------------------------------------------+------------+\n",
      "only showing top 20 rows\n",
      "\n"
     ]
    },
    {
     "name": "stderr",
     "output_type": "stream",
     "text": [
      "\r",
      "[Stage 243:>                                                        (0 + 1) / 1]\r",
      "\r",
      "                                                                                \r"
     ]
    }
   ],
   "source": [
    "paper_count_per_affiliation_df.show(truncate=False)"
   ]
  },
  {
   "cell_type": "markdown",
   "id": "6dcbc2f1",
   "metadata": {},
   "source": [
    "### Q1.1 Validate precomputed paper counts, citation (ref) counts and h-indexes (per author)"
   ]
  },
  {
   "cell_type": "markdown",
   "id": "44bb36be",
   "metadata": {},
   "source": [
    "#### How to compute h-index for a specific author\n",
    "1. Retrieve all publications of the author (in unique_paper_author_df)\n",
    "2. Calculate the number of references per publication\n",
    "3. Sort the results in descending order\n",
    "4. Find a threshold N, where N top publications have at least N references each. N is the h-index of the author.\n"
   ]
  },
  {
   "cell_type": "code",
   "execution_count": 89,
   "id": "82c4fe33",
   "metadata": {
    "pycharm": {
     "is_executing": true
    }
   },
   "outputs": [
    {
     "name": "stderr",
     "output_type": "stream",
     "text": [
      "22/01/20 16:21:45 WARN RowBasedKeyValueBatch: Calling spill() on RowBasedKeyValueBatch. Will not spill but return 0.\n",
      "22/01/20 16:21:46 WARN RowBasedKeyValueBatch: Calling spill() on RowBasedKeyValueBatch. Will not spill but return 0.\n",
      "22/01/20 16:21:46 WARN RowBasedKeyValueBatch: Calling spill() on RowBasedKeyValueBatch. Will not spill but return 0.\n",
      "22/01/20 16:21:46 WARN RowBasedKeyValueBatch: Calling spill() on RowBasedKeyValueBatch. Will not spill but return 0.\n",
      "[Stage 275:=============================================>           (4 + 1) / 5]\r"
     ]
    },
    {
     "name": "stdout",
     "output_type": "stream",
     "text": [
      "+--------+----------------+\n",
      "|paper_id|paper_references|\n",
      "+--------+----------------+\n",
      "| 1000240|              15|\n",
      "| 1000280|               6|\n",
      "| 1000665|              12|\n",
      "| 1000795|               1|\n",
      "| 1000839|              22|\n",
      "| 1002011|               7|\n",
      "| 1010896|              14|\n",
      "| 1011172|              12|\n",
      "| 1011187|               4|\n",
      "| 1013585|              13|\n",
      "| 1015263|               9|\n",
      "| 1015827|              25|\n",
      "| 1015968|               8|\n",
      "| 1016299|              39|\n",
      "| 1018899|              12|\n",
      "| 1019505|              14|\n",
      "| 1019885|               3|\n",
      "| 1020260|               6|\n",
      "| 1021104|              10|\n",
      "| 1022204|              23|\n",
      "+--------+----------------+\n",
      "only showing top 20 rows\n",
      "\n",
      "None\n"
     ]
    },
    {
     "name": "stderr",
     "output_type": "stream",
     "text": [
      "\r",
      "[Stage 285:>                                                        (0 + 1) / 1]\r",
      "\r",
      "                                                                                \r"
     ]
    }
   ],
   "source": [
    "# Calculate the number of references per publication\n",
    "refs_per_paper_count_df = final_citation_df.groupBy(\"paper_id\").count().withColumnRenamed(\"count\",\"paper_references\")\n",
    "print(refs_per_paper_count_df.show())"
   ]
  },
  {
   "cell_type": "code",
   "execution_count": 90,
   "id": "acc18de6",
   "metadata": {},
   "outputs": [
    {
     "name": "stderr",
     "output_type": "stream",
     "text": [
      "                                                                                \r"
     ]
    },
    {
     "data": {
      "text/plain": [
       "853240"
      ]
     },
     "execution_count": 90,
     "metadata": {},
     "output_type": "execute_result"
    }
   ],
   "source": [
    "refs_per_paper_count_df.count()"
   ]
  },
  {
   "cell_type": "code",
   "execution_count": null,
   "id": "6e62793c",
   "metadata": {},
   "outputs": [],
   "source": []
  },
  {
   "cell_type": "code",
   "execution_count": 91,
   "id": "3d2dc42a",
   "metadata": {
    "pycharm": {
     "is_executing": true
    }
   },
   "outputs": [
    {
     "name": "stderr",
     "output_type": "stream",
     "text": [
      "22/01/20 16:29:06 WARN RowBasedKeyValueBatch: Calling spill() on RowBasedKeyValueBatch. Will not spill but return 0.\n",
      "22/01/20 16:29:06 WARN RowBasedKeyValueBatch: Calling spill() on RowBasedKeyValueBatch. Will not spill but return 0.\n",
      "22/01/20 16:29:06 WARN RowBasedKeyValueBatch: Calling spill() on RowBasedKeyValueBatch. Will not spill but return 0.\n",
      "22/01/20 16:29:06 WARN RowBasedKeyValueBatch: Calling spill() on RowBasedKeyValueBatch. Will not spill but return 0.\n",
      "[Stage 382:>                                                        (0 + 4) / 5]\r"
     ]
    },
    {
     "name": "stdout",
     "output_type": "stream",
     "text": [
      "+--------+------------+---------+--------------+-------+-----------+----------------+\n",
      "|paper_id|        name|author_id|citation_count|h_index|paper_count|paper_references|\n",
      "+--------+------------+---------+--------------+-------+-----------+----------------+\n",
      "| 2015219|      dahlin|   541094|             0|      0|          1|             806|\n",
      "| 2015219|    kaminsky|   794803|           868|     14|         48|             806|\n",
      "|  719353|   grabmeier|   565318|           109|      4|         13|             772|\n",
      "|  719353|weispfenning|   631885|           559|     12|         46|             772|\n",
      "|  719353|    kaltofen|    84799|          1252|     21|        119|             772|\n",
      "| 1221204|        wang|  1051702|            16|      1|          1|             555|\n",
      "| 1583653|       ebert|   521293|            61|      5|         40|             527|\n",
      "| 1583653|       meyer|   545269|            26|      3|         16|             527|\n",
      "| 1583653|      kerren|   244574|           149|      7|         39|             527|\n",
      "| 1376720|     sanders|  1602439|          1170|     18|        110|             524|\n",
      "| 1376720|       meyer|   838019|           280|     11|         39|             524|\n",
      "| 1376720|      sibeyn|   811218|           199|      8|         48|             524|\n",
      "| 1221200|       dehon|  1062188|           948|     18|         80|             523|\n",
      "| 1221200|       hauck|   715936|          1073|     17|         82|             523|\n",
      "|  932477|     micheli|  1365751|          1009|     18|        115|             476|\n",
      "|  932477|      benini|    30559|          4815|     33|        366|             476|\n",
      "| 1504996|     schirra|  1217682|           260|     10|         30|             435|\n",
      "|  936367|       bartz|   100900|           252|      8|         42|             412|\n",
      "|  936367|       preim|   516029|           208|      8|         67|             412|\n",
      "| 1442657|    ringwood|   239225|            51|      3|         12|             408|\n",
      "+--------+------------+---------+--------------+-------+-----------+----------------+\n",
      "only showing top 20 rows\n",
      "\n",
      "None\n"
     ]
    },
    {
     "name": "stderr",
     "output_type": "stream",
     "text": [
      "\r",
      "[Stage 382:======================>                                  (2 + 3) / 5]\r",
      "\r",
      "                                                                                \r"
     ]
    }
   ],
   "source": [
    "# Join [papers per author] with [references per paper] and sort the results in descending order\n",
    "author_papers_with_ref_count = final_paper_author_id_df.join(refs_per_paper_count_df, 'paper_id')\\\n",
    "    .sort(col(\"paper_references\").desc())\n",
    "print(author_papers_with_ref_count.show())\n"
   ]
  },
  {
   "cell_type": "code",
   "execution_count": 97,
   "id": "656a90c3",
   "metadata": {
    "pycharm": {
     "is_executing": true
    }
   },
   "outputs": [],
   "source": [
    "window = Window.partitionBy(author_papers_with_ref_count['author_id']).orderBy(desc(\"paper_references\"), desc(\"paper_id\"))\n",
    "indexed_grouped_papers_df = author_papers_with_ref_count.select('*', rank().over(window).alias('index'))\n"
   ]
  },
  {
   "cell_type": "code",
   "execution_count": 98,
   "id": "670dbb5c",
   "metadata": {
    "pycharm": {
     "is_executing": true
    }
   },
   "outputs": [
    {
     "name": "stderr",
     "output_type": "stream",
     "text": [
      "22/01/20 16:46:36 WARN RowBasedKeyValueBatch: Calling spill() on RowBasedKeyValueBatch. Will not spill but return 0.\n",
      "22/01/20 16:46:36 WARN RowBasedKeyValueBatch: Calling spill() on RowBasedKeyValueBatch. Will not spill but return 0.\n",
      "22/01/20 16:46:36 WARN RowBasedKeyValueBatch: Calling spill() on RowBasedKeyValueBatch. Will not spill but return 0.\n",
      "22/01/20 16:46:36 WARN RowBasedKeyValueBatch: Calling spill() on RowBasedKeyValueBatch. Will not spill but return 0.\n",
      "[Stage 556:=============================================>           (4 + 1) / 5]\r"
     ]
    },
    {
     "name": "stdout",
     "output_type": "stream",
     "text": [
      "+--------+-----------------+---------+--------------+-------+-----------+----------------+-----+----------------+\n",
      "|paper_id|name             |author_id|citation_count|h_index|paper_count|paper_references|index|possible_h_index|\n",
      "+--------+-----------------+---------+--------------+-------+-----------+----------------+-----+----------------+\n",
      "|1620013 |weaver           |13       |14            |2      |9          |16              |1    |1               |\n",
      "|1694598 |weaver           |13       |14            |2      |9          |13              |2    |2               |\n",
      "|1487562 |weaver           |13       |14            |2      |9          |8               |3    |3               |\n",
      "|1384282 |weaver           |13       |14            |2      |9          |8               |4    |4               |\n",
      "|1098969 |weaver           |13       |14            |2      |9          |2               |5    |0               |\n",
      "|1629976 |weaver           |13       |14            |2      |9          |1               |6    |0               |\n",
      "|1467381 |weaver           |13       |14            |2      |9          |1               |7    |0               |\n",
      "|1093651 |weaver           |13       |14            |2      |9          |1               |8    |0               |\n",
      "|977126  |whitfield        |22       |0             |0      |1          |1               |1    |1               |\n",
      "|421722  |wong             |28       |5             |1      |2          |5               |1    |1               |\n",
      "|2006894 |gabr             |34       |0             |0      |2          |8               |1    |1               |\n",
      "|1564414 |martinet         |52       |20            |3      |13         |40              |1    |1               |\n",
      "|1072604 |martinet         |52       |20            |3      |13         |35              |2    |2               |\n",
      "|1871918 |martinet         |52       |20            |3      |13         |30              |3    |3               |\n",
      "|1957593 |martinet         |52       |20            |3      |13         |22              |4    |4               |\n",
      "|838539  |martinet         |52       |20            |3      |13         |16              |5    |5               |\n",
      "|1567202 |martinet         |52       |20            |3      |13         |13              |6    |6               |\n",
      "|1548679 |martinet         |52       |20            |3      |13         |7               |7    |7               |\n",
      "|1401327 |martinet         |52       |20            |3      |13         |6               |8    |0               |\n",
      "|1392477 |martinet         |52       |20            |3      |13         |6               |9    |0               |\n",
      "|1387573 |martinet         |52       |20            |3      |13         |6               |10   |0               |\n",
      "|1132027 |martinet         |52       |20            |3      |13         |3               |11   |0               |\n",
      "|340538  |wilson           |93       |1             |1      |1          |3               |1    |1               |\n",
      "|861980  |birbas           |108      |12            |2      |20         |16              |1    |1               |\n",
      "|1723080 |birbas           |108      |12            |2      |20         |12              |2    |2               |\n",
      "|330015  |birbas           |108      |12            |2      |20         |11              |3    |3               |\n",
      "|1723745 |birbas           |108      |12            |2      |20         |6               |4    |4               |\n",
      "|1339495 |birbas           |108      |12            |2      |20         |6               |5    |5               |\n",
      "|1879784 |birbas           |108      |12            |2      |20         |4               |6    |0               |\n",
      "|614754  |birbas           |108      |12            |2      |20         |4               |7    |0               |\n",
      "|1421713 |birbas           |108      |12            |2      |20         |3               |8    |0               |\n",
      "|1000231 |birbas           |108      |12            |2      |20         |3               |9    |0               |\n",
      "|614728  |birbas           |108      |12            |2      |20         |3               |10   |0               |\n",
      "|1374062 |birbas           |108      |12            |2      |20         |1               |11   |0               |\n",
      "|1995351 |gupta            |111      |11            |2      |7          |11              |1    |1               |\n",
      "|1526952 |gupta            |111      |11            |2      |7          |10              |2    |2               |\n",
      "|1724150 |gupta            |111      |11            |2      |7          |8               |3    |3               |\n",
      "|1875044 |gupta            |111      |11            |2      |7          |7               |4    |4               |\n",
      "|318235  |hanson           |132      |407           |10     |41         |29              |1    |1               |\n",
      "|320134  |hanson           |132      |407           |10     |41         |19              |2    |2               |\n",
      "|830286  |hanson           |132      |407           |10     |41         |18              |3    |3               |\n",
      "|318200  |hanson           |132      |407           |10     |41         |18              |4    |4               |\n",
      "|135879  |hanson           |132      |407           |10     |41         |16              |5    |5               |\n",
      "|127915  |hanson           |132      |407           |10     |41         |15              |6    |6               |\n",
      "|1797081 |hanson           |132      |407           |10     |41         |13              |7    |7               |\n",
      "|602960  |hanson           |132      |407           |10     |41         |13              |8    |8               |\n",
      "|602559  |hanson           |132      |407           |10     |41         |12              |9    |9               |\n",
      "|285987  |hanson           |132      |407           |10     |41         |11              |10   |10              |\n",
      "|601737  |hanson           |132      |407           |10     |41         |10              |11   |0               |\n",
      "|336772  |hanson           |132      |407           |10     |41         |10              |12   |0               |\n",
      "|979686  |hanson           |132      |407           |10     |41         |8               |13   |0               |\n",
      "|603028  |hanson           |132      |407           |10     |41         |8               |14   |0               |\n",
      "|756018  |hanson           |132      |407           |10     |41         |7               |15   |0               |\n",
      "|729515  |hanson           |132      |407           |10     |41         |7               |16   |0               |\n",
      "|729290  |hanson           |132      |407           |10     |41         |7               |17   |0               |\n",
      "|607491  |hanson           |132      |407           |10     |41         |6               |18   |0               |\n",
      "|753670  |hanson           |132      |407           |10     |41         |3               |19   |0               |\n",
      "|321620  |hanson           |132      |407           |10     |41         |2               |20   |0               |\n",
      "|318236  |hanson           |132      |407           |10     |41         |2               |21   |0               |\n",
      "|1292875 |cadre            |140      |12            |1      |2          |7               |1    |1               |\n",
      "|437703  |khajenoori       |157      |47            |2      |10         |6               |1    |1               |\n",
      "|276076  |khajenoori       |157      |47            |2      |10         |6               |2    |2               |\n",
      "|441382  |khajenoori       |157      |47            |2      |10         |5               |3    |3               |\n",
      "|786821  |khajenoori       |157      |47            |2      |10         |3               |4    |0               |\n",
      "|1438444 |glentis          |159      |30            |3      |23         |22              |1    |1               |\n",
      "|2032060 |glentis          |159      |30            |3      |23         |16              |2    |2               |\n",
      "|1954780 |glentis          |159      |30            |3      |23         |16              |3    |3               |\n",
      "|868075  |glentis          |159      |30            |3      |23         |10              |4    |4               |\n",
      "|841793  |glentis          |159      |30            |3      |23         |8               |5    |5               |\n",
      "|1570342 |glentis          |159      |30            |3      |23         |7               |6    |6               |\n",
      "|1596256 |glentis          |159      |30            |3      |23         |6               |7    |0               |\n",
      "|612159  |zhuravlev        |177      |1             |1      |1          |1               |1    |1               |\n",
      "|32112   |kermani          |182      |4             |1      |2          |3               |1    |1               |\n",
      "|2052979 |wang             |185      |0             |0      |1          |16              |1    |1               |\n",
      "|461689  |veres            |193      |2             |1      |1          |2               |1    |1               |\n",
      "|526903  |lopatkov-lopatkov|210      |0             |0      |1          |1               |1    |1               |\n",
      "|1957538 |tornatore        |218      |59            |4      |30         |23              |1    |1               |\n",
      "|999591  |tornatore        |218      |59            |4      |30         |16              |2    |2               |\n",
      "|1694529 |tornatore        |218      |59            |4      |30         |11              |3    |3               |\n",
      "|1624650 |tornatore        |218      |59            |4      |30         |11              |4    |4               |\n",
      "|1434237 |tornatore        |218      |59            |4      |30         |11              |5    |5               |\n",
      "|1808606 |tornatore        |218      |59            |4      |30         |10              |6    |6               |\n",
      "|1742496 |tornatore        |218      |59            |4      |30         |10              |7    |7               |\n",
      "|1585370 |tornatore        |218      |59            |4      |30         |9               |8    |8               |\n",
      "|1556922 |tornatore        |218      |59            |4      |30         |9               |9    |9               |\n",
      "|1430389 |tornatore        |218      |59            |4      |30         |9               |10   |0               |\n",
      "|1449113 |tornatore        |218      |59            |4      |30         |8               |11   |0               |\n",
      "|1880530 |tornatore        |218      |59            |4      |30         |7               |12   |0               |\n",
      "|1827819 |tornatore        |218      |59            |4      |30         |7               |13   |0               |\n",
      "|2076346 |tornatore        |218      |59            |4      |30         |6               |14   |0               |\n",
      "|1827716 |tornatore        |218      |59            |4      |30         |6               |15   |0               |\n",
      "|1430386 |tornatore        |218      |59            |4      |30         |6               |16   |0               |\n",
      "|1328679 |tornatore        |218      |59            |4      |30         |6               |17   |0               |\n",
      "|1066273 |tornatore        |218      |59            |4      |30         |6               |18   |0               |\n",
      "|1438696 |tornatore        |218      |59            |4      |30         |5               |19   |0               |\n",
      "|1435697 |tornatore        |218      |59            |4      |30         |5               |20   |0               |\n",
      "|1430020 |tornatore        |218      |59            |4      |30         |4               |21   |0               |\n",
      "|1416463 |tornatore        |218      |59            |4      |30         |4               |22   |0               |\n",
      "|1356088 |tornatore        |218      |59            |4      |30         |4               |23   |0               |\n",
      "|1435703 |tornatore        |218      |59            |4      |30         |3               |24   |0               |\n",
      "+--------+-----------------+---------+--------------+-------+-----------+----------------+-----+----------------+\n",
      "only showing top 100 rows\n",
      "\n",
      "None\n"
     ]
    },
    {
     "name": "stderr",
     "output_type": "stream",
     "text": [
      "\r",
      "[Stage 570:>                                                        (0 + 1) / 1]\r",
      "\r",
      "                                                                                \r"
     ]
    }
   ],
   "source": [
    "h_indexed_papers = indexed_grouped_papers_df.withColumn(\"possible_h_index\", when(indexed_grouped_papers_df.index <= indexed_grouped_papers_df.paper_references, indexed_grouped_papers_df.index).otherwise(0))\n",
    "print(h_indexed_papers.show(100, False))"
   ]
  },
  {
   "cell_type": "code",
   "execution_count": 102,
   "id": "c8143a56",
   "metadata": {
    "pycharm": {
     "is_executing": true
    }
   },
   "outputs": [],
   "source": [
    "h_indexed_grouped_by_author_papers_df = h_indexed_papers.groupBy('author_id')"
   ]
  },
  {
   "cell_type": "code",
   "execution_count": 103,
   "id": "53fa8f6e",
   "metadata": {
    "pycharm": {
     "is_executing": true
    }
   },
   "outputs": [],
   "source": [
    "h_indexed_aggregated_papers_df = h_indexed_grouped_by_author_papers_df.agg(\\\n",
    "        F.count(\"paper_id\").alias(\"validated_paper_count\"),\n",
    "        F.sum(\"paper_references\").alias(\"validated_citation_count\"),\n",
    "        F.max(\"possible_h_index\").alias(\"validated_h_index\")\n",
    "    )"
   ]
  },
  {
   "cell_type": "code",
   "execution_count": 108,
   "id": "1f06312c",
   "metadata": {},
   "outputs": [],
   "source": [
    "unique_authors_with_validated_cols_df = h_indexed_aggregated_papers_df.join(author_df, 'author_id', 'inner' )"
   ]
  },
  {
   "cell_type": "code",
   "execution_count": 112,
   "id": "e126e7f7",
   "metadata": {},
   "outputs": [
    {
     "name": "stderr",
     "output_type": "stream",
     "text": [
      "                                                                                \r"
     ]
    },
    {
     "data": {
      "text/plain": [
       "753395"
      ]
     },
     "execution_count": 112,
     "metadata": {},
     "output_type": "execute_result"
    }
   ],
   "source": [
    "unique_authors_with_validated_cols_df.count()"
   ]
  },
  {
   "cell_type": "code",
   "execution_count": 111,
   "id": "eda7dd7e",
   "metadata": {},
   "outputs": [
    {
     "name": "stderr",
     "output_type": "stream",
     "text": [
      "22/01/20 17:13:51 WARN RowBasedKeyValueBatch: Calling spill() on RowBasedKeyValueBatch. Will not spill but return 0.\n",
      "22/01/20 17:13:51 WARN RowBasedKeyValueBatch: Calling spill() on RowBasedKeyValueBatch. Will not spill but return 0.\n",
      "22/01/20 17:13:51 WARN RowBasedKeyValueBatch: Calling spill() on RowBasedKeyValueBatch. Will not spill but return 0.\n",
      "22/01/20 17:13:51 WARN RowBasedKeyValueBatch: Calling spill() on RowBasedKeyValueBatch. Will not spill but return 0.\n",
      "                                                                                \r"
     ]
    },
    {
     "data": {
      "text/plain": [
       "503234"
      ]
     },
     "execution_count": 111,
     "metadata": {},
     "output_type": "execute_result"
    }
   ],
   "source": [
    "unique_authors_with_validated_cols_df.filter(\\\n",
    "    unique_authors_with_validated_cols_df[\"validated_h_index\"] != unique_authors_with_validated_cols_df[\"h_index\"]).count()"
   ]
  },
  {
   "cell_type": "code",
   "execution_count": 113,
   "id": "73c70de5",
   "metadata": {},
   "outputs": [
    {
     "name": "stderr",
     "output_type": "stream",
     "text": [
      "22/01/20 17:21:21 WARN RowBasedKeyValueBatch: Calling spill() on RowBasedKeyValueBatch. Will not spill but return 0.\n",
      "22/01/20 17:21:21 WARN RowBasedKeyValueBatch: Calling spill() on RowBasedKeyValueBatch. Will not spill but return 0.\n",
      "22/01/20 17:21:21 WARN RowBasedKeyValueBatch: Calling spill() on RowBasedKeyValueBatch. Will not spill but return 0.\n",
      "22/01/20 17:21:21 WARN RowBasedKeyValueBatch: Calling spill() on RowBasedKeyValueBatch. Will not spill but return 0.\n",
      "22/01/20 17:21:29 WARN RowBasedKeyValueBatch: Calling spill() on RowBasedKeyValueBatch. Will not spill but return 0.\n",
      "22/01/20 17:21:29 WARN RowBasedKeyValueBatch: Calling spill() on RowBasedKeyValueBatch. Will not spill but return 0.\n",
      "22/01/20 17:21:29 WARN RowBasedKeyValueBatch: Calling spill() on RowBasedKeyValueBatch. Will not spill but return 0.\n",
      "22/01/20 17:21:29 WARN RowBasedKeyValueBatch: Calling spill() on RowBasedKeyValueBatch. Will not spill but return 0.\n",
      "                                                                                \r"
     ]
    },
    {
     "data": {
      "text/plain": [
       "725400"
      ]
     },
     "execution_count": 113,
     "metadata": {},
     "output_type": "execute_result"
    }
   ],
   "source": [
    "unique_authors_with_validated_cols_df.filter(\\\n",
    "    unique_authors_with_validated_cols_df[\"validated_citation_count\"] != unique_authors_with_validated_cols_df[\"citation_count\"]).count()"
   ]
  },
  {
   "cell_type": "code",
   "execution_count": null,
   "id": "4f46b8c7",
   "metadata": {},
   "outputs": [
    {
     "name": "stderr",
     "output_type": "stream",
     "text": [
      "[Stage 1200:> (0 + 4) / 4][Stage 1201:> (0 + 0) / 4][Stage 1202:> (0 + 0) / 4]4]\r"
     ]
    }
   ],
   "source": [
    "unique_authors_with_validated_cols_df.filter(\\\n",
    "    unique_authors_with_validated_cols_df[\"validated_paper_count\"] != unique_authors_with_validated_cols_df[\"paper_count\"]).count()"
   ]
  },
  {
   "cell_type": "code",
   "execution_count": 114,
   "id": "504ab2ce",
   "metadata": {},
   "outputs": [
    {
     "data": {
      "text/plain": [
       "1712433"
      ]
     },
     "execution_count": 114,
     "metadata": {},
     "output_type": "execute_result"
    }
   ],
   "source": [
    "author_df.count()"
   ]
  },
  {
   "cell_type": "code",
   "execution_count": 110,
   "id": "83e6d72c",
   "metadata": {},
   "outputs": [
    {
     "name": "stderr",
     "output_type": "stream",
     "text": [
      "22/01/20 17:07:44 WARN RowBasedKeyValueBatch: Calling spill() on RowBasedKeyValueBatch. Will not spill but return 0.\n",
      "22/01/20 17:07:44 WARN RowBasedKeyValueBatch: Calling spill() on RowBasedKeyValueBatch. Will not spill but return 0.\n",
      "22/01/20 17:07:44 WARN RowBasedKeyValueBatch: Calling spill() on RowBasedKeyValueBatch. Will not spill but return 0.\n",
      "22/01/20 17:07:44 WARN RowBasedKeyValueBatch: Calling spill() on RowBasedKeyValueBatch. Will not spill but return 0.\n",
      "[Stage 880:>                                                        (0 + 1) / 1]\r"
     ]
    },
    {
     "name": "stdout",
     "output_type": "stream",
     "text": [
      "+---------+---------------------+------------------------+-----------------+--------------+-------+--------------------+-----------+\n",
      "|author_id|validated_paper_count|validated_citation_count|validated_h_index|citation_count|h_index|                name|paper_count|\n",
      "+---------+---------------------+------------------------+-----------------+--------------+-------+--------------------+-----------+\n",
      "|       13|                    8|                      50|                4|            14|      2|     kimberly weaver|          9|\n",
      "|       16|                    2|                      27|                2|             1|      1|       nadia dahmani|          2|\n",
      "|       22|                    1|                       1|                1|             0|      0|   paul h. whitfield|          1|\n",
      "|       28|                    1|                       5|                1|             5|      1|          y. w. wong|          2|\n",
      "|       34|                    1|                       8|                1|             0|      0|        haitham gabr|          2|\n",
      "|       52|                   11|                     184|                7|            20|      3|       jean martinet|         13|\n",
      "|       93|                    1|                       3|                1|             1|      1|      timothy wilson|          1|\n",
      "|      108|                   11|                      69|                5|            12|      2|   michael k. birbas|         20|\n",
      "|      111|                    4|                      36|                4|            11|      2|        vishal gupta|          7|\n",
      "|      132|                   21|                     234|               10|           407|     10|     david r. hanson|         41|\n",
      "|      140|                    1|                       7|                1|            12|      1|jean-pierre le cadre|          2|\n",
      "|      157|                    4|                      20|                3|            47|      2|   soheil khajenoori|         10|\n",
      "|      159|                    7|                      85|                6|            30|      3|george-othon glentis|         23|\n",
      "|      177|                    1|                       1|                1|             1|      1|    alexey zhuravlev|          1|\n",
      "|      182|                    1|                       3|                1|             4|      1|          p. kermani|          2|\n",
      "|      185|                    1|                      16|                1|             0|      0|        weixian wang|          1|\n",
      "|      193|                    1|                       2|                1|             2|      1|     robert e. veres|          1|\n",
      "|      210|                    1|                       1|                1|             0|      0|markta lopatkov-l...|          1|\n",
      "|      218|                   27|                     202|                9|            59|      4|   massimo tornatore|         30|\n",
      "|      222|                   12|                      90|                7|           244|      4|    amin shokrollahi|         19|\n",
      "+---------+---------------------+------------------------+-----------------+--------------+-------+--------------------+-----------+\n",
      "only showing top 20 rows\n",
      "\n"
     ]
    },
    {
     "name": "stderr",
     "output_type": "stream",
     "text": [
      "\r",
      "                                                                                \r"
     ]
    }
   ],
   "source": [
    "unique_authors_with_validated_cols_df.show()"
   ]
  },
  {
   "cell_type": "code",
   "execution_count": null,
   "id": "69c1e811",
   "metadata": {
    "pycharm": {
     "is_executing": true
    }
   },
   "outputs": [],
   "source": [
    "print(unique_authors_with_validated_cols_df.show(truncate=False))"
   ]
  },
  {
   "cell_type": "code",
   "execution_count": null,
   "id": "eb7a64b5",
   "metadata": {
    "pycharm": {
     "is_executing": true
    }
   },
   "outputs": [],
   "source": []
  },
  {
   "cell_type": "code",
   "execution_count": null,
   "id": "3a79c823",
   "metadata": {
    "pycharm": {
     "is_executing": true
    }
   },
   "outputs": [],
   "source": []
  }
 ],
 "metadata": {
  "kernelspec": {
   "display_name": "Python 3 (ipykernel)",
   "language": "python",
   "name": "python3"
  },
  "language_info": {
   "codemirror_mode": {
    "name": "ipython",
    "version": 3
   },
   "file_extension": ".py",
   "mimetype": "text/x-python",
   "name": "python",
   "nbconvert_exporter": "python",
   "pygments_lexer": "ipython3",
   "version": "3.8.5"
  }
 },
 "nbformat": 4,
 "nbformat_minor": 5
}
