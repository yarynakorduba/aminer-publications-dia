{
 "cells": [
  {
   "cell_type": "code",
   "execution_count": 15,
   "id": "9e096de1",
   "metadata": {},
   "outputs": [],
   "source": [
    "import findspark\n",
    "findspark.init()\n",
    "import pandas as pd;\n",
    "import csv;\n",
    "import numpy as np;\n",
    "from pyspark import SparkContext\n",
    "from pyspark import SparkConf\n",
    "import re\n",
    "from pyspark.sql.types import StringType, ArrayType,StructType,StructField"
   ]
  },
  {
   "cell_type": "code",
   "execution_count": 16,
   "id": "18e0ba43",
   "metadata": {},
   "outputs": [],
   "source": [
    "PAPER_KEYS_MAP = {\n",
    "    \"#index\": \"id\", \"#*\": \"title\", \"#@\": \"authors\", \"#o\": \"affiliations\", \"#t\": \"year\", \"#c\": \"publication_venue\", \"#%\": \"ref_ids\", \"#!\": \"abstract\",\n",
    "}\n",
    "PAPER_DATASET_PATH = './assets/AMiner-Paper.txt'\n",
    "\n",
    "AUTHOR_KEYS_MAP = {\n",
    "    \"#index\": \"id\", \"#n\": \"name\", \"#a\": \"affiliations\", \"#pc\": \"paper_count\", \"#cn\": \"citation_count\", \"#t\": \"research_interests\", \"#hi\": \"h_index\", \"#upi\": \"u_p_index\", \"#pi\": \"p_index\"\n",
    "}\n",
    "AUTHOR_DATASET_PATH = './assets/AMiner-Author.txt'"
   ]
  },
  {
   "cell_type": "code",
   "execution_count": 17,
   "id": "600b2666",
   "metadata": {},
   "outputs": [],
   "source": [
    "conf = SparkConf().setAppName('Read & parse text data file in pyspark')\n",
    "sc = SparkContext.getOrCreate(conf=conf)"
   ]
  },
  {
   "cell_type": "code",
   "execution_count": 18,
   "id": "e2ea5547",
   "metadata": {},
   "outputs": [
    {
     "name": "stderr",
     "output_type": "stream",
     "text": [
      "                                                                                \r"
     ]
    }
   ],
   "source": [
    "def zipDatasetWithIndex(datasetPath):\n",
    "    lines = sc.textFile(datasetPath).zipWithIndex()\n",
    "    return lines\n",
    "lines = zipDatasetWithIndex(AUTHOR_DATASET_PATH)"
   ]
  },
  {
   "cell_type": "code",
   "execution_count": 19,
   "id": "b305f272",
   "metadata": {},
   "outputs": [],
   "source": [
    "def exchangeElementAtIndexToOne(index, zeroArray):\n",
    "    zeroArray[index] = 1;\n",
    "\n",
    "def doCumSumForIndexRows(lines):\n",
    "    # Find the starting row of each data entry\n",
    "    pos = lines.filter(lambda x: \"#index\" in x[0]).map(lambda x: x[1]).collect() \n",
    "    zeroArray = np.zeros(lines.count(), dtype=int)\n",
    "    for element in pos:\n",
    "        exchangeElementAtIndexToOne(element, zeroArray)\n",
    "    # Calculate cumulative sum of starting data entry indexes\n",
    "    summedArray = np.cumsum(zeroArray)\n",
    "    return summedArray;"
   ]
  },
  {
   "cell_type": "code",
   "execution_count": 20,
   "id": "5811092f",
   "metadata": {},
   "outputs": [
    {
     "name": "stderr",
     "output_type": "stream",
     "text": [
      "                                                                                \r"
     ]
    }
   ],
   "source": [
    "summedArray = doCumSumForIndexRows(lines)\n",
    "# print(summedArray.collect())\n",
    "# Find the starting row of each data entry\n",
    "# pos = lines.filter(lambda x: \"#index\" in x[0]).map(lambda x: x[1]).collect()"
   ]
  },
  {
   "cell_type": "code",
   "execution_count": 21,
   "id": "63589899",
   "metadata": {},
   "outputs": [],
   "source": [
    "def createBroarcastedTuple(x, arrayOfStartRowIndexes):\n",
    "    return (arrayOfStartRowIndexes.value[x[1]], x[0])\n",
    "\n",
    "def convertDataIntoIndexedTuples(datasetLines, cumSummedIndexRowsArray):\n",
    "    broadcastedArray = sc.broadcast(cumSummedIndexRowsArray);\n",
    "    convertedData = datasetLines.map(lambda dataLine: createBroarcastedTuple(dataLine, broadcastedArray))\n",
    "    return convertedData"
   ]
  },
  {
   "cell_type": "code",
   "execution_count": 23,
   "id": "aacf1ec9",
   "metadata": {},
   "outputs": [],
   "source": [
    "list_get = lambda l, x, d=None: d if not l[x] else l[x] # safe getter of list values\n",
    "\n",
    "def splitIntoKeyValue(stringToSplit, keyMap):\n",
    "    formattedValue = stringToSplit \n",
    "    if type(stringToSplit) is str:\n",
    "        if len(formattedValue) > 0:\n",
    "            formattedValue = formattedValue.split(\" \", 1)\n",
    "            key = list_get(formattedValue, 0)\n",
    "            mappedKey = keyMap.get(key) # note : this is not ideal. We should check and write better, because it ommits null values\n",
    "            if (mappedKey):\n",
    "                formattedValue = { mappedKey: list_get(formattedValue, 1, '') }\n",
    "            else:\n",
    "                formattedValue = {}\n",
    "        else:\n",
    "            formattedValue = {}\n",
    "    return formattedValue\n",
    "\n",
    "def appendStringOrListIntoList(lst, elToAppend):\n",
    "    if elToAppend is not None:\n",
    "        if type(elToAppend) == str:\n",
    "            lst.append(elToAppend)\n",
    "        else:\n",
    "            lst = lst + elToAppend\n",
    "    return lst\n",
    "\n",
    "def reduceFeaturesToDict(featureA='', featureB='', keyMap={}):\n",
    "    try:        \n",
    "        splittedA = splitIntoKeyValue(featureA, keyMap);\n",
    "        splittedB = splitIntoKeyValue(featureB, keyMap);\n",
    "        \n",
    "        splittedARefIds = splittedA.get(\"ref_ids\");\n",
    "        splittedBRefIds = splittedB.get(\"ref_ids\");\n",
    "        \n",
    "        newRefIds = [] \n",
    "        appendStringOrListIntoList(newRefIds, splittedARefIds)\n",
    "        appendStringOrListIntoList(newRefIds, splittedBRefIds)\n",
    "\n",
    "        return { **splittedA, **splittedB, \"ref_ids\": ';'.join(newRefIds) }\n",
    "    except:\n",
    "        print(\"ERROR: \", featureA, featureB)\n",
    "        raise\n",
    "\n",
    "# def \n",
    "\n",
    "def convertDataIntoDicts(objects, dataKeyMap):\n",
    "    reducedObjects = objects.reduceByKey(lambda a, b: reduceFeaturesToDict(a, b, dataKeyMap))\n",
    "    print(reducedObjects.sortByKey(ascending=False).first())\n",
    "    mappedDicts = reducedObjects.map(lambda x: x[1]) # retrieve dicts from the tuples\n",
    "    return mappedDicts"
   ]
  },
  {
   "cell_type": "code",
   "execution_count": 24,
   "id": "615a9690",
   "metadata": {},
   "outputs": [],
   "source": [
    "def convertDictsArrayIntoCSVFile(dictsArray, fileName):\n",
    "    df = sqlContext.createDataFrame(dictsArray)\n",
    "    # Save data to csv file\n",
    "    df.coalesce(1).write.format(\"com.databricks.spark.csv\").option(\"header\", \"true\").save(fileName)"
   ]
  },
  {
   "cell_type": "code",
   "execution_count": 25,
   "id": "946bedef",
   "metadata": {
    "scrolled": true
   },
   "outputs": [],
   "source": [
    "papers = convertDataIntoIndexedTuples(lines, summedArray)"
   ]
  },
  {
   "cell_type": "code",
   "execution_count": 26,
   "id": "bfcac749",
   "metadata": {},
   "outputs": [
    {
     "name": "stderr",
     "output_type": "stream",
     "text": [
      "/usr/local/Cellar/apache-spark/3.2.0/libexec/python/lib/pyspark.zip/pyspark/shuffle.py:60: UserWarning: Please install psutil to have better support with spilling\n",
      "/usr/local/Cellar/apache-spark/3.2.0/libexec/python/lib/pyspark.zip/pyspark/shuffle.py:60: UserWarning: Please install psutil to have better support with spilling\n",
      "/usr/local/Cellar/apache-spark/3.2.0/libexec/python/lib/pyspark.zip/pyspark/shuffle.py:60: UserWarning: Please install psutil to have better support with spilling\n",
      "/usr/local/Cellar/apache-spark/3.2.0/libexec/python/lib/pyspark.zip/pyspark/shuffle.py:60: UserWarning: Please install psutil to have better support with spilling\n",
      "/usr/local/Cellar/apache-spark/3.2.0/libexec/python/lib/pyspark.zip/pyspark/shuffle.py:60: UserWarning: Please install psutil to have better support with spilling\n",
      "/usr/local/Cellar/apache-spark/3.2.0/libexec/python/lib/pyspark.zip/pyspark/shuffle.py:60: UserWarning: Please install psutil to have better support with spilling\n",
      "/usr/local/Cellar/apache-spark/3.2.0/libexec/python/lib/pyspark.zip/pyspark/shuffle.py:60: UserWarning: Please install psutil to have better support with spilling\n",
      "/usr/local/Cellar/apache-spark/3.2.0/libexec/python/lib/pyspark.zip/pyspark/shuffle.py:60: UserWarning: Please install psutil to have better support with spilling\n",
      "[Stage 22:====================================================>   (16 + 1) / 17]\r"
     ]
    },
    {
     "name": "stdout",
     "output_type": "stream",
     "text": [
      "(1712433, {'id': '1712433', 'name': 'Andrea Gantchev', 'ref_ids': '', 'affiliations': '', 'paper_count': '2', 'citation_count': '3', 'h_index': '1', 'p_index': '1.0000', 'u_p_index': '0.8333', 'research_interests': 'subsumption architecture;Subsumption ArchitectureThe subsumption architecture;software architecture;subsumption architectureReusable Strategies;Object-oriented design;object-oriented software design;Rodney Brooks;Software Agents;behaviour-based control;different micro-strategies'})\n"
     ]
    },
    {
     "name": "stderr",
     "output_type": "stream",
     "text": [
      "\r",
      "                                                                                \r"
     ]
    }
   ],
   "source": [
    "authorDictsArray = convertDataIntoDicts(papers, AUTHOR_KEYS_MAP)"
   ]
  },
  {
   "cell_type": "code",
   "execution_count": 27,
   "id": "781321d7",
   "metadata": {},
   "outputs": [],
   "source": [
    "df1 = sqlContext.createDataFrame(authorDictsArray)"
   ]
  },
  {
   "cell_type": "code",
   "execution_count": 28,
   "id": "f99b7d0d",
   "metadata": {},
   "outputs": [
    {
     "name": "stdout",
     "output_type": "stream",
     "text": [
      "+--------------------+--------------+-------+---+--------------------+-------+-----------+-------+--------------------+---------+\n",
      "|        affiliations|citation_count|h_index| id|                name|p_index|paper_count|ref_ids|  research_interests|u_p_index|\n",
      "+--------------------+--------------+-------+---+--------------------+-------+-----------+-------+--------------------+---------+\n",
      "|                    |             0|      0| 17|     J. Michael Howe| 0.0000|          1|       |HIV disease;Inter...|   0.0000|\n",
      "|University of Flo...|             0|      0| 34|        Haitham Gabr| 0.0000|          2|       |associate polynom...|   0.0000|\n",
      "|University of Bat...|             4|      1| 51|         Emma Tonkin| 3.0000|          8|       |metadata element;...|   3.5000|\n",
      "|School of Compute...|             1|      1| 68|        Woochul Shin| 0.5000|          4|       |Web Service;conte...|   0.7500|\n",
      "|                    |             0|      0| 85|           S Improta| 0.0000|          1|       |intermediate key;...|   0.0000|\n",
      "|                    |             8|      2|102|       Richard Ferri| 3.0000|          5|       |feedback loop;dif...|   3.7145|\n",
      "|                    |             0|      0|119|            Qing Liu| 0.0000|          1|       |Rough Set;nomal C...|   0.0000|\n",
      "|                    |             0|      0|136|      Artur Gramacki| 0.0000|          2|       |MATLAB toolbox;li...|   0.0000|\n",
      "|Department of Com...|             0|      0|153|Olumuyiwa Oluwasanmi| 0.0000|          2|       |Byzantine agreeme...|   0.0000|\n",
      "|                    |             0|      0|170|    Josef Willenborg| 0.0000|          1|       |Ein objektorienti...|   0.0000|\n",
      "|                    |             0|      0|187|            Qing Wei| 0.0000|          1|       |portable device;A...|   0.0000|\n",
      "|                    |             4|      1|204|Jurey Ivanovich Z...| 2.0000|          1|       |Integer-valued pr...|   1.0000|\n",
      "|Department of Com...|            13|      1|221|             Anny Ng| 6.5000|          1|       |stock price;stock...|   9.7500|\n",
      "|                    |             2|      1|238|    Nikos B. Pronios| 1.0000|          3|       |Hypermedia Synchr...|   1.0000|\n",
      "|                    |             0|      0|255| Lourdes Fraga Alman| 0.0000|          1|       |computer-mediated...|   0.0000|\n",
      "|Graduate School o...|             2|      1|272|       Junji Nishino| 0.3250|          7|       |Dijkstra method;o...|   0.4964|\n",
      "|LAII–ESIP (UPRES ...|             0|      0|289|       L. Dascalescu| 0.0000|          2|       |low-frequency act...|   0.0000|\n",
      "|                    |             0|      0|306|    Masakazu Nishino| 0.0000|          1|       |copyright process...|   0.0000|\n",
      "|Lockheed Martin C...|             4|      1|323|    Jean-Rémi Duquet| 1.3333|          2|       |uncertain informa...|   1.1111|\n",
      "|The Pennsylvania ...|             1|      1|340|     Brian A. Canada| 0.2000|          2|       |histology image;s...|   0.4567|\n",
      "+--------------------+--------------+-------+---+--------------------+-------+-----------+-------+--------------------+---------+\n",
      "only showing top 20 rows\n",
      "\n",
      "None\n"
     ]
    }
   ],
   "source": [
    "print(df1.show())"
   ]
  },
  {
   "cell_type": "code",
   "execution_count": 29,
   "id": "347d9e57",
   "metadata": {},
   "outputs": [
    {
     "name": "stderr",
     "output_type": "stream",
     "text": [
      "                                                                                \r"
     ]
    }
   ],
   "source": [
    "convertDictsArrayIntoCSVFile(authorDictsArray, \"./assets/authors.csv\")"
   ]
  },
  {
   "cell_type": "code",
   "execution_count": 28,
   "id": "e2bf207f",
   "metadata": {},
   "outputs": [
    {
     "name": "stdout",
     "output_type": "stream",
     "text": [
      "[1, 2, 3, [2, 3, 4]]\n"
     ]
    }
   ],
   "source": [
    "a = [1, 2, 3]\n",
    "b = [2, 3, 4]\n",
    "a.append(b)\n",
    "print(a)"
   ]
  }
 ],
 "metadata": {
  "kernelspec": {
   "display_name": "Python 3 (ipykernel)",
   "language": "python",
   "name": "python3"
  },
  "language_info": {
   "codemirror_mode": {
    "name": "ipython",
    "version": 3
   },
   "file_extension": ".py",
   "mimetype": "text/x-python",
   "name": "python",
   "nbconvert_exporter": "python",
   "pygments_lexer": "ipython3",
   "version": "3.9.8"
  }
 },
 "nbformat": 4,
 "nbformat_minor": 5
}
