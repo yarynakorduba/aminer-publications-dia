{
 "cells": [
  {
   "cell_type": "code",
   "execution_count": 1,
   "id": "9e096de1",
   "metadata": {
    "pycharm": {
     "is_executing": true,
     "name": "#%%\n"
    }
   },
   "outputs": [],
   "source": [
    "import pandas as pd"
   ]
  },
  {
   "cell_type": "code",
   "execution_count": 6,
   "id": "600b2666",
   "metadata": {
    "pycharm": {
     "is_executing": true,
     "name": "#%% authors\n"
    }
   },
   "outputs": [],
   "source": [
    "authors = []\n",
    "state = ''\n",
    "name = ''\n",
    "affiliations = ''\n",
    "pub_papers = ''\n",
    "citations = ''\n",
    "research_interests = ''\n",
    "with open('./assets/AMiner-Author.txt') as file:\n",
    "    for line in file:\n",
    "        if '#index' in line:\n",
    "            authors.append({\"identifier\": state, \"name\": name, \"affiliations\": affiliations, \"pub_papers\": pub_papers,\n",
    "                                 \"citations\": citations, \"research_interests\": research_interests})\n",
    "            state = line.split(\"#index \")[1].split(\"\\n\")[0]\n",
    "            name = ''\n",
    "            affiliations=''\n",
    "            pub_papers = ''\n",
    "            citations = ''\n",
    "            research_interests = ''\n",
    "        else:\n",
    "            if '#n' in line:\n",
    "                name = line.split(\"#n \")[1].split(\"\\n\")[0]\n",
    "            if \"#a\" in line:\n",
    "                affiliations = line.split(\"#a \")[1].split(\"\\n\")[0]\n",
    "            if \"#pc\" in line:\n",
    "                pub_papers = line.split(\"#pc \")[1].split(\"\\n\")[0]\n",
    "            if \"#cn\" in line:\n",
    "                citations = line.split(\"#cn \")[1].split(\"\\n\")[0]\n",
    "            if \"#t\" in line:\n",
    "                research_interests = line.split(\"#t \")[1].split(\"\\n\")[0]"
   ]
  },
  {
   "cell_type": "code",
   "execution_count": 7,
   "id": "fc32d019",
   "metadata": {
    "pycharm": {
     "is_executing": true,
     "name": "#%%\n"
    }
   },
   "outputs": [],
   "source": [
    "authors_df = pd.DataFrame.from_dict(authors, orient='columns')\n",
    "authors_df = authors_df.iloc[1: , :]\n",
    "authors_df = authors_df.set_index('identifier')\n",
    "\n",
    "authors_df.to_csv('./assets/parsedData/authors.csv', index=True)"
   ]
  },
  {
   "cell_type": "code",
   "execution_count": 8,
   "id": "c331e35b",
   "metadata": {
    "pycharm": {
     "is_executing": true,
     "name": "#%% papers\n"
    }
   },
   "outputs": [],
   "source": [
    "papers = []\n",
    "state = ''\n",
    "paper_title = ''\n",
    "authors = ''\n",
    "affiliations = ''\n",
    "year = ''\n",
    "publication_venue = ''\n",
    "abstract = ''\n",
    "citations = 0\n",
    "with open('./assets/AMiner-Paper.txt') as file:\n",
    "    for line in file:\n",
    "        if '#index' in line:\n",
    "            papers.append({\"identifier\": state, \"paper_title\": paper_title, \"authors\": authors, \"affiliations\": affiliations, \"year\": year, \"publication_venue\": publication_venue, \"citations\": citations , \"abstract\": abstract})\n",
    "            state = line.split(\"#index \")[1].split(\"\\n\")[0]\n",
    "            paper_title = ''\n",
    "            authors = ''\n",
    "            affiliations = ''\n",
    "            year = ''\n",
    "            publication_venue = ''\n",
    "            citations = 0\n",
    "            abstract = ''\n",
    "        else:\n",
    "            if '#*' in line:\n",
    "                paper_title = line.split(\"#* \")[1].split(\"\\n\")[0] if line.split('#*')[1] else ''\n",
    "            if \"#@\" in line:\n",
    "                authors = line.split('#@')[1].split(\"\\n\")[0] if line.split('#@')[1] else ''\n",
    "            if \"#o\" in line:\n",
    "                affiliations = line.split('#o')[1].split(\"\\n\")[0] if line.split('#o')[1] else ''\n",
    "            if \"#t\" in line:\n",
    "                year = line.split('#t')[1].split(\"\\n\")[0] if line.split('#t')[1] else ''\n",
    "            if \"#c\" in line:\n",
    "                publication_venue = line.split('#c')[1].split(\"\\n\")[0] if line.split('#c')[1] else ''\n",
    "            if \"#!\" in line:\n",
    "                abstract = line.split('#! ')[1].split(\"\\n\")[0] if line.split('#!')[1] else ''\n",
    "            if '#%' in line:\n",
    "                citations+=1"
   ]
  },
  {
   "cell_type": "code",
   "execution_count": 9,
   "id": "0f367fd4",
   "metadata": {
    "pycharm": {
     "is_executing": true,
     "name": "#%%\n"
    }
   },
   "outputs": [],
   "source": [
    "papers_df = pd.DataFrame.from_dict(papers, orient='columns')\n",
    "papers_df = papers_df.iloc[1: , :]\n",
    "papers_df = papers_df.set_index('identifier')\n",
    "\n",
    "papers_df.to_csv('./assets/parsedData/papers.csv', index=True)\n"
   ]
  },
  {
   "cell_type": "code",
   "execution_count": null,
   "id": "c78ab4b1",
   "metadata": {},
   "outputs": [],
   "source": []
  }
 ],
 "metadata": {
  "kernelspec": {
   "display_name": "Python 3 (ipykernel)",
   "language": "python",
   "name": "python3"
  },
  "language_info": {
   "codemirror_mode": {
    "name": "ipython",
    "version": 3
   },
   "file_extension": ".py",
   "mimetype": "text/x-python",
   "name": "python",
   "nbconvert_exporter": "python",
   "pygments_lexer": "ipython3",
   "version": "3.8.5"
  }
 },
 "nbformat": 4,
 "nbformat_minor": 5
}