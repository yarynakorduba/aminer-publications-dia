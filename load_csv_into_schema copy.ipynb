{
 "cells": [
  {
   "cell_type": "code",
   "execution_count": 72,
   "id": "4071cf9f",
   "metadata": {
    "pycharm": {
     "name": "#%%\n"
    }
   },
   "outputs": [],
   "source": [
    "# !pip3 install pyarrow"
   ]
  },
  {
   "cell_type": "code",
   "execution_count": 2,
   "id": "fbd0a5f1",
   "metadata": {},
   "outputs": [],
   "source": [
    "from pyspark.sql import SparkSession"
   ]
  },
  {
   "cell_type": "code",
   "execution_count": 3,
   "id": "7626e981",
   "metadata": {},
   "outputs": [],
   "source": [
    "import pandas as pd\n",
    "import pyspark.sql.functions as F\n",
    "from pyspark.sql.types import *\n",
    "from pyspark.sql.functions import *\n",
    "import pyspark.sql.types as T\n",
    "from pyspark.sql.types import IntegerType\n",
    "from pyspark.sql.window import Window"
   ]
  },
  {
   "cell_type": "code",
   "execution_count": 4,
   "id": "3ae6ee91",
   "metadata": {
    "pycharm": {
     "is_executing": true,
     "name": "#%%\n"
    }
   },
   "outputs": [],
   "source": [
    "spark=SparkSession.builder.appName('read data through spark').getOrCreate()"
   ]
  },
  {
   "cell_type": "code",
   "execution_count": 5,
   "id": "fb68a75d",
   "metadata": {
    "pycharm": {
     "is_executing": true,
     "name": "#%%\n"
    }
   },
   "outputs": [
    {
     "data": {
      "text/html": [
       "\n",
       "            <div>\n",
       "                <p><b>SparkSession - hive</b></p>\n",
       "                \n",
       "        <div>\n",
       "            <p><b>SparkContext</b></p>\n",
       "\n",
       "            <p><a href=\"http://192.168.0.101:4040\">Spark UI</a></p>\n",
       "\n",
       "            <dl>\n",
       "              <dt>Version</dt>\n",
       "                <dd><code>v3.2.0</code></dd>\n",
       "              <dt>Master</dt>\n",
       "                <dd><code>local[*]</code></dd>\n",
       "              <dt>AppName</dt>\n",
       "                <dd><code>PySparkShell</code></dd>\n",
       "            </dl>\n",
       "        </div>\n",
       "        \n",
       "            </div>\n",
       "        "
      ],
      "text/plain": [
       "<pyspark.sql.session.SparkSession at 0x10cd33130>"
      ]
     },
     "execution_count": 5,
     "metadata": {},
     "output_type": "execute_result"
    }
   ],
   "source": [
    "spark"
   ]
  },
  {
   "cell_type": "markdown",
   "id": "5d92dff5",
   "metadata": {},
   "source": [
    "# Load and clean Paper DF"
   ]
  },
  {
   "cell_type": "code",
   "execution_count": 6,
   "id": "f2f871ce",
   "metadata": {
    "pycharm": {
     "is_executing": true,
     "name": "#%%\n"
    }
   },
   "outputs": [
    {
     "name": "stdout",
     "output_type": "stream",
     "text": [
      "[('paper_id', 'Integer'), ('title', 'String'), ('year', 'Integer')]\n"
     ]
    }
   ],
   "source": [
    "### load paper into schema\n",
    "dtypes = pd.read_csv('./schemas/paper.csv').to_records(index=False).tolist()\n",
    "print(dtypes)\n",
    "fields = [T.StructField(dtype[0], globals()[f'{dtype[1]}Type']()) for dtype in dtypes]\n",
    "schema = StructType(fields)\n",
    "paper_df = spark.read.option('header', 'true').csv('./assets/parsedData/papers.csv', header=True, schema=schema)"
   ]
  },
  {
   "cell_type": "code",
   "execution_count": 7,
   "id": "1c6715de",
   "metadata": {
    "pycharm": {
     "is_executing": true,
     "name": "#%%\n"
    }
   },
   "outputs": [
    {
     "name": "stdout",
     "output_type": "stream",
     "text": [
      "+--------+--------------------+----+\n",
      "|paper_id|               title|year|\n",
      "+--------+--------------------+----+\n",
      "|      65|                null|null|\n",
      "|     130|                null|null|\n",
      "|     195|317424;317425;317573|null|\n",
      "|     260|                null|null|\n",
      "|     325|                null|null|\n",
      "|     390|                null|null|\n",
      "|     455|                null|null|\n",
      "|     520|       318368;323493|null|\n",
      "|     585|                null|null|\n",
      "|     650|                null|null|\n",
      "|     715|                null|null|\n",
      "|     780|318420;319233;319...|null|\n",
      "|     845|                null|null|\n",
      "|     910|                null|null|\n",
      "|     975|67604;318882;3718...|null|\n",
      "|    1040|                null|null|\n",
      "|    1105|289087;318014;318...|null|\n",
      "|    1170|                null|null|\n",
      "|    1235|                null|null|\n",
      "|    1300|                null|null|\n",
      "+--------+--------------------+----+\n",
      "only showing top 20 rows\n",
      "\n"
     ]
    },
    {
     "name": "stderr",
     "output_type": "stream",
     "text": [
      "22/01/17 19:10:42 WARN CSVHeaderChecker: Number of column in CSV header is not equal to number of fields in the schema:\n",
      " Header length: 2, schema size: 3\n",
      "CSV file: file:///Users/yarycka/Desktop/WS2021/DIA/citation-networks-dia/assets/parsedData/papers.csv\n"
     ]
    }
   ],
   "source": [
    "paper_df.show()"
   ]
  },
  {
   "cell_type": "code",
   "execution_count": 8,
   "id": "3054c0b5",
   "metadata": {},
   "outputs": [],
   "source": [
    "### data cleaning for paper schema\n",
    "\n",
    "### remove spaces from values of the columns\n",
    "paper_df = paper_df.withColumn(\"paper_id\", trim(paper_df.paper_id))\n",
    "paper_df = paper_df.withColumn(\"title\", trim(paper_df.title))\n",
    "paper_df = paper_df.withColumn(\"year\", trim(paper_df.year))"
   ]
  },
  {
   "cell_type": "code",
   "execution_count": 9,
   "id": "285bb60f",
   "metadata": {},
   "outputs": [
    {
     "name": "stdout",
     "output_type": "stream",
     "text": [
      "root\n",
      " |-- paper_id: string (nullable = true)\n",
      " |-- title: string (nullable = true)\n",
      " |-- year: string (nullable = true)\n",
      "\n"
     ]
    }
   ],
   "source": [
    "### check for the data types\n",
    "paper_df.printSchema()\n",
    "### change the data type of year to Integer\n",
    "paper_df = paper_df.withColumn(\"year\",paper_df[\"year\"].cast(IntegerType()))"
   ]
  },
  {
   "cell_type": "code",
   "execution_count": 10,
   "id": "40fc4cf2",
   "metadata": {},
   "outputs": [
    {
     "name": "stderr",
     "output_type": "stream",
     "text": [
      "22/01/17 19:10:43 WARN CSVHeaderChecker: CSV header does not conform to the schema.\n",
      " Header: paper_id, ref_ids\n",
      " Schema: paper_id, title\n",
      "Expected: title but found: ref_ids\n",
      "CSV file: file:///Users/yarycka/Desktop/WS2021/DIA/citation-networks-dia/assets/parsedData/papers.csv\n",
      "                                                                                \r"
     ]
    }
   ],
   "source": [
    "### check for nonsense null data\n",
    "null_values_paper_df = paper_df.select([count(when(isnan(c) | col(c).isNull(), c)).alias(c) for c in paper_df.columns]\n",
    "   )\n",
    "### save the ids of papers whose title is missing to clean up the other dataframes\n",
    "null_paper_ids = paper_df.filter(paper_df['title'].isNull())\n",
    "null_paper_ids_list=null_paper_ids.select('paper_id').rdd.flatMap(lambda x: x).collect()\n",
    "null_paper_ids_list = [int(item) for item in null_paper_ids_list]"
   ]
  },
  {
   "cell_type": "code",
   "execution_count": 11,
   "id": "fbdfb814",
   "metadata": {},
   "outputs": [],
   "source": [
    "### after checking the below dataframes, all papers whose title is missing have the authors besides paper_id = 748056\n",
    "### decision: fill missing titles with : Missing Title\n",
    "\n",
    "paper_df=paper_df.na.fill('Missing Title', ['title'])"
   ]
  },
  {
   "cell_type": "code",
   "execution_count": 12,
   "id": "53f0f49a",
   "metadata": {},
   "outputs": [
    {
     "data": {
      "text/plain": [
       "['paper_id', 'title', 'year']"
      ]
     },
     "execution_count": 12,
     "metadata": {},
     "output_type": "execute_result"
    }
   ],
   "source": [
    "paper_df.columns"
   ]
  },
  {
   "cell_type": "code",
   "execution_count": 13,
   "id": "6b78e5ec",
   "metadata": {},
   "outputs": [
    {
     "name": "stderr",
     "output_type": "stream",
     "text": [
      "22/01/17 19:10:48 WARN CSVHeaderChecker: Number of column in CSV header is not equal to number of fields in the schema:\n",
      " Header length: 2, schema size: 3\n",
      "CSV file: file:///Users/yarycka/Desktop/WS2021/DIA/citation-networks-dia/assets/parsedData/papers.csv\n",
      "22/01/17 19:10:50 WARN CSVHeaderChecker: Number of column in CSV header is not equal to number of fields in the schema:\n",
      " Header length: 2, schema size: 3\n",
      "CSV file: file:///Users/yarycka/Desktop/WS2021/DIA/citation-networks-dia/assets/parsedData/papers.csv\n",
      "[Stage 3:>                                                          (0 + 8) / 8]\r"
     ]
    },
    {
     "name": "stdout",
     "output_type": "stream",
     "text": [
      "+--------+-----+----+-------------------+\n",
      "|paper_id|title|year|Duplicate_indicator|\n",
      "+--------+-----+----+-------------------+\n",
      "+--------+-----+----+-------------------+\n",
      "\n"
     ]
    },
    {
     "name": "stderr",
     "output_type": "stream",
     "text": [
      "[Stage 6:>                                                          (0 + 8) / 8]\r"
     ]
    },
    {
     "name": "stdout",
     "output_type": "stream",
     "text": [
      "+--------+-----+\n",
      "|paper_id|count|\n",
      "+--------+-----+\n",
      "+--------+-----+\n",
      "\n"
     ]
    },
    {
     "name": "stderr",
     "output_type": "stream",
     "text": [
      "\r",
      "                                                                                \r"
     ]
    }
   ],
   "source": [
    "### check if there are duplicate rows\n",
    "paper_df.join(paper_df.groupBy(paper_df.columns).agg((F.count(\"*\")>1).cast(\"int\").alias(\"Duplicate_indicator\")),\n",
    "on=paper_df.columns,how=\"inner\").show()\n",
    "###there are no duplicates\n",
    "paper_df.groupby(['paper_id']).count().where('count > 1').sort('count', ascending=False).show()"
   ]
  },
  {
   "cell_type": "code",
   "execution_count": null,
   "id": "df50d456",
   "metadata": {},
   "outputs": [],
   "source": []
  },
  {
   "cell_type": "markdown",
   "id": "0d8d7b6c",
   "metadata": {},
   "source": [
    "# Load and clean Affiliations df"
   ]
  },
  {
   "cell_type": "code",
   "execution_count": 14,
   "id": "5a7d4c21",
   "metadata": {
    "pycharm": {
     "is_executing": true,
     "name": "#%%\n"
    }
   },
   "outputs": [
    {
     "name": "stdout",
     "output_type": "stream",
     "text": [
      "[('affiliations', 'String'), ('paper_id', 'Integer')]\n"
     ]
    }
   ],
   "source": [
    "### load affiliation into schema\n",
    "dtypes = pd.read_csv('./schemas/affiliation.csv').to_records(index=False).tolist()\n",
    "print(dtypes)\n",
    "fields = [StructField(dtype[0], globals()[f'{dtype[1]}Type']()) for dtype in dtypes]\n",
    "schema = StructType(fields)\n",
    "affiliation_df = spark.read.option('header', 'true').csv('./assets/parsedData/affiliations.csv', header=True, schema=schema)"
   ]
  },
  {
   "cell_type": "code",
   "execution_count": 15,
   "id": "bab85ad4",
   "metadata": {},
   "outputs": [
    {
     "name": "stdout",
     "output_type": "stream",
     "text": [
      "root\n",
      " |-- affiliations: string (nullable = true)\n",
      " |-- paper_id: integer (nullable = true)\n",
      "\n",
      "+--------------------+--------+\n",
      "|        affiliations|paper_id|\n",
      "+--------------------+--------+\n",
      "|The Queen's Unive...|      65|\n",
      "|Univ. of Karlsruh...|     130|\n",
      "|AERE Harwell Labo...|     195|\n",
      "|University of Mic...|     260|\n",
      "|Oslo politikammer...|     325|\n",
      "|Harvard Univ., Ca...|     390|\n",
      "|Cornell Univ., It...|     455|\n",
      "|IBM General Techn...|     520|\n",
      "|               -;-;-|     585|\n",
      "|New York Univ., N...|     650|\n",
      "|                   -|     715|\n",
      "|Xerox Palo Alto R...|     780|\n",
      "|Univ. of Californ...|     845|\n",
      "|University of Bol...|     910|\n",
      "|AT & T Bell Labor...|     975|\n",
      "|Cornell Univ., It...|    1040|\n",
      "|University of Mar...|    1105|\n",
      "|Laboratoire de Ps...|    1170|\n",
      "|Yale Univ., New H...|    1235|\n",
      "|                 -;-|    1300|\n",
      "+--------------------+--------+\n",
      "only showing top 20 rows\n",
      "\n"
     ]
    }
   ],
   "source": [
    "affiliation_df = affiliation_df.withColumn(\"affiliations\", trim(affiliation_df.affiliations))\n",
    "affiliation_df = affiliation_df.withColumn(\"paper_id\", trim(affiliation_df.paper_id))\n",
    "affiliation_df = affiliation_df.withColumn(\"paper_id\",affiliation_df[\"paper_id\"].cast(IntegerType()))\n",
    "\n",
    "affiliation_df.printSchema()\n",
    "affiliation_df.show()"
   ]
  },
  {
   "cell_type": "code",
   "execution_count": 16,
   "id": "af1159c5",
   "metadata": {},
   "outputs": [],
   "source": [
    "### check for null values in the affiliations column\n",
    "null_values_affiliations=affiliation_df.select([count(when(isnan(c) | col(c).isNull(), c)).alias(c) for c in affiliation_df.columns]\n",
    "   )"
   ]
  },
  {
   "cell_type": "code",
   "execution_count": 17,
   "id": "f9b5fdc7",
   "metadata": {},
   "outputs": [],
   "source": [
    "### This df is used to count papers per unique affiliation, so if the affiliation is missing, it doesnt make sense\n",
    "### drop all rows where affiliation is null\n",
    "\n",
    "affiliation_df=affiliation_df.na.drop(how=\"any\", subset=['affiliations'])"
   ]
  },
  {
   "cell_type": "code",
   "execution_count": 18,
   "id": "0e1018dd",
   "metadata": {},
   "outputs": [
    {
     "name": "stderr",
     "output_type": "stream",
     "text": [
      "                                                                                \r"
     ]
    },
    {
     "data": {
      "text/plain": [
       "[Row(affiliations='-;-;-', paper_id=585),\n",
       " Row(affiliations='-', paper_id=715),\n",
       " Row(affiliations='-;-', paper_id=1300),\n",
       " Row(affiliations='-', paper_id=1430),\n",
       " Row(affiliations='-', paper_id=1495),\n",
       " Row(affiliations='-', paper_id=1625),\n",
       " Row(affiliations='-;-;-', paper_id=1690),\n",
       " Row(affiliations='Univ. of Illinois at Urbana-Champaign, Urbana;Massachusetts Institute of Technology, Cambridge', paper_id=2795),\n",
       " Row(affiliations='-', paper_id=2860),\n",
       " Row(affiliations='Mihailo Pupin Institute, Belgrade, Yugoslvia;Carnegie-Mellon Univ., Pittsburgh, PA;Intel Corp., Aloha, OR', paper_id=2990),\n",
       " Row(affiliations='Boston Univ., Boston, MA;-', paper_id=3185),\n",
       " Row(affiliations='NCR Corporation;-', paper_id=3315),\n",
       " Row(affiliations='-', paper_id=3575),\n",
       " Row(affiliations='-', paper_id=3705),\n",
       " Row(affiliations='-;-', paper_id=4095),\n",
       " Row(affiliations='-', paper_id=4160),\n",
       " Row(affiliations='Univ. of Alabama, Birmingham;-;-', paper_id=4290),\n",
       " Row(affiliations='-', paper_id=4485),\n",
       " Row(affiliations='Carnegie-Mellon Univ., Pittsburgh, PA;Salisbury Robotics, Inc.', paper_id=4615),\n",
       " Row(affiliations='-;-;-;-', paper_id=4940),\n",
       " Row(affiliations='-;-;-', paper_id=5005),\n",
       " Row(affiliations='-;-;-', paper_id=5070),\n",
       " Row(affiliations='Tel Aviv Univ., Tel Aviv, Israel;Bank Leumi-Israel Ltd., Israel', paper_id=5135),\n",
       " Row(affiliations='-', paper_id=5200),\n",
       " Row(affiliations='-', paper_id=5265),\n",
       " Row(affiliations='-', paper_id=5330),\n",
       " Row(affiliations='-', paper_id=5395),\n",
       " Row(affiliations='-', paper_id=5460),\n",
       " Row(affiliations='-', paper_id=5590),\n",
       " Row(affiliations='-;-', paper_id=5655),\n",
       " Row(affiliations='-', paper_id=5720),\n",
       " Row(affiliations='-', paper_id=5785),\n",
       " Row(affiliations='-', paper_id=5850),\n",
       " Row(affiliations='-', paper_id=5915),\n",
       " Row(affiliations='-;-', paper_id=5980),\n",
       " Row(affiliations='-;-;-', paper_id=6045),\n",
       " Row(affiliations='-', paper_id=6110),\n",
       " Row(affiliations='-;-;-', paper_id=6175),\n",
       " Row(affiliations='-;-', paper_id=6240),\n",
       " Row(affiliations='-;-', paper_id=6370),\n",
       " Row(affiliations='-', paper_id=6435),\n",
       " Row(affiliations='-', paper_id=6500),\n",
       " Row(affiliations='-', paper_id=6565),\n",
       " Row(affiliations='-;-', paper_id=6630),\n",
       " Row(affiliations='-', paper_id=6760),\n",
       " Row(affiliations='-', paper_id=6825),\n",
       " Row(affiliations='-;-', paper_id=6890),\n",
       " Row(affiliations='-;-', paper_id=6955),\n",
       " Row(affiliations='-', paper_id=7020),\n",
       " Row(affiliations='-', paper_id=7085),\n",
       " Row(affiliations='-', paper_id=7150),\n",
       " Row(affiliations='-', paper_id=7215),\n",
       " Row(affiliations='-;-', paper_id=7280),\n",
       " Row(affiliations='-', paper_id=7345),\n",
       " Row(affiliations='-', paper_id=7410),\n",
       " Row(affiliations='-;-;-', paper_id=7670),\n",
       " Row(affiliations='-', paper_id=7735),\n",
       " Row(affiliations='-;-', paper_id=7800),\n",
       " Row(affiliations='-;-', paper_id=7865),\n",
       " Row(affiliations='-', paper_id=7930),\n",
       " Row(affiliations='-', paper_id=7995),\n",
       " Row(affiliations='-;-', paper_id=8060),\n",
       " Row(affiliations='-', paper_id=8125),\n",
       " Row(affiliations='-;-', paper_id=8190),\n",
       " Row(affiliations='-', paper_id=8255),\n",
       " Row(affiliations='-;-', paper_id=8320),\n",
       " Row(affiliations='-;-', paper_id=8385),\n",
       " Row(affiliations='-;-', paper_id=8450),\n",
       " Row(affiliations='-;-;-', paper_id=8515),\n",
       " Row(affiliations='-', paper_id=8580),\n",
       " Row(affiliations='-', paper_id=8645),\n",
       " Row(affiliations='-', paper_id=8710),\n",
       " Row(affiliations='-;-;-', paper_id=8775),\n",
       " Row(affiliations='-', paper_id=8840),\n",
       " Row(affiliations='-', paper_id=8905),\n",
       " Row(affiliations='-;-', paper_id=8970),\n",
       " Row(affiliations='-;-', paper_id=9035),\n",
       " Row(affiliations='-;-', paper_id=9100),\n",
       " Row(affiliations='-', paper_id=9165),\n",
       " Row(affiliations='-;-', paper_id=9230),\n",
       " Row(affiliations='-', paper_id=9295),\n",
       " Row(affiliations='-', paper_id=9360),\n",
       " Row(affiliations='-;-', paper_id=9425),\n",
       " Row(affiliations='-;-', paper_id=9490),\n",
       " Row(affiliations='-', paper_id=9555),\n",
       " Row(affiliations='-;-;-;-;-', paper_id=9620),\n",
       " Row(affiliations='-;-', paper_id=9685),\n",
       " Row(affiliations='-', paper_id=9750),\n",
       " Row(affiliations='-;-', paper_id=9815),\n",
       " Row(affiliations='-', paper_id=9880),\n",
       " Row(affiliations='-', paper_id=9945),\n",
       " Row(affiliations='-', paper_id=10010),\n",
       " Row(affiliations='-;-', paper_id=10075),\n",
       " Row(affiliations='-', paper_id=10140),\n",
       " Row(affiliations='-', paper_id=10205),\n",
       " Row(affiliations='-', paper_id=10270),\n",
       " Row(affiliations='-', paper_id=10335),\n",
       " Row(affiliations='-', paper_id=10400),\n",
       " Row(affiliations='-', paper_id=10465),\n",
       " Row(affiliations='-', paper_id=10530),\n",
       " Row(affiliations='-;-', paper_id=10595),\n",
       " Row(affiliations='-;-', paper_id=10660),\n",
       " Row(affiliations='-', paper_id=10725),\n",
       " Row(affiliations='-;-;-', paper_id=10790),\n",
       " Row(affiliations='-', paper_id=10855),\n",
       " Row(affiliations='-', paper_id=10920),\n",
       " Row(affiliations='-', paper_id=10985),\n",
       " Row(affiliations='-;-', paper_id=11050),\n",
       " Row(affiliations='-', paper_id=11115),\n",
       " Row(affiliations='-', paper_id=11180),\n",
       " Row(affiliations='-', paper_id=11245),\n",
       " Row(affiliations='-', paper_id=11310),\n",
       " Row(affiliations='-', paper_id=11375),\n",
       " Row(affiliations='-', paper_id=11440),\n",
       " Row(affiliations='-', paper_id=11505),\n",
       " Row(affiliations='-', paper_id=11570),\n",
       " Row(affiliations='-', paper_id=11635),\n",
       " Row(affiliations='-;-;-;-;-', paper_id=11700),\n",
       " Row(affiliations='-;-', paper_id=11765),\n",
       " Row(affiliations='-;-', paper_id=11830),\n",
       " Row(affiliations='-;-', paper_id=11895),\n",
       " Row(affiliations='-;-', paper_id=11960),\n",
       " Row(affiliations='-', paper_id=12025),\n",
       " Row(affiliations='-', paper_id=12090),\n",
       " Row(affiliations='-', paper_id=12155),\n",
       " Row(affiliations='-', paper_id=12220),\n",
       " Row(affiliations='-', paper_id=12285),\n",
       " Row(affiliations='-', paper_id=12350),\n",
       " Row(affiliations='-;-', paper_id=12415),\n",
       " Row(affiliations='-', paper_id=12480),\n",
       " Row(affiliations='-', paper_id=12545),\n",
       " Row(affiliations='-;-;-', paper_id=12610),\n",
       " Row(affiliations='-', paper_id=12675),\n",
       " Row(affiliations='-;-', paper_id=12740),\n",
       " Row(affiliations='-;-;-', paper_id=12805),\n",
       " Row(affiliations='-', paper_id=12870),\n",
       " Row(affiliations='-;-;-', paper_id=12935),\n",
       " Row(affiliations='-', paper_id=13000),\n",
       " Row(affiliations='-', paper_id=13065),\n",
       " Row(affiliations='-;-', paper_id=13195),\n",
       " Row(affiliations='-;-', paper_id=13260),\n",
       " Row(affiliations='-', paper_id=13325),\n",
       " Row(affiliations='-;-', paper_id=13390),\n",
       " Row(affiliations='-;-', paper_id=13455),\n",
       " Row(affiliations='Department of Computer Science, Carnegie-Mellon University, Pittsburgh, Pennsylvania', paper_id=13520),\n",
       " Row(affiliations='-;-;-;-', paper_id=13650),\n",
       " Row(affiliations='-', paper_id=13715),\n",
       " Row(affiliations='-', paper_id=13780),\n",
       " Row(affiliations='-', paper_id=13845),\n",
       " Row(affiliations='-', paper_id=13910),\n",
       " Row(affiliations='-', paper_id=13975),\n",
       " Row(affiliations='-;-', paper_id=14040),\n",
       " Row(affiliations='-', paper_id=14105),\n",
       " Row(affiliations='-', paper_id=14170),\n",
       " Row(affiliations='-;-;-', paper_id=14300),\n",
       " Row(affiliations='-;-', paper_id=14365),\n",
       " Row(affiliations='-', paper_id=14430),\n",
       " Row(affiliations='-', paper_id=14495),\n",
       " Row(affiliations='-;-', paper_id=14560),\n",
       " Row(affiliations='-;-', paper_id=14625),\n",
       " Row(affiliations='-;-', paper_id=14690),\n",
       " Row(affiliations='-', paper_id=14755),\n",
       " Row(affiliations='-', paper_id=14820),\n",
       " Row(affiliations='-', paper_id=14885),\n",
       " Row(affiliations='-', paper_id=14950),\n",
       " Row(affiliations='-;-', paper_id=15015),\n",
       " Row(affiliations='-', paper_id=15080),\n",
       " Row(affiliations='-', paper_id=15145),\n",
       " Row(affiliations='-', paper_id=15210),\n",
       " Row(affiliations='-', paper_id=15275),\n",
       " Row(affiliations='-', paper_id=15340),\n",
       " Row(affiliations='-', paper_id=15405),\n",
       " Row(affiliations='-', paper_id=15470),\n",
       " Row(affiliations='-;-;-;-', paper_id=15535),\n",
       " Row(affiliations='-', paper_id=15600),\n",
       " Row(affiliations='-;-', paper_id=15665),\n",
       " Row(affiliations='-', paper_id=15730),\n",
       " Row(affiliations='-', paper_id=15795),\n",
       " Row(affiliations='-', paper_id=15860),\n",
       " Row(affiliations='-', paper_id=15925),\n",
       " Row(affiliations='-', paper_id=15990),\n",
       " Row(affiliations='-', paper_id=16055),\n",
       " Row(affiliations='-;-', paper_id=16120),\n",
       " Row(affiliations='-', paper_id=16185),\n",
       " Row(affiliations='-', paper_id=16315),\n",
       " Row(affiliations='-', paper_id=16380),\n",
       " Row(affiliations='-;-', paper_id=16445),\n",
       " Row(affiliations='-', paper_id=16510),\n",
       " Row(affiliations='-;-', paper_id=16575),\n",
       " Row(affiliations='-;-', paper_id=16640),\n",
       " Row(affiliations='-', paper_id=16705),\n",
       " Row(affiliations='-', paper_id=16770),\n",
       " Row(affiliations='-', paper_id=16835),\n",
       " Row(affiliations='-;-;-;-', paper_id=16900),\n",
       " Row(affiliations='-;-', paper_id=16965),\n",
       " Row(affiliations='-', paper_id=17030),\n",
       " Row(affiliations='-;-;-', paper_id=17095),\n",
       " Row(affiliations='-', paper_id=17160),\n",
       " Row(affiliations='-', paper_id=17225),\n",
       " Row(affiliations='-', paper_id=17290),\n",
       " Row(affiliations='-', paper_id=17355),\n",
       " Row(affiliations='-;-;-', paper_id=17420),\n",
       " Row(affiliations='-', paper_id=17485),\n",
       " Row(affiliations='-', paper_id=17615),\n",
       " Row(affiliations='-', paper_id=17680),\n",
       " Row(affiliations='-;-', paper_id=17810),\n",
       " Row(affiliations='-', paper_id=17940),\n",
       " Row(affiliations='-', paper_id=18005),\n",
       " Row(affiliations='-', paper_id=18135),\n",
       " Row(affiliations='-', paper_id=18200),\n",
       " Row(affiliations='-', paper_id=18265),\n",
       " Row(affiliations='-', paper_id=18330),\n",
       " Row(affiliations='-', paper_id=18395),\n",
       " Row(affiliations='-', paper_id=18460),\n",
       " Row(affiliations='-', paper_id=18720),\n",
       " Row(affiliations='-', paper_id=18785),\n",
       " Row(affiliations='-', paper_id=18850),\n",
       " Row(affiliations='-', paper_id=18980),\n",
       " Row(affiliations='-;-', paper_id=19045),\n",
       " Row(affiliations='-', paper_id=19110),\n",
       " Row(affiliations='-', paper_id=19175),\n",
       " Row(affiliations='-', paper_id=19240),\n",
       " Row(affiliations='-', paper_id=19370),\n",
       " Row(affiliations='-', paper_id=19435),\n",
       " Row(affiliations='-;-', paper_id=19500),\n",
       " Row(affiliations='-;-', paper_id=19565),\n",
       " Row(affiliations='-;-', paper_id=19695),\n",
       " Row(affiliations='-;-', paper_id=19760),\n",
       " Row(affiliations='-;-', paper_id=19825),\n",
       " Row(affiliations='-', paper_id=19890),\n",
       " Row(affiliations='-;-', paper_id=19955),\n",
       " Row(affiliations='-;-;-;-;-', paper_id=20020),\n",
       " Row(affiliations='-;-', paper_id=20085),\n",
       " Row(affiliations='-;-', paper_id=20150),\n",
       " Row(affiliations='-', paper_id=20345),\n",
       " Row(affiliations='-', paper_id=20410),\n",
       " Row(affiliations='-;-;-', paper_id=20475),\n",
       " Row(affiliations='-;-', paper_id=20540),\n",
       " Row(affiliations='-', paper_id=20605),\n",
       " Row(affiliations='-', paper_id=20670),\n",
       " Row(affiliations='-;-;-', paper_id=20735),\n",
       " Row(affiliations='-', paper_id=20800),\n",
       " Row(affiliations='-;-', paper_id=20930),\n",
       " Row(affiliations='-;-;-;-;-;-', paper_id=20995),\n",
       " Row(affiliations='-;-;-', paper_id=21060),\n",
       " Row(affiliations='-', paper_id=21125),\n",
       " Row(affiliations='-;-', paper_id=21190),\n",
       " Row(affiliations='-;-', paper_id=21255),\n",
       " Row(affiliations='-;-;-', paper_id=21320),\n",
       " Row(affiliations='-', paper_id=21385),\n",
       " Row(affiliations='-', paper_id=21450),\n",
       " Row(affiliations='-', paper_id=21515),\n",
       " Row(affiliations='-;-', paper_id=21580),\n",
       " Row(affiliations='-', paper_id=21645),\n",
       " Row(affiliations='-', paper_id=21710),\n",
       " Row(affiliations='-', paper_id=21775),\n",
       " Row(affiliations='-;-;-;-', paper_id=21840),\n",
       " Row(affiliations='-', paper_id=21905),\n",
       " Row(affiliations='-;-;-;-;-', paper_id=21970),\n",
       " Row(affiliations='-', paper_id=22035),\n",
       " Row(affiliations='-;-', paper_id=22100),\n",
       " Row(affiliations='-;-;-', paper_id=22230),\n",
       " Row(affiliations='-', paper_id=22295),\n",
       " Row(affiliations='-', paper_id=22360),\n",
       " Row(affiliations='-', paper_id=22425),\n",
       " Row(affiliations='-;-', paper_id=22555),\n",
       " Row(affiliations='-;-;-;-', paper_id=22620),\n",
       " Row(affiliations='-;-', paper_id=22685),\n",
       " Row(affiliations='-', paper_id=22750),\n",
       " Row(affiliations='-', paper_id=22815),\n",
       " Row(affiliations='-;-', paper_id=22880),\n",
       " Row(affiliations='-', paper_id=23010),\n",
       " Row(affiliations='-', paper_id=23075),\n",
       " Row(affiliations='-;-;-', paper_id=23140),\n",
       " Row(affiliations='-', paper_id=23205),\n",
       " Row(affiliations='-;-', paper_id=23270),\n",
       " Row(affiliations='-', paper_id=23335),\n",
       " Row(affiliations='-', paper_id=23400),\n",
       " Row(affiliations='-', paper_id=23465),\n",
       " Row(affiliations='-', paper_id=23530),\n",
       " Row(affiliations='Beta-Plan Aps;ATP-Huset;I.P.Sharp ApS', paper_id=23595),\n",
       " Row(affiliations='-;-;-', paper_id=23725),\n",
       " Row(affiliations='-', paper_id=23855),\n",
       " Row(affiliations='-;-;-', paper_id=23985),\n",
       " Row(affiliations='-', paper_id=24050),\n",
       " Row(affiliations='-', paper_id=24115),\n",
       " Row(affiliations='-;-;-', paper_id=24180),\n",
       " Row(affiliations='-;-', paper_id=24245),\n",
       " Row(affiliations='-', paper_id=24310),\n",
       " Row(affiliations='-;-;-', paper_id=24375),\n",
       " Row(affiliations='-;-', paper_id=24440),\n",
       " Row(affiliations='-', paper_id=24505),\n",
       " Row(affiliations='-;-;-', paper_id=24570),\n",
       " Row(affiliations='-', paper_id=24635),\n",
       " Row(affiliations='-', paper_id=24700),\n",
       " Row(affiliations='-;-;-', paper_id=24765),\n",
       " Row(affiliations='-;-;-', paper_id=24830),\n",
       " Row(affiliations='-', paper_id=24895),\n",
       " Row(affiliations='-', paper_id=24960),\n",
       " Row(affiliations='-', paper_id=25090),\n",
       " Row(affiliations='-;-', paper_id=25155),\n",
       " Row(affiliations='-;-;-', paper_id=25220),\n",
       " Row(affiliations='-;-', paper_id=25285),\n",
       " Row(affiliations='-', paper_id=25350),\n",
       " Row(affiliations='-', paper_id=25480),\n",
       " Row(affiliations='-', paper_id=25545),\n",
       " Row(affiliations='-', paper_id=25610),\n",
       " Row(affiliations='-;-;-', paper_id=25675),\n",
       " Row(affiliations='-', paper_id=25740),\n",
       " Row(affiliations='-', paper_id=25805),\n",
       " Row(affiliations='C&C Information Technology Research Laboratories, NEC Corporation, 4-1-1 Miyazaki Miyamae-ku Kawasaki, Kanagawa 213 Japan;C&C Information Technology Research Laboratories, NEC Corporation, 4-1-1 Miyazaki Miyamae-ku Kawasaki, Kanagawa 213 Japan;C&C Information Technology Research Laboratories, NEC Corporation, 4-1-1 Miyazaki Miyamae-ku Kawasaki, Kanagawa 213 Japan', paper_id=25870),\n",
       " Row(affiliations='Carnegie-Mellon Univ., Pittsburgh, PA;Analysis and Technology, Inc., Middletown, RI', paper_id=26065),\n",
       " Row(affiliations='-', paper_id=26195),\n",
       " Row(affiliations='-', paper_id=26390),\n",
       " Row(affiliations='-', paper_id=26585),\n",
       " Row(affiliations='-;-;-', paper_id=26715),\n",
       " Row(affiliations='-', paper_id=26780),\n",
       " Row(affiliations='-', paper_id=26845),\n",
       " Row(affiliations='-', paper_id=27105),\n",
       " Row(affiliations='-', paper_id=27170),\n",
       " Row(affiliations='-', paper_id=27235),\n",
       " Row(affiliations='Owens-Corning Fiberglas, Inc., Aiken, SC;Owens-Corning Fiberglas, Inc., Aiken, SC', paper_id=27560),\n",
       " Row(affiliations='Univ. of Wisconsin-Madison, Madison;Univ. of Wisconsin-Madison, Madison;Univ. of Wisconsin-Madison', paper_id=27885),\n",
       " Row(affiliations='S-CUBED, Alexandria, VA', paper_id=28015),\n",
       " Row(affiliations='-;-', paper_id=28210),\n",
       " Row(affiliations='Univ. de Lille Flandres-Artois, Villeneuve Cedex, France', paper_id=28340),\n",
       " Row(affiliations='-', paper_id=28665),\n",
       " Row(affiliations='-', paper_id=28795),\n",
       " Row(affiliations='-;-', paper_id=28925),\n",
       " Row(affiliations='-;-', paper_id=29120),\n",
       " Row(affiliations='-', paper_id=29185),\n",
       " Row(affiliations='-', paper_id=29250),\n",
       " Row(affiliations='-', paper_id=29640),\n",
       " Row(affiliations='-', paper_id=29770),\n",
       " Row(affiliations='-;-', paper_id=29965),\n",
       " Row(affiliations='-', paper_id=30680),\n",
       " Row(affiliations='Univ. of Illinois at Urbana-Champaign, Urbana', paper_id=30810),\n",
       " Row(affiliations='Johann-Wolfgang-Goethe-Univ., Frankfurt, W. Germany', paper_id=30940),\n",
       " Row(affiliations='Humboldt-Univ., Berlin, E. Germany;Academy of Science of the G. D. R.', paper_id=31200),\n",
       " Row(affiliations='-', paper_id=31850),\n",
       " Row(affiliations='-', paper_id=31915),\n",
       " Row(affiliations='-', paper_id=31980),\n",
       " Row(affiliations='-', paper_id=32045),\n",
       " Row(affiliations='-;-;-', paper_id=32110),\n",
       " Row(affiliations='-', paper_id=32305),\n",
       " Row(affiliations='-;-', paper_id=32370),\n",
       " Row(affiliations='-', paper_id=32435),\n",
       " Row(affiliations='-', paper_id=33150),\n",
       " Row(affiliations='-;-', paper_id=33215),\n",
       " Row(affiliations='-', paper_id=33865),\n",
       " Row(affiliations='-', paper_id=33930),\n",
       " Row(affiliations='-', paper_id=33995),\n",
       " Row(affiliations='-', paper_id=34060),\n",
       " Row(affiliations='LSS-ESE, Gif-Sur-Yvette, France', paper_id=34190),\n",
       " Row(affiliations='Friedrich-Schiller-Univ., Jena, E. Germany', paper_id=34385),\n",
       " Row(affiliations='-', paper_id=34450),\n",
       " Row(affiliations='-', paper_id=34580),\n",
       " Row(affiliations='-', paper_id=34645),\n",
       " Row(affiliations='-', paper_id=35165),\n",
       " Row(affiliations='-', paper_id=35230),\n",
       " Row(affiliations='-', paper_id=35295),\n",
       " Row(affiliations='-', paper_id=35425),\n",
       " Row(affiliations='-', paper_id=35880),\n",
       " Row(affiliations='Toshiba Corporation, 1, Toshiba-cho, Fuchu, Tokyo 183, Japan;Toshiba Corporation, 1, Toshiba-cho, Fuchu, Tokyo 183, Japan', paper_id=36010),\n",
       " Row(affiliations='-', paper_id=36270),\n",
       " Row(affiliations='-;-;-', paper_id=36400),\n",
       " Row(affiliations='-', paper_id=36465),\n",
       " Row(affiliations='-;-', paper_id=36595),\n",
       " Row(affiliations='-', paper_id=36660),\n",
       " Row(affiliations='-', paper_id=36855),\n",
       " Row(affiliations='-', paper_id=36920),\n",
       " Row(affiliations='-;-', paper_id=36985),\n",
       " Row(affiliations='-;-', paper_id=37050),\n",
       " Row(affiliations='-', paper_id=37115),\n",
       " Row(affiliations='-', paper_id=37180),\n",
       " Row(affiliations='-;-', paper_id=37245),\n",
       " Row(affiliations='-', paper_id=37505),\n",
       " Row(affiliations='-;-;-;-;-', paper_id=37830),\n",
       " Row(affiliations='-;-', paper_id=37895),\n",
       " Row(affiliations='-;-', paper_id=38480),\n",
       " Row(affiliations='-', paper_id=38545),\n",
       " Row(affiliations='-', paper_id=38610),\n",
       " Row(affiliations='-', paper_id=38675),\n",
       " Row(affiliations='-;-', paper_id=38740),\n",
       " Row(affiliations='Johann Wolfgang Goethe-Univ. Frankfurt am Main, W. Germany', paper_id=39000),\n",
       " Row(affiliations='-', paper_id=39390),\n",
       " Row(affiliations='-;-;-', paper_id=39455),\n",
       " Row(affiliations='-;-;-;-', paper_id=39520),\n",
       " Row(affiliations='-', paper_id=39585),\n",
       " Row(affiliations='-;-;-', paper_id=39845),\n",
       " Row(affiliations='-', paper_id=39910),\n",
       " Row(affiliations='-;-', paper_id=40040),\n",
       " Row(affiliations='-;-', paper_id=40235),\n",
       " Row(affiliations='University of Illinois, Urbana-Champaign;-;-', paper_id=40300),\n",
       " Row(affiliations='Rutgers Univ., New Brunswick, NJ;-', paper_id=40430),\n",
       " Row(affiliations='-', paper_id=40495),\n",
       " Row(affiliations='-', paper_id=40560),\n",
       " Row(affiliations='-;-', paper_id=40690),\n",
       " Row(affiliations='-;-;-', paper_id=40755),\n",
       " Row(affiliations='-', paper_id=40820),\n",
       " Row(affiliations='-', paper_id=40885),\n",
       " Row(affiliations='-;-;-', paper_id=40950),\n",
       " Row(affiliations='-;-;-', paper_id=41015),\n",
       " Row(affiliations='-', paper_id=41340),\n",
       " Row(affiliations='-', paper_id=41535),\n",
       " Row(affiliations='-;-;-;Heriot-Watt Univ., Edinburgh, UK', paper_id=41730),\n",
       " Row(affiliations='-', paper_id=41795),\n",
       " Row(affiliations='-;-;-;-;-', paper_id=42250),\n",
       " Row(affiliations='-', paper_id=42705),\n",
       " Row(affiliations='-;-;-;-', paper_id=42965),\n",
       " Row(affiliations='-', paper_id=43095),\n",
       " Row(affiliations='-;-', paper_id=43160),\n",
       " Row(affiliations='-', paper_id=43355),\n",
       " Row(affiliations='-', paper_id=43420),\n",
       " Row(affiliations='-', paper_id=43485),\n",
       " Row(affiliations='-;-', paper_id=43615),\n",
       " Row(affiliations='-;-', paper_id=43810),\n",
       " Row(affiliations='-', paper_id=43940),\n",
       " Row(affiliations='-', paper_id=44200),\n",
       " Row(affiliations='-', paper_id=44265),\n",
       " Row(affiliations='-', paper_id=44395),\n",
       " Row(affiliations='-;-', paper_id=44460),\n",
       " Row(affiliations='-', paper_id=44850),\n",
       " Row(affiliations='-;Cornell Univ., Ithaca, NY', paper_id=44915),\n",
       " Row(affiliations='-', paper_id=45045),\n",
       " Row(affiliations='-', paper_id=45370),\n",
       " Row(affiliations='-', paper_id=45890),\n",
       " Row(affiliations='-', paper_id=45955),\n",
       " Row(affiliations='University of Heidelberg, Mathematisches Institut, Im Neuenheimer Feld 288, D-6900 Heidelberg, FRG', paper_id=46020),\n",
       " Row(affiliations='-;-', paper_id=46410),\n",
       " Row(affiliations='-;-', paper_id=46475),\n",
       " Row(affiliations='-', paper_id=46670),\n",
       " Row(affiliations='-;-', paper_id=46735),\n",
       " Row(affiliations='-;-;-;-', paper_id=46930),\n",
       " Row(affiliations='-;-;-;-;-', paper_id=46995),\n",
       " Row(affiliations='-;-', paper_id=47255),\n",
       " Row(affiliations='Univ. Erlangen-Nu¨rnberg, Erlangen, W. Germany;Siemens AG, Munich, W. Germany;Univ. Erlangen-Nu¨rnberg, Erlangen, W. Germany', paper_id=47385),\n",
       " Row(affiliations='-', paper_id=47515),\n",
       " Row(affiliations='-', paper_id=47580),\n",
       " Row(affiliations='-;-;-', paper_id=47775),\n",
       " Row(affiliations='-', paper_id=48295),\n",
       " Row(affiliations='-', paper_id=48490),\n",
       " Row(affiliations='-;-;-', paper_id=48555),\n",
       " Row(affiliations='-;-', paper_id=48685),\n",
       " Row(affiliations='-', paper_id=48750),\n",
       " Row(affiliations='-;-', paper_id=48815),\n",
       " Row(affiliations='-;-', paper_id=48880),\n",
       " Row(affiliations='-;-', paper_id=48945),\n",
       " Row(affiliations='-;-', paper_id=49075),\n",
       " Row(affiliations='-', paper_id=49140),\n",
       " Row(affiliations='-', paper_id=49205),\n",
       " Row(affiliations='-', paper_id=49400),\n",
       " Row(affiliations='-;-', paper_id=49660),\n",
       " Row(affiliations='-;-', paper_id=49725),\n",
       " Row(affiliations='Univ. of Houston-University Park, Houston, TX;Univ. of Calgary, Calgary, Alb., Canada;Univ. of Calgary, Calgary, Alb., Canada', paper_id=49790),\n",
       " Row(affiliations='-', paper_id=50050),\n",
       " Row(affiliations='-;-;-', paper_id=50115),\n",
       " Row(affiliations='-', paper_id=50180),\n",
       " Row(affiliations='-', paper_id=50245),\n",
       " Row(affiliations='-;-;-', paper_id=50310),\n",
       " Row(affiliations='-', paper_id=50505),\n",
       " Row(affiliations='-;-;-', paper_id=50570),\n",
       " Row(affiliations='-;-;-', paper_id=50635),\n",
       " Row(affiliations='-;-', paper_id=50700),\n",
       " Row(affiliations='-', paper_id=50765),\n",
       " Row(affiliations='-;-;-', paper_id=50895),\n",
       " Row(affiliations='-', paper_id=50960),\n",
       " Row(affiliations='-', paper_id=51025),\n",
       " Row(affiliations='-', paper_id=51090),\n",
       " Row(affiliations='-;-;-', paper_id=51155),\n",
       " Row(affiliations='-', paper_id=51220),\n",
       " Row(affiliations='-;-', paper_id=51350),\n",
       " Row(affiliations='-', paper_id=51415),\n",
       " Row(affiliations='-', paper_id=51610),\n",
       " Row(affiliations='-', paper_id=51675),\n",
       " Row(affiliations='-', paper_id=51740),\n",
       " Row(affiliations='-', paper_id=51805),\n",
       " Row(affiliations='-', paper_id=51870),\n",
       " Row(affiliations='-', paper_id=52065),\n",
       " Row(affiliations='-;-;-', paper_id=52130),\n",
       " Row(affiliations='-;-', paper_id=52195),\n",
       " Row(affiliations='-', paper_id=52260),\n",
       " Row(affiliations='-', paper_id=52325),\n",
       " Row(affiliations='-;-', paper_id=52520),\n",
       " Row(affiliations='-;-', paper_id=52585),\n",
       " Row(affiliations='-;-', paper_id=52650),\n",
       " Row(affiliations='-', paper_id=52845),\n",
       " Row(affiliations='-;-', paper_id=52910),\n",
       " Row(affiliations='-', paper_id=52975),\n",
       " Row(affiliations='-', paper_id=53040),\n",
       " Row(affiliations='-;-', paper_id=53105),\n",
       " Row(affiliations='-', paper_id=53170),\n",
       " Row(affiliations='-;-', paper_id=53235),\n",
       " Row(affiliations='-;-', paper_id=53300),\n",
       " Row(affiliations='-', paper_id=53365),\n",
       " Row(affiliations='-', paper_id=53430),\n",
       " Row(affiliations='-', paper_id=53495),\n",
       " Row(affiliations='-;-;-', paper_id=53560),\n",
       " Row(affiliations='-', paper_id=53625),\n",
       " Row(affiliations='-', paper_id=53690),\n",
       " Row(affiliations='-', paper_id=53820),\n",
       " Row(affiliations='-', paper_id=53885),\n",
       " Row(affiliations='Arizona State Univ., Tempe;-', paper_id=53950),\n",
       " Row(affiliations='-;-', paper_id=54015),\n",
       " Row(affiliations='SYSLAB, Department of Computer and Systems Sciences, University of Stockholm, S-106 91 Stockholm, SWEDEN;SYSLAB, Department of Computer and Systems Sciences, University of Stockholm, S-106 91 Stockholm, SWEDEN', paper_id=54080),\n",
       " Row(affiliations='-', paper_id=54145),\n",
       " Row(affiliations='206-49, California Institute of Technology, Pasadena, CA, USA;206-49, California Institute of Technology, Pasadena, CA, USA;206-49, California Institute of Technology, Pasadena, CA, USA;206-49, California Institute of Technology, Pasadena, CA, USA;206-49, California Institute of Technology, Pasadena, CA, USA;206-49, California Institute of Technology, Pasadena, CA, USA;206-49, California Institute of Technology, Pasadena, CA, USA;180-500, Jet Propulsion Laboratory, Pasadena, CA, USA', paper_id=54275),\n",
       " Row(affiliations='-', paper_id=54470),\n",
       " Row(affiliations='-', paper_id=54600),\n",
       " Row(affiliations='-', paper_id=54665),\n",
       " Row(affiliations='-', paper_id=54730),\n",
       " Row(affiliations='-;-', paper_id=54795),\n",
       " Row(affiliations='-', paper_id=55510),\n",
       " Row(affiliations='-;-', paper_id=55640),\n",
       " Row(affiliations='-;-', paper_id=55705),\n",
       " Row(affiliations='-', paper_id=55770),\n",
       " Row(affiliations='-', paper_id=55835),\n",
       " Row(affiliations='-', paper_id=55965),\n",
       " Row(affiliations='-;-', paper_id=56160),\n",
       " Row(affiliations='-', paper_id=56225),\n",
       " Row(affiliations='-', paper_id=56290),\n",
       " Row(affiliations='-', paper_id=56355),\n",
       " Row(affiliations='-;-;-;-', paper_id=56485),\n",
       " Row(affiliations='-', paper_id=56550),\n",
       " Row(affiliations='-;-', paper_id=56680),\n",
       " Row(affiliations='-', paper_id=56810),\n",
       " Row(affiliations='-', paper_id=56940),\n",
       " Row(affiliations='-;-', paper_id=57005),\n",
       " Row(affiliations='-;-', paper_id=57135),\n",
       " Row(affiliations='-', paper_id=57200),\n",
       " Row(affiliations='-', paper_id=57395),\n",
       " Row(affiliations='-;-;-;-', paper_id=57590),\n",
       " Row(affiliations='-', paper_id=57655),\n",
       " Row(affiliations='-;-;-', paper_id=57720),\n",
       " Row(affiliations='-', paper_id=57915),\n",
       " Row(affiliations='-', paper_id=58045),\n",
       " Row(affiliations='-', paper_id=58175),\n",
       " Row(affiliations='-', paper_id=58240),\n",
       " Row(affiliations='-;-', paper_id=58435),\n",
       " Row(affiliations='Carnegie-Mellon Univ., Pittsburgh, PA', paper_id=58565),\n",
       " Row(affiliations='-;-', paper_id=58630),\n",
       " Row(affiliations='-', paper_id=58955),\n",
       " Row(affiliations='-', paper_id=59280),\n",
       " Row(affiliations='-;-;-', paper_id=59475),\n",
       " Row(affiliations='-', paper_id=59605),\n",
       " Row(affiliations='-', paper_id=59670),\n",
       " Row(affiliations='-;-;-;-', paper_id=59735),\n",
       " Row(affiliations='-', paper_id=59995),\n",
       " Row(affiliations='-;-', paper_id=60060),\n",
       " Row(affiliations='-', paper_id=60190),\n",
       " Row(affiliations='-;-', paper_id=60320),\n",
       " Row(affiliations='-;-;-', paper_id=60515),\n",
       " Row(affiliations='-;-', paper_id=60645),\n",
       " Row(affiliations='-;-;-;-', paper_id=60710),\n",
       " Row(affiliations='-', paper_id=60775),\n",
       " Row(affiliations='-;-', paper_id=60840),\n",
       " Row(affiliations='-;-', paper_id=60905),\n",
       " Row(affiliations='-', paper_id=60970),\n",
       " Row(affiliations='-;-', paper_id=61035),\n",
       " Row(affiliations='-;-', paper_id=61100),\n",
       " Row(affiliations='-;-', paper_id=61165),\n",
       " Row(affiliations='-;-;-', paper_id=61230),\n",
       " Row(affiliations='-;-', paper_id=61295),\n",
       " Row(affiliations='-;-', paper_id=61425),\n",
       " Row(affiliations='-;-;-;-;-', paper_id=61490),\n",
       " Row(affiliations='-;-', paper_id=61555),\n",
       " Row(affiliations='-', paper_id=61685),\n",
       " Row(affiliations='-;-;-', paper_id=61750),\n",
       " Row(affiliations='-', paper_id=61815),\n",
       " Row(affiliations='-', paper_id=61880),\n",
       " Row(affiliations='-', paper_id=61945),\n",
       " Row(affiliations='-', paper_id=62010),\n",
       " Row(affiliations='-;-', paper_id=62075),\n",
       " Row(affiliations='-;-;-', paper_id=62140),\n",
       " Row(affiliations='-', paper_id=62205),\n",
       " Row(affiliations='-', paper_id=62335),\n",
       " Row(affiliations='-;-;-', paper_id=62400),\n",
       " Row(affiliations='-;-', paper_id=62465),\n",
       " Row(affiliations='-', paper_id=62595),\n",
       " Row(affiliations='-;-', paper_id=62660),\n",
       " Row(affiliations='-', paper_id=62725),\n",
       " Row(affiliations='-', paper_id=62790),\n",
       " Row(affiliations='-;-', paper_id=62855),\n",
       " Row(affiliations='-', paper_id=62920),\n",
       " Row(affiliations='-;-', paper_id=63050),\n",
       " Row(affiliations='-', paper_id=63115),\n",
       " Row(affiliations='-', paper_id=63180),\n",
       " Row(affiliations='-;-', paper_id=63245),\n",
       " Row(affiliations='-', paper_id=63310),\n",
       " Row(affiliations='-;-;-', paper_id=63375),\n",
       " Row(affiliations='-;-', paper_id=63440),\n",
       " Row(affiliations='-;-', paper_id=63505),\n",
       " Row(affiliations='-;-', paper_id=63570),\n",
       " Row(affiliations='-;-', paper_id=63635),\n",
       " Row(affiliations='-', paper_id=63895),\n",
       " Row(affiliations='-', paper_id=63960),\n",
       " Row(affiliations='-', paper_id=64025),\n",
       " Row(affiliations='-;-', paper_id=64090),\n",
       " Row(affiliations='-;-', paper_id=64155),\n",
       " Row(affiliations='-', paper_id=64220),\n",
       " Row(affiliations='-', paper_id=64610),\n",
       " Row(affiliations='-;-', paper_id=64675),\n",
       " Row(affiliations='-', paper_id=64805),\n",
       " Row(affiliations='-;-;-;-;-;-;-;-', paper_id=64870),\n",
       " Row(affiliations='Department of Computer Science, Western Michigan University, Kalamazoo, MI;Department of Computer Science, University of Nebraska-Lincoln, Lincoln, NE', paper_id=65065),\n",
       " Row(affiliations='Laboratoire TIM3-IMAG, Grenoble Cedex, France', paper_id=65195),\n",
       " Row(affiliations='-', paper_id=65390),\n",
       " Row(affiliations='-;-', paper_id=65650),\n",
       " Row(affiliations='-', paper_id=65715),\n",
       " Row(affiliations='IP Sharp AG, Fortunagasse 15, CH-8001 Zülrich, Switzerland', paper_id=65780),\n",
       " Row(affiliations='Department of Computer Science, University of Illinois, 1304 West Springfield Avenue, Urbana, Illinois;Department of Computer Science, Hebrew University, Givat Ram, 91904 Jerusalem (Israel) and  Department of Computer Science, Bar-Ilan University, Ramat-Gan (Israel) and L.R.I., Bat. 490, Universit& ...', paper_id=65910),\n",
       " Row(affiliations='-;-', paper_id=65975),\n",
       " Row(affiliations='-;-', paper_id=66235),\n",
       " Row(affiliations='-', paper_id=66300),\n",
       " Row(affiliations='-', paper_id=66365),\n",
       " Row(affiliations='-;-', paper_id=66430),\n",
       " Row(affiliations='-', paper_id=66495),\n",
       " Row(affiliations='-', paper_id=66560),\n",
       " Row(affiliations='-;-', paper_id=66625),\n",
       " Row(affiliations='-;-;-', paper_id=66690),\n",
       " Row(affiliations='-', paper_id=66755),\n",
       " Row(affiliations='-', paper_id=67015),\n",
       " Row(affiliations='-', paper_id=67080),\n",
       " Row(affiliations='-', paper_id=67145),\n",
       " Row(affiliations='-', paper_id=67275),\n",
       " Row(affiliations='-', paper_id=67340),\n",
       " Row(affiliations='-;-', paper_id=67405),\n",
       " Row(affiliations='-', paper_id=67470),\n",
       " Row(affiliations='-', paper_id=67535),\n",
       " Row(affiliations='-', paper_id=67665),\n",
       " Row(affiliations='-', paper_id=67730),\n",
       " Row(affiliations='-', paper_id=67860),\n",
       " Row(affiliations='-', paper_id=67925),\n",
       " Row(affiliations='-', paper_id=67990),\n",
       " Row(affiliations='-', paper_id=68055),\n",
       " Row(affiliations='-', paper_id=68250),\n",
       " Row(affiliations='-;-', paper_id=68315),\n",
       " Row(affiliations='-;-;-', paper_id=68380),\n",
       " Row(affiliations='-;-', paper_id=68445),\n",
       " Row(affiliations='-;-', paper_id=68510),\n",
       " Row(affiliations='-;-;-', paper_id=68575),\n",
       " Row(affiliations='-', paper_id=68640),\n",
       " Row(affiliations='-;-', paper_id=68705),\n",
       " Row(affiliations='-;-', paper_id=68770),\n",
       " Row(affiliations='-;-;-', paper_id=68835),\n",
       " Row(affiliations='-', paper_id=68900),\n",
       " Row(affiliations='Ben-Gurion Univ., Beer Sheva, Israel;Ben-Gurion Univ., Beer Sheva, Israel', paper_id=69030),\n",
       " Row(affiliations='-;-', paper_id=69095),\n",
       " Row(affiliations='-;-;-;-;-', paper_id=69160),\n",
       " Row(affiliations='-;-', paper_id=69225),\n",
       " Row(affiliations='-;-', paper_id=69355),\n",
       " Row(affiliations='-', paper_id=69420),\n",
       " Row(affiliations='-;-', paper_id=69485),\n",
       " Row(affiliations='-;-', paper_id=69615),\n",
       " Row(affiliations='-;-', paper_id=69680),\n",
       " Row(affiliations='-', paper_id=69745),\n",
       " Row(affiliations='Univ. of Newcastle-Upon-Tyne, UK', paper_id=69810),\n",
       " Row(affiliations='-;-;-;-;-', paper_id=69875),\n",
       " Row(affiliations='-', paper_id=69940),\n",
       " Row(affiliations='-', paper_id=70005),\n",
       " Row(affiliations='-;-', paper_id=70135),\n",
       " Row(affiliations='-', paper_id=70200),\n",
       " Row(affiliations='-', paper_id=70265),\n",
       " Row(affiliations='-', paper_id=70330),\n",
       " Row(affiliations='-;-', paper_id=70395),\n",
       " Row(affiliations='-', paper_id=70460),\n",
       " Row(affiliations='-', paper_id=70525),\n",
       " Row(affiliations='-', paper_id=70590),\n",
       " Row(affiliations='-', paper_id=70655),\n",
       " Row(affiliations='-', paper_id=70720),\n",
       " Row(affiliations='-;-', paper_id=70785),\n",
       " Row(affiliations='-', paper_id=70850),\n",
       " Row(affiliations='-', paper_id=70915),\n",
       " Row(affiliations='-;-', paper_id=70980),\n",
       " Row(affiliations='-;-', paper_id=71110),\n",
       " Row(affiliations='-', paper_id=71175),\n",
       " Row(affiliations='-', paper_id=71240),\n",
       " Row(affiliations='-', paper_id=71305),\n",
       " Row(affiliations='-;-;-', paper_id=71370),\n",
       " Row(affiliations='-', paper_id=71435),\n",
       " Row(affiliations='-;-;-;-;-', paper_id=71500),\n",
       " Row(affiliations='-', paper_id=71565),\n",
       " Row(affiliations='-', paper_id=71630),\n",
       " Row(affiliations='-;-', paper_id=71695),\n",
       " Row(affiliations='-', paper_id=71760),\n",
       " Row(affiliations='-', paper_id=71825),\n",
       " Row(affiliations='-;-', paper_id=71890),\n",
       " Row(affiliations='-;-;-;-;-', paper_id=72020),\n",
       " Row(affiliations='-', paper_id=72085),\n",
       " Row(affiliations='-;-', paper_id=72215),\n",
       " Row(affiliations='-', paper_id=72280),\n",
       " Row(affiliations='-', paper_id=72345),\n",
       " Row(affiliations='-;-;-;-;-;-', paper_id=72410),\n",
       " Row(affiliations='-;-;-', paper_id=72475),\n",
       " Row(affiliations='-;-', paper_id=72540),\n",
       " Row(affiliations='-;-', paper_id=72605),\n",
       " Row(affiliations='-;-;-;-', paper_id=72670),\n",
       " Row(affiliations='-', paper_id=72735),\n",
       " Row(affiliations='-;-;-', paper_id=72800),\n",
       " Row(affiliations='-', paper_id=72865),\n",
       " Row(affiliations='-;-', paper_id=72930),\n",
       " Row(affiliations='-;-;-', paper_id=72995),\n",
       " Row(affiliations='-;-;-', paper_id=73060),\n",
       " Row(affiliations='-;-', paper_id=73125),\n",
       " Row(affiliations='-', paper_id=73190),\n",
       " Row(affiliations='-', paper_id=73255),\n",
       " Row(affiliations='-', paper_id=73320),\n",
       " Row(affiliations='-', paper_id=73450),\n",
       " Row(affiliations='-', paper_id=73515),\n",
       " Row(affiliations='-;-', paper_id=73580),\n",
       " Row(affiliations='-', paper_id=73645),\n",
       " Row(affiliations='-;-', paper_id=73710),\n",
       " Row(affiliations='-;-;-;-;-;-', paper_id=73775),\n",
       " Row(affiliations='-;-', paper_id=73905),\n",
       " Row(affiliations='-;-', paper_id=73970),\n",
       " Row(affiliations='-;-', paper_id=74035),\n",
       " Row(affiliations='-', paper_id=74100),\n",
       " Row(affiliations='-', paper_id=74165),\n",
       " Row(affiliations='-;-', paper_id=74295),\n",
       " Row(affiliations='-;-', paper_id=74360),\n",
       " Row(affiliations='-;-', paper_id=74425),\n",
       " Row(affiliations='-', paper_id=74555),\n",
       " Row(affiliations='-;-', paper_id=74620),\n",
       " Row(affiliations='-', paper_id=74685),\n",
       " Row(affiliations='-', paper_id=74750),\n",
       " Row(affiliations='-', paper_id=74815),\n",
       " Row(affiliations='-;-;-', paper_id=74880),\n",
       " Row(affiliations='-;-', paper_id=74945),\n",
       " Row(affiliations='-', paper_id=75010),\n",
       " Row(affiliations='-', paper_id=75075),\n",
       " Row(affiliations='-', paper_id=75140),\n",
       " Row(affiliations='-;-;-', paper_id=75205),\n",
       " Row(affiliations='-', paper_id=75270),\n",
       " Row(affiliations='-', paper_id=75335),\n",
       " Row(affiliations='-', paper_id=75400),\n",
       " Row(affiliations='-;-;-;-;-', paper_id=75465),\n",
       " Row(affiliations='-', paper_id=75530),\n",
       " Row(affiliations='-', paper_id=75595),\n",
       " Row(affiliations='-', paper_id=75660),\n",
       " Row(affiliations='-', paper_id=75725),\n",
       " Row(affiliations='-;-', paper_id=75790),\n",
       " Row(affiliations='-;-', paper_id=75855),\n",
       " Row(affiliations='-', paper_id=75920),\n",
       " Row(affiliations='-', paper_id=75985),\n",
       " Row(affiliations='-', paper_id=76050),\n",
       " Row(affiliations='-', paper_id=76115),\n",
       " Row(affiliations='-', paper_id=76180),\n",
       " Row(affiliations='-', paper_id=76245),\n",
       " Row(affiliations='-;-;-', paper_id=76310),\n",
       " Row(affiliations='-', paper_id=76440),\n",
       " Row(affiliations='-', paper_id=76570),\n",
       " Row(affiliations='-', paper_id=76635),\n",
       " Row(affiliations='-;-', paper_id=76700),\n",
       " Row(affiliations='-;-', paper_id=76765),\n",
       " Row(affiliations='-', paper_id=76830),\n",
       " Row(affiliations='-;-', paper_id=76960),\n",
       " Row(affiliations='-;-;-;-', paper_id=77025),\n",
       " Row(affiliations='-', paper_id=77090),\n",
       " Row(affiliations='-;-', paper_id=77155),\n",
       " Row(affiliations='-', paper_id=77220),\n",
       " Row(affiliations='-;-;-;-', paper_id=77285),\n",
       " Row(affiliations='-;-', paper_id=77350),\n",
       " Row(affiliations='-', paper_id=77415),\n",
       " Row(affiliations='-;-;-', paper_id=77480),\n",
       " Row(affiliations='-;-', paper_id=77610),\n",
       " Row(affiliations='-;-;-', paper_id=77675),\n",
       " Row(affiliations='-', paper_id=77805),\n",
       " Row(affiliations='-;-', paper_id=77870),\n",
       " Row(affiliations='-;-', paper_id=77935),\n",
       " Row(affiliations='-;-', paper_id=78000),\n",
       " Row(affiliations='-;-', paper_id=78065),\n",
       " Row(affiliations='-', paper_id=78130),\n",
       " Row(affiliations='-;-', paper_id=78195),\n",
       " Row(affiliations='-;-', paper_id=78260),\n",
       " Row(affiliations='-;-', paper_id=78325),\n",
       " Row(affiliations='-', paper_id=78390),\n",
       " Row(affiliations='-;-', paper_id=78520),\n",
       " Row(affiliations='-', paper_id=78585),\n",
       " Row(affiliations='-;-;-;-', paper_id=78650),\n",
       " Row(affiliations='-;-;-', paper_id=78715),\n",
       " Row(affiliations='-;-', paper_id=78780),\n",
       " Row(affiliations='-;-;-', paper_id=78910),\n",
       " Row(affiliations='-;-;-;-', paper_id=78975),\n",
       " Row(affiliations='-', paper_id=79040),\n",
       " Row(affiliations='-;-;-;-', paper_id=79105),\n",
       " Row(affiliations='-', paper_id=79170),\n",
       " Row(affiliations='-;-', paper_id=79235),\n",
       " Row(affiliations='-;-', paper_id=79300),\n",
       " Row(affiliations='-', paper_id=79365),\n",
       " Row(affiliations='-', paper_id=79430),\n",
       " Row(affiliations='-', paper_id=79495),\n",
       " Row(affiliations='-;-', paper_id=79560),\n",
       " Row(affiliations='-', paper_id=79625),\n",
       " Row(affiliations='-;-;-;-;-', paper_id=79690),\n",
       " Row(affiliations='-', paper_id=79755),\n",
       " Row(affiliations='-;-', paper_id=79820),\n",
       " Row(affiliations='-', paper_id=79885),\n",
       " Row(affiliations='-', paper_id=79950),\n",
       " Row(affiliations='-', paper_id=80015),\n",
       " Row(affiliations='-;-;-', paper_id=80080),\n",
       " Row(affiliations='-', paper_id=80145),\n",
       " Row(affiliations='-', paper_id=80210),\n",
       " Row(affiliations='-;-', paper_id=80275),\n",
       " Row(affiliations='-;-', paper_id=80340),\n",
       " Row(affiliations='-', paper_id=80405),\n",
       " Row(affiliations='-', paper_id=80535),\n",
       " Row(affiliations='-;-', paper_id=80600),\n",
       " Row(affiliations='-', paper_id=80665),\n",
       " Row(affiliations='-', paper_id=80730),\n",
       " Row(affiliations='-;-', paper_id=80795),\n",
       " Row(affiliations='-', paper_id=80860),\n",
       " Row(affiliations='-', paper_id=80925),\n",
       " Row(affiliations='-', paper_id=81055),\n",
       " Row(affiliations='-;-;-', paper_id=81120),\n",
       " Row(affiliations='-', paper_id=81185),\n",
       " Row(affiliations='-', paper_id=81250),\n",
       " Row(affiliations='-;-;-', paper_id=81315),\n",
       " Row(affiliations='-;-;-', paper_id=81380),\n",
       " Row(affiliations='-;-', paper_id=81445),\n",
       " Row(affiliations='-;-;-', paper_id=81510),\n",
       " Row(affiliations='-', paper_id=81575),\n",
       " Row(affiliations='-', paper_id=81640),\n",
       " Row(affiliations='-', paper_id=81705),\n",
       " Row(affiliations='-', paper_id=81770),\n",
       " Row(affiliations='-;-;-', paper_id=81835),\n",
       " Row(affiliations='-', paper_id=81900),\n",
       " Row(affiliations='-', paper_id=81965),\n",
       " Row(affiliations='-', paper_id=82030),\n",
       " Row(affiliations='-;-', paper_id=82095),\n",
       " Row(affiliations='-;-', paper_id=82160),\n",
       " Row(affiliations='-;-', paper_id=82225),\n",
       " Row(affiliations='-', paper_id=82485),\n",
       " Row(affiliations='-;-', paper_id=82550),\n",
       " Row(affiliations='-;-', paper_id=82680),\n",
       " Row(affiliations='-', paper_id=82745),\n",
       " Row(affiliations='-', paper_id=82810),\n",
       " Row(affiliations='-', paper_id=82940),\n",
       " Row(affiliations='-', paper_id=83005),\n",
       " Row(affiliations='-', paper_id=83070),\n",
       " Row(affiliations='-;-', paper_id=83135),\n",
       " Row(affiliations='-;-', paper_id=83200),\n",
       " Row(affiliations='-', paper_id=83265),\n",
       " Row(affiliations='-;-;-;-;-', paper_id=83330),\n",
       " Row(affiliations='-', paper_id=83395),\n",
       " Row(affiliations='-', paper_id=83460),\n",
       " Row(affiliations='-;-;-;-', paper_id=83525),\n",
       " Row(affiliations='-', paper_id=83590),\n",
       " Row(affiliations='-', paper_id=83655),\n",
       " Row(affiliations='-', paper_id=83720),\n",
       " Row(affiliations='-;-', paper_id=83785),\n",
       " Row(affiliations='-;-;-', paper_id=83850),\n",
       " Row(affiliations='-;-;-;-', paper_id=83915),\n",
       " Row(affiliations='-', paper_id=83980),\n",
       " Row(affiliations='-', paper_id=84045),\n",
       " Row(affiliations='-;-', paper_id=84110),\n",
       " Row(affiliations='-;-;-', paper_id=84175),\n",
       " Row(affiliations='-', paper_id=84240),\n",
       " Row(affiliations='-', paper_id=84305),\n",
       " Row(affiliations='-', paper_id=84370),\n",
       " Row(affiliations='-;-', paper_id=84435),\n",
       " Row(affiliations='-', paper_id=84500),\n",
       " Row(affiliations='-;-', paper_id=84565),\n",
       " Row(affiliations='-', paper_id=84630),\n",
       " Row(affiliations='-;-', paper_id=84695),\n",
       " Row(affiliations='-', paper_id=84760),\n",
       " Row(affiliations='-;-', paper_id=84825),\n",
       " Row(affiliations='-;-', paper_id=84890),\n",
       " Row(affiliations='-;-', paper_id=84955),\n",
       " Row(affiliations='-', paper_id=85020),\n",
       " Row(affiliations='-', paper_id=85085),\n",
       " Row(affiliations='-;-', paper_id=85150),\n",
       " Row(affiliations='-;-;-;-', paper_id=85280),\n",
       " Row(affiliations='-', paper_id=85410),\n",
       " Row(affiliations='-;-', paper_id=85475),\n",
       " Row(affiliations='-;-', paper_id=85540),\n",
       " Row(affiliations='-', paper_id=85605),\n",
       " Row(affiliations='-', paper_id=85865),\n",
       " Row(affiliations='-', paper_id=85930),\n",
       " Row(affiliations='-', paper_id=85995),\n",
       " Row(affiliations='-', paper_id=86060),\n",
       " Row(affiliations='-;-;Mobil Research and Developneat Corp., Paulsborc Research Laboratory, Paulsboro. New Jersey;Mobil Research and Developneat Corp., Dallas Research Laboratory, 13777 Midway Road, Dallas, Texas', paper_id=86190),\n",
       " Row(affiliations='-', paper_id=86450),\n",
       " Row(affiliations='-', paper_id=86515),\n",
       " Row(affiliations='-', paper_id=86580),\n",
       " Row(affiliations='-;-', paper_id=86645),\n",
       " Row(affiliations='-;-', paper_id=86710),\n",
       " Row(affiliations='-', paper_id=86775),\n",
       " Row(affiliations='-', paper_id=86840),\n",
       " Row(affiliations='-;-', paper_id=86905),\n",
       " Row(affiliations='Computer Sciences Department, University of Wisconsin - Madison, Madison, WI;Computer Sciences Department, University of Wisconsin - Madison, Madison, WI', paper_id=86970),\n",
       " Row(affiliations='The Robotics Institute, Carnegie-Mellon University, Pittsburgh;The Robotics Institute, Carnegie-Mellon University, Pittsburgh;The Robotics Institute, Carnegie-Mellon University, Pittsburgh;IBM Entry Systems Division, Austin, Texas;Centre de Recherche sur les Transports, Université de Montréal, Canada', paper_id=87035),\n",
       " Row(affiliations='-;-;-', paper_id=87165),\n",
       " Row(affiliations='-', paper_id=87230),\n",
       " Row(affiliations='-;-', paper_id=87555),\n",
       " Row(affiliations='-;-;-;-', paper_id=87685),\n",
       " Row(affiliations='-;-;-;-;-;-', paper_id=87815),\n",
       " Row(affiliations='-;-;-;-;-', paper_id=87880),\n",
       " Row(affiliations='-', paper_id=87945),\n",
       " Row(affiliations='-', paper_id=88010),\n",
       " Row(affiliations='-;-;-', paper_id=88335),\n",
       " Row(affiliations='SRA, Inc. 1-1-1 Hirakawacho, Chiyoda, Tokyo 102, Japan;Electrotechnical Laboratory, 1-1-4 Umezono, Tsukuba Science City, Ibaraki 305, Japan', paper_id=88400),\n",
       " Row(affiliations='-', paper_id=88660),\n",
       " Row(affiliations='-', paper_id=88725),\n",
       " Row(affiliations='-;-;-;-;-;-', paper_id=88790),\n",
       " Row(affiliations='-;-;-', paper_id=88855),\n",
       " Row(affiliations='-;-', paper_id=88985),\n",
       " Row(affiliations='-', paper_id=89115),\n",
       " Row(affiliations='-;-', paper_id=89245),\n",
       " Row(affiliations='-', paper_id=89310),\n",
       " Row(affiliations='-', paper_id=89375),\n",
       " Row(affiliations='-', paper_id=89440),\n",
       " Row(affiliations='-;-', paper_id=89505),\n",
       " Row(affiliations='-;-', paper_id=89570),\n",
       " Row(affiliations='-;-', paper_id=89635),\n",
       " Row(affiliations='-;-', paper_id=89700),\n",
       " Row(affiliations='-', paper_id=89830),\n",
       " Row(affiliations='-;-', paper_id=89895),\n",
       " Row(affiliations='-;-;-;-', paper_id=89960),\n",
       " Row(affiliations='-;-;-', paper_id=90025),\n",
       " Row(affiliations='-', paper_id=90090),\n",
       " Row(affiliations='-', paper_id=90155),\n",
       " Row(affiliations='-;-', paper_id=90220),\n",
       " Row(affiliations='-;-', paper_id=90285),\n",
       " Row(affiliations='-;-;-', paper_id=90350),\n",
       " Row(affiliations='-', paper_id=90415),\n",
       " Row(affiliations='-;-', paper_id=90480),\n",
       " Row(affiliations='-;-;-;-', paper_id=90545),\n",
       " Row(affiliations='-', paper_id=90610),\n",
       " Row(affiliations='Univ. of Leeds, UK;Carnegie-Mellon Univ., Pittsburgh, PA;Carnegie-Mellon Univ., Pittsburgh, PA', paper_id=90740),\n",
       " Row(affiliations='-;-', paper_id=90805),\n",
       " Row(affiliations='-', paper_id=90935),\n",
       " Row(affiliations='-;-', paper_id=91000),\n",
       " Row(affiliations='-;-', paper_id=91130),\n",
       " Row(affiliations='-;-', paper_id=91195),\n",
       " Row(affiliations='-', paper_id=91260),\n",
       " Row(affiliations='-;-', paper_id=91325),\n",
       " Row(affiliations='-', paper_id=91455),\n",
       " Row(affiliations='-', paper_id=91520),\n",
       " Row(affiliations='-;-', paper_id=91650),\n",
       " Row(affiliations='-;-', paper_id=91715),\n",
       " Row(affiliations='-;-', paper_id=91780),\n",
       " Row(affiliations='-', paper_id=91845),\n",
       " Row(affiliations='-', paper_id=91910),\n",
       " Row(affiliations='-;-', paper_id=91975),\n",
       " Row(affiliations='-;-', paper_id=92040),\n",
       " Row(affiliations='-;-', paper_id=92105),\n",
       " Row(affiliations='-', paper_id=92170),\n",
       " Row(affiliations='-', paper_id=92235),\n",
       " Row(affiliations='-;-', paper_id=92300),\n",
       " Row(affiliations='-;-;-', paper_id=92365),\n",
       " Row(affiliations='-', paper_id=92430),\n",
       " Row(affiliations='-', paper_id=92495),\n",
       " Row(affiliations='-;-', paper_id=92755),\n",
       " Row(affiliations='-', paper_id=92820),\n",
       " Row(affiliations='-;-', paper_id=92885),\n",
       " Row(affiliations='-;-;-;-', paper_id=92950),\n",
       " Row(affiliations='-;-', paper_id=93080),\n",
       " Row(affiliations='-', paper_id=93145),\n",
       " Row(affiliations='-;-', paper_id=93210),\n",
       " Row(affiliations='-', paper_id=93275),\n",
       " Row(affiliations='-;-', paper_id=93340),\n",
       " Row(affiliations='-', paper_id=93405),\n",
       " Row(affiliations='-;-;-', paper_id=93470),\n",
       " Row(affiliations='-;-;-;-', paper_id=93535),\n",
       " Row(affiliations='-;-', paper_id=93600),\n",
       " Row(affiliations='-;-', paper_id=93665),\n",
       " Row(affiliations='-', paper_id=93730),\n",
       " Row(affiliations='-', paper_id=93795),\n",
       " Row(affiliations='-', paper_id=93860),\n",
       " Row(affiliations='-', paper_id=93925),\n",
       " Row(affiliations='-;-', paper_id=93990),\n",
       " Row(affiliations='-', paper_id=94120),\n",
       " Row(affiliations='-;-', paper_id=94185),\n",
       " Row(affiliations='-', paper_id=94250),\n",
       " Row(affiliations='-;-', paper_id=94315),\n",
       " Row(affiliations='-', paper_id=94380),\n",
       " Row(affiliations='-;-;-', paper_id=94445),\n",
       " Row(affiliations='-', paper_id=94510),\n",
       " Row(affiliations='-', paper_id=94575),\n",
       " Row(affiliations='-;-', paper_id=94640),\n",
       " Row(affiliations='-', paper_id=94705),\n",
       " Row(affiliations='-', paper_id=94835),\n",
       " Row(affiliations='-', paper_id=94900),\n",
       " Row(affiliations='-', paper_id=94965),\n",
       " Row(affiliations='-', paper_id=95030),\n",
       " Row(affiliations='-', paper_id=95095),\n",
       " Row(affiliations='-;-;-;-', paper_id=95160),\n",
       " Row(affiliations='-', paper_id=95225),\n",
       " Row(affiliations='-;-;-', paper_id=95290),\n",
       " Row(affiliations='-;-', paper_id=95355),\n",
       " Row(affiliations='-', paper_id=95420),\n",
       " Row(affiliations='-;-', paper_id=95485),\n",
       " Row(affiliations='-', paper_id=95550),\n",
       " Row(affiliations='-;-', paper_id=95615),\n",
       " Row(affiliations='-;-;-;-', paper_id=95680),\n",
       " Row(affiliations='-;-', paper_id=95745),\n",
       " Row(affiliations='-;-;-', paper_id=95875),\n",
       " Row(affiliations='-;-', paper_id=95940),\n",
       " Row(affiliations='-;-', paper_id=96005),\n",
       " Row(affiliations='-;-', paper_id=96070),\n",
       " ...]"
      ]
     },
     "execution_count": 18,
     "metadata": {},
     "output_type": "execute_result"
    }
   ],
   "source": [
    "affiliation_df.filter(affiliation_df.affiliations.contains('-')).collect()"
   ]
  },
  {
   "cell_type": "code",
   "execution_count": 19,
   "id": "0a272c4e",
   "metadata": {},
   "outputs": [],
   "source": [
    "### check if affiliations are missing as well for the ids whose title was missing in paper_df\n",
    "#for rows in affiliation_df.select(\"affiliations\",\"paper_id\").collect():\n",
    " #   if rows[1] in null_paper_ids_list:\n",
    "  #      print(rows[0], rows[1])"
   ]
  },
  {
   "cell_type": "code",
   "execution_count": 20,
   "id": "d8504dda",
   "metadata": {},
   "outputs": [
    {
     "name": "stdout",
     "output_type": "stream",
     "text": [
      "+--------+------------------------------------------------------+\n",
      "|paper_id|affiliation                                           |\n",
      "+--------+------------------------------------------------------+\n",
      "|65      |The Queen's University of Belfast, Belfast, UK        |\n",
      "|65      |The Queen's University of Belfast, Belfast, UK        |\n",
      "|130     |Univ. of Karlsruhe, Karlsruhe, West Germany           |\n",
      "|195     |AERE Harwell Laboratory, Oxon, UK                     |\n",
      "|195     |Queen's Univ., Belfast, Northern Ireland              |\n",
      "|260     |University of Michigan, Ann Arbor, MI                 |\n",
      "|260     |University of Michigan, Ann Arbor, MI                 |\n",
      "|325     |Oslo politikammer, Oslo, Norway                       |\n",
      "|390     |Harvard Univ., Cambridge, MA                          |\n",
      "|390     |Boston Univ., Boston, MA                              |\n",
      "|455     |Cornell Univ., Ithaca, NY                             |\n",
      "|455     |Cornell Univ., Ithaca, NY                             |\n",
      "|520     |IBM General Technology Division, Hopewell Junction, NY|\n",
      "|520     |IBM Research Division, Yorktown Heights, NY           |\n",
      "|520     |IBM Research Division, Yorktown Heights, NY           |\n",
      "|520     |IBM Research Division, Yorktown Heights, NY           |\n",
      "|585     |-                                                     |\n",
      "|585     |-                                                     |\n",
      "|585     |-                                                     |\n",
      "|650     |New York Univ., New York, NY                          |\n",
      "+--------+------------------------------------------------------+\n",
      "only showing top 20 rows\n",
      "\n",
      "+--------------------------------------------------------------------------------------------------------------------------------------------------------------------------------------------------------------------------------------+--------+\n",
      "|affiliations                                                                                                                                                                                                                          |paper_id|\n",
      "+--------------------------------------------------------------------------------------------------------------------------------------------------------------------------------------------------------------------------------------+--------+\n",
      "|The Queen's University of Belfast, Belfast, UK;The Queen's University of Belfast, Belfast, UK                                                                                                                                         |65      |\n",
      "|Univ. of Karlsruhe, Karlsruhe, West Germany                                                                                                                                                                                           |130     |\n",
      "|AERE Harwell Laboratory, Oxon, UK;Queen's Univ., Belfast, Northern Ireland                                                                                                                                                            |195     |\n",
      "|University of Michigan, Ann Arbor, MI;University of Michigan, Ann Arbor, MI                                                                                                                                                           |260     |\n",
      "|Oslo politikammer, Oslo, Norway                                                                                                                                                                                                       |325     |\n",
      "|Harvard Univ., Cambridge, MA;Boston Univ., Boston, MA                                                                                                                                                                                 |390     |\n",
      "|Cornell Univ., Ithaca, NY;Cornell Univ., Ithaca, NY                                                                                                                                                                                   |455     |\n",
      "|IBM General Technology Division, Hopewell Junction, NY;IBM Research Division, Yorktown Heights, NY;IBM Research Division, Yorktown Heights, NY;IBM Research Division, Yorktown Heights, NY                                            |520     |\n",
      "|-;-;-                                                                                                                                                                                                                                 |585     |\n",
      "|New York Univ., New York, NY                                                                                                                                                                                                          |650     |\n",
      "|-                                                                                                                                                                                                                                     |715     |\n",
      "|Xerox Palo Alto Research Center, Palo Alto, CA;Xerox Palo Alto Research Center, Palo Alto, CA;Xerox Palo Alto Research Center, Palo Alto, CA                                                                                          |780     |\n",
      "|Univ. of California, Berkeley                                                                                                                                                                                                         |845     |\n",
      "|University of Bologna, Bologna, Italy;University of Bologna, Bologna, Italy;University of Bologna, Bologna, Italy                                                                                                                     |910     |\n",
      "|AT & T Bell Laboratories                                                                                                                                                                                                              |975     |\n",
      "|Cornell Univ., Ithaca, NY;Cornell Univ., Ithaca, NY;Virginia Polytechnic Institute and State Univ., Blacksburg, VA                                                                                                                    |1040    |\n",
      "|University of Maryland;University of Maryland                                                                                                                                                                                         |1105    |\n",
      "|Laboratoire de Psychologie de l'Apprentissage, Marseille, France;Laboratoire de Psychologie de l'Apprentissage, Marseille, France;Socie´te´ Opeform, Malakoff, France;Laboratoire de Psychologie de l'Apprentissage, Marseille, France|1170    |\n",
      "|Yale Univ., New Haven, CT                                                                                                                                                                                                             |1235    |\n",
      "|-;-                                                                                                                                                                                                                                   |1300    |\n",
      "+--------------------------------------------------------------------------------------------------------------------------------------------------------------------------------------------------------------------------------------+--------+\n",
      "only showing top 20 rows\n",
      "\n"
     ]
    }
   ],
   "source": [
    "### split affiliations so we can have clean data and seperate records {paper_id; affiliations}\n",
    "unique_affiliations_df = affiliation_df.select(F.col(\"paper_id\"), F.explode(F.split(F.col(\"affiliations\"),\";\")).alias(\"affiliation\"))\n",
    "unique_affiliations_df.show(20, False)\n",
    "affiliation_df.show(20, False)"
   ]
  },
  {
   "cell_type": "code",
   "execution_count": 21,
   "id": "3195d7d4",
   "metadata": {},
   "outputs": [],
   "source": [
    "### check for special nonsense characters \"-\", If the affiliation is missing, there is no point of keeping the rows\n",
    "###unique_affiliations_df.filter(unique_affiliations_df.affiliations=='-').collect()\n",
    "unique_affiliations_df=unique_affiliations_df.where(unique_affiliations_df.affiliation!='-')"
   ]
  },
  {
   "cell_type": "code",
   "execution_count": 22,
   "id": "fda3c444",
   "metadata": {},
   "outputs": [
    {
     "name": "stdout",
     "output_type": "stream",
     "text": [
      "+--------+--------------------+\n",
      "|paper_id|         affiliation|\n",
      "+--------+--------------------+\n",
      "|      65|The Queen's Unive...|\n",
      "|      65|The Queen's Unive...|\n",
      "|     130|Univ. of Karlsruh...|\n",
      "|     195|AERE Harwell Labo...|\n",
      "|     195|Queen's Univ., Be...|\n",
      "|     260|University of Mic...|\n",
      "|     260|University of Mic...|\n",
      "|     325|Oslo politikammer...|\n",
      "|     390|Harvard Univ., Ca...|\n",
      "|     390|Boston Univ., Bos...|\n",
      "|     455|Cornell Univ., It...|\n",
      "|     455|Cornell Univ., It...|\n",
      "|     520|IBM General Techn...|\n",
      "|     520|IBM Research Divi...|\n",
      "|     520|IBM Research Divi...|\n",
      "|     520|IBM Research Divi...|\n",
      "|     650|New York Univ., N...|\n",
      "|     780|Xerox Palo Alto R...|\n",
      "|     780|Xerox Palo Alto R...|\n",
      "|     780|Xerox Palo Alto R...|\n",
      "+--------+--------------------+\n",
      "only showing top 20 rows\n",
      "\n"
     ]
    }
   ],
   "source": [
    "unique_affiliations_df.show()"
   ]
  },
  {
   "cell_type": "code",
   "execution_count": 23,
   "id": "f62eeaed",
   "metadata": {},
   "outputs": [
    {
     "name": "stderr",
     "output_type": "stream",
     "text": [
      "[Stage 12:=======>                                                  (1 + 7) / 8]\r"
     ]
    },
    {
     "name": "stdout",
     "output_type": "stream",
     "text": [
      "+--------+--------------------+-----+\n",
      "|paper_id|         affiliation|count|\n",
      "+--------+--------------------+-----+\n",
      "|  569905|IBM and Universit...|   91|\n",
      "| 1202294|Open Grid Forum—G...|   88|\n",
      "| 1542970|University of Ten...|   65|\n",
      "|  418817|Humanoid Robotics...|   62|\n",
      "| 1731577|IBM Semiconductor...|   59|\n",
      "|  772121|IBM Research Divi...|   52|\n",
      "| 1038111|IBM Thomas J. Wat...|   46|\n",
      "| 1241693|INFN-CNAF V.le Be...|   44|\n",
      "| 1077644|Carnegie Mellon U...|   31|\n",
      "| 1633898|NASA Goddard Spac...|   31|\n",
      "|  994444|Lehrstuhl fur Ope...|   29|\n",
      "| 1229219|    No Affiliations,|   29|\n",
      "| 1210078|IMEC, Kapeldreef ...|   29|\n",
      "|  864278|Dept. of Electr. ...|   29|\n",
      "| 1423217|Shanghai Astronom...|   28|\n",
      "|  827034|The Artist Educat...|   28|\n",
      "|  771289|IBM Research Divi...|   28|\n",
      "| 1312394|Atheros Communica...|   27|\n",
      "|  963134|D. E. Shaw Resear...|   27|\n",
      "| 1625041|           Microsoft|   27|\n",
      "+--------+--------------------+-----+\n",
      "only showing top 20 rows\n",
      "\n"
     ]
    },
    {
     "name": "stderr",
     "output_type": "stream",
     "text": [
      "\r",
      "[Stage 14:>                                                         (0 + 8) / 9]\r",
      "\r",
      "                                                                                \r"
     ]
    }
   ],
   "source": [
    "### check for duplicate rows:\n",
    "unique_affiliations_df.groupby(['paper_id', 'affiliation']).count().where('count > 1').sort('count', ascending=False).show()"
   ]
  },
  {
   "cell_type": "code",
   "execution_count": 24,
   "id": "c3fbf49b",
   "metadata": {},
   "outputs": [],
   "source": [
    "### drop duplicate rows since here we need unique affiliations\n",
    "unique_affiliations_df=unique_affiliations_df.dropDuplicates()\n"
   ]
  },
  {
   "cell_type": "code",
   "execution_count": 25,
   "id": "b74d2b75",
   "metadata": {},
   "outputs": [
    {
     "name": "stderr",
     "output_type": "stream",
     "text": [
      "                                                                                \r"
     ]
    },
    {
     "data": {
      "text/plain": [
       "1876283"
      ]
     },
     "execution_count": 25,
     "metadata": {},
     "output_type": "execute_result"
    }
   ],
   "source": [
    "unique_affiliations_df.count()"
   ]
  },
  {
   "cell_type": "code",
   "execution_count": null,
   "id": "855886fd",
   "metadata": {},
   "outputs": [],
   "source": []
  },
  {
   "cell_type": "code",
   "execution_count": null,
   "id": "e0083171",
   "metadata": {},
   "outputs": [],
   "source": []
  },
  {
   "cell_type": "code",
   "execution_count": null,
   "id": "d78d6238",
   "metadata": {},
   "outputs": [],
   "source": []
  },
  {
   "cell_type": "markdown",
   "id": "c9a05c0c",
   "metadata": {},
   "source": [
    "# Load and clean paper_authors"
   ]
  },
  {
   "cell_type": "code",
   "execution_count": 26,
   "id": "4a52ef00",
   "metadata": {},
   "outputs": [
    {
     "name": "stdout",
     "output_type": "stream",
     "text": [
      "[('authors', 'String'), ('paper_id', 'Integer')]\n"
     ]
    }
   ],
   "source": [
    "### load paper_authors into schema\n",
    "dtypes = pd.read_csv('./schemas/paper_authors.csv').to_records(index=False).tolist()\n",
    "print(dtypes)\n",
    "fields = [StructField(dtype[0], globals()[f'{dtype[1]}Type']()) for dtype in dtypes]\n",
    "schema = StructType(fields)\n",
    "paper_author_df = spark.read.option('header', 'true').csv('./assets/parsedData/paper_authors.csv', header=True, schema=schema)"
   ]
  },
  {
   "cell_type": "code",
   "execution_count": 27,
   "id": "47851ec9",
   "metadata": {},
   "outputs": [
    {
     "name": "stdout",
     "output_type": "stream",
     "text": [
      "+--------------------+--------+\n",
      "|             authors|paper_id|\n",
      "+--------------------+--------+\n",
      "| K Devine;F J. Smith|      65|\n",
      "|J Wolff von Guden...|     130|\n",
      "|J. K. Reid;A. Jen...|     195|\n",
      "|William G. Golson...|     260|\n",
      "|    Stein Schjolberg|     325|\n",
      "|W Ian Gasarch;Ste...|     390|\n",
      "|Sam Toueg;Özalp B...|     455|\n",
      "|Frederick H. Dill...|     520|\n",
      "|A. R. Calderbank;...|     585|\n",
      "|         Uzi Vishkin|     650|\n",
      "|      Stephen S. Yau|     715|\n",
      "|Michael D. Schroe...|     780|\n",
      "|         S L. Graham|     845|\n",
      "|D Maio;M R. Scala...|     910|\n",
      "|         Pamela Zave|     975|\n",
      "|G. Salton;E. Voor...|    1040|\n",
      "|Douglas D. Dunlop...|    1105|\n",
      "|Patrick Peruch;Vi...|    1170|\n",
      "| Robert J. Sternberg|    1235|\n",
      "|Curtis Roads;John...|    1300|\n",
      "+--------------------+--------+\n",
      "only showing top 20 rows\n",
      "\n",
      "root\n",
      " |-- authors: string (nullable = true)\n",
      " |-- paper_id: integer (nullable = true)\n",
      "\n"
     ]
    }
   ],
   "source": [
    "### remove leadind and trailing spaces\n",
    "paper_author_df = paper_author_df.withColumn(\"authors\", trim(paper_author_df.authors))\n",
    "paper_author_df = paper_author_df.withColumn(\"paper_id\", trim(paper_author_df.paper_id))\n",
    "\n",
    "### change data type for paper_id to Integer\n",
    "paper_author_df = paper_author_df.withColumn(\"paper_id\",paper_author_df[\"paper_id\"].cast(IntegerType()))\n",
    "\n",
    "paper_author_df.show()\n",
    "paper_author_df.printSchema()"
   ]
  },
  {
   "cell_type": "code",
   "execution_count": 28,
   "id": "e221572c",
   "metadata": {},
   "outputs": [],
   "source": [
    "null_values_paper_authors=paper_author_df.select([count(when(isnan(c) | col(c).isNull(), c)).alias(c) for c in paper_author_df.columns]\n",
    "   )"
   ]
  },
  {
   "cell_type": "code",
   "execution_count": 29,
   "id": "ef567a85",
   "metadata": {},
   "outputs": [],
   "source": [
    "### check if authors are missing as well for the ids whose title was missing in paper_df\n",
    "#for rows in paper_author_df.select(\"authors\",\"paper_id\").collect():\n",
    " #   if rows[1] in null_paper_ids_list:\n",
    "  #      print(rows[0], rows[1])"
   ]
  },
  {
   "cell_type": "code",
   "execution_count": 30,
   "id": "55522a82",
   "metadata": {},
   "outputs": [
    {
     "name": "stdout",
     "output_type": "stream",
     "text": [
      "+--------+---------------------+\n",
      "|paper_id|author               |\n",
      "+--------+---------------------+\n",
      "|65      |K Devine             |\n",
      "|65      |F J. Smith           |\n",
      "|130     |J Wolff von Gudenberg|\n",
      "|195     |J. K. Reid           |\n",
      "|195     |A. Jennings          |\n",
      "|260     |William G. Golson    |\n",
      "|260     |William C. Rounds    |\n",
      "|325     |Stein Schjolberg     |\n",
      "|390     |W Ian Gasarch        |\n",
      "|390     |Steven Homer         |\n",
      "|455     |Sam Toueg            |\n",
      "|455     |Özalp Babaoğlu       |\n",
      "|520     |Frederick H. Dill    |\n",
      "|520     |Satish Gupta         |\n",
      "|520     |Daniel T. Ling       |\n",
      "|520     |Richard E. Matick    |\n",
      "|585     |A. R. Calderbank     |\n",
      "|585     |E. G. Coffman, Jr.   |\n",
      "|585     |L. Flatto            |\n",
      "|650     |Uzi Vishkin          |\n",
      "+--------+---------------------+\n",
      "only showing top 20 rows\n",
      "\n",
      "+---------------------------------------------------------------+--------+\n",
      "|authors                                                        |paper_id|\n",
      "+---------------------------------------------------------------+--------+\n",
      "|K Devine;F J. Smith                                            |65      |\n",
      "|J Wolff von Gudenberg                                          |130     |\n",
      "|J. K. Reid;A. Jennings                                         |195     |\n",
      "|William G. Golson;William C. Rounds                            |260     |\n",
      "|Stein Schjolberg                                               |325     |\n",
      "|W Ian Gasarch;Steven Homer                                     |390     |\n",
      "|Sam Toueg;Özalp Babaoğlu                                       |455     |\n",
      "|Frederick H. Dill;Satish Gupta;Daniel T. Ling;Richard E. Matick|520     |\n",
      "|A. R. Calderbank;E. G. Coffman, Jr.;L. Flatto                  |585     |\n",
      "|Uzi Vishkin                                                    |650     |\n",
      "|Stephen S. Yau                                                 |715     |\n",
      "|Michael D. Schroeder;Andrew D. Birrell;Roger M. Needham        |780     |\n",
      "|S L. Graham                                                    |845     |\n",
      "|D Maio;M R. Scalas;P Tiberio                                   |910     |\n",
      "|Pamela Zave                                                    |975     |\n",
      "|G. Salton;E. Voorhees;E. A. Fox                                |1040    |\n",
      "|Douglas D. Dunlop;Victor R. Basili                             |1105    |\n",
      "|Patrick Peruch;Viola Cavallo;Christian Deutsch;Jean Pailhous   |1170    |\n",
      "|Robert J. Sternberg                                            |1235    |\n",
      "|Curtis Roads;John Strawn                                       |1300    |\n",
      "+---------------------------------------------------------------+--------+\n",
      "only showing top 20 rows\n",
      "\n"
     ]
    }
   ],
   "source": [
    "### split authors so we can have clean data and seperate records {paper_id; author}\n",
    "unique_paper_author_df = paper_author_df.select(F.col(\"paper_id\"), F.explode(F.split(F.col(\"authors\"),\";\")).alias(\"author\"))\n",
    "unique_paper_author_df.show(20, False)\n",
    "paper_author_df.show(20, False)"
   ]
  },
  {
   "cell_type": "code",
   "execution_count": 31,
   "id": "9a7140f1",
   "metadata": {},
   "outputs": [
    {
     "name": "stderr",
     "output_type": "stream",
     "text": [
      "22/01/17 19:11:17 WARN RowBasedKeyValueBatch: Calling spill() on RowBasedKeyValueBatch. Will not spill but return 0.\n",
      "22/01/17 19:11:17 WARN RowBasedKeyValueBatch: Calling spill() on RowBasedKeyValueBatch. Will not spill but return 0.\n",
      "22/01/17 19:11:17 WARN RowBasedKeyValueBatch: Calling spill() on RowBasedKeyValueBatch. Will not spill but return 0.\n",
      "22/01/17 19:11:17 WARN RowBasedKeyValueBatch: Calling spill() on RowBasedKeyValueBatch. Will not spill but return 0.\n",
      "22/01/17 19:11:17 WARN RowBasedKeyValueBatch: Calling spill() on RowBasedKeyValueBatch. Will not spill but return 0.\n",
      "22/01/17 19:11:17 WARN RowBasedKeyValueBatch: Calling spill() on RowBasedKeyValueBatch. Will not spill but return 0.\n",
      "22/01/17 19:11:17 WARN RowBasedKeyValueBatch: Calling spill() on RowBasedKeyValueBatch. Will not spill but return 0.\n",
      "22/01/17 19:11:17 WARN RowBasedKeyValueBatch: Calling spill() on RowBasedKeyValueBatch. Will not spill but return 0.\n",
      "22/01/17 19:11:17 WARN RowBasedKeyValueBatch: Calling spill() on RowBasedKeyValueBatch. Will not spill but return 0.\n",
      "22/01/17 19:11:17 WARN RowBasedKeyValueBatch: Calling spill() on RowBasedKeyValueBatch. Will not spill but return 0.\n",
      "22/01/17 19:11:17 WARN RowBasedKeyValueBatch: Calling spill() on RowBasedKeyValueBatch. Will not spill but return 0.\n",
      "22/01/17 19:11:17 WARN RowBasedKeyValueBatch: Calling spill() on RowBasedKeyValueBatch. Will not spill but return 0.\n",
      "22/01/17 19:11:17 WARN RowBasedKeyValueBatch: Calling spill() on RowBasedKeyValueBatch. Will not spill but return 0.\n",
      "22/01/17 19:11:17 WARN RowBasedKeyValueBatch: Calling spill() on RowBasedKeyValueBatch. Will not spill but return 0.\n",
      "22/01/17 19:11:21 WARN RowBasedKeyValueBatch: Calling spill() on RowBasedKeyValueBatch. Will not spill but return 0.\n",
      "22/01/17 19:11:21 WARN RowBasedKeyValueBatch: Calling spill() on RowBasedKeyValueBatch. Will not spill but return 0.\n",
      "22/01/17 19:11:21 WARN RowBasedKeyValueBatch: Calling spill() on RowBasedKeyValueBatch. Will not spill but return 0.\n",
      "22/01/17 19:11:21 WARN RowBasedKeyValueBatch: Calling spill() on RowBasedKeyValueBatch. Will not spill but return 0.\n",
      "22/01/17 19:11:21 WARN RowBasedKeyValueBatch: Calling spill() on RowBasedKeyValueBatch. Will not spill but return 0.\n",
      "22/01/17 19:11:21 WARN RowBasedKeyValueBatch: Calling spill() on RowBasedKeyValueBatch. Will not spill but return 0.\n",
      "22/01/17 19:11:21 WARN RowBasedKeyValueBatch: Calling spill() on RowBasedKeyValueBatch. Will not spill but return 0.\n",
      "22/01/17 19:11:21 WARN RowBasedKeyValueBatch: Calling spill() on RowBasedKeyValueBatch. Will not spill but return 0.\n",
      "22/01/17 19:11:21 WARN RowBasedKeyValueBatch: Calling spill() on RowBasedKeyValueBatch. Will not spill but return 0.\n",
      "22/01/17 19:11:21 WARN RowBasedKeyValueBatch: Calling spill() on RowBasedKeyValueBatch. Will not spill but return 0.\n",
      "22/01/17 19:11:21 WARN RowBasedKeyValueBatch: Calling spill() on RowBasedKeyValueBatch. Will not spill but return 0.\n",
      "22/01/17 19:11:21 WARN RowBasedKeyValueBatch: Calling spill() on RowBasedKeyValueBatch. Will not spill but return 0.\n",
      "22/01/17 19:11:21 WARN RowBasedKeyValueBatch: Calling spill() on RowBasedKeyValueBatch. Will not spill but return 0.\n",
      "22/01/17 19:11:21 WARN RowBasedKeyValueBatch: Calling spill() on RowBasedKeyValueBatch. Will not spill but return 0.\n",
      "22/01/17 19:11:21 WARN RowBasedKeyValueBatch: Calling spill() on RowBasedKeyValueBatch. Will not spill but return 0.\n",
      "22/01/17 19:11:21 WARN RowBasedKeyValueBatch: Calling spill() on RowBasedKeyValueBatch. Will not spill but return 0.\n"
     ]
    },
    {
     "name": "stdout",
     "output_type": "stream",
     "text": [
      "+--------+-------------------+-----+\n",
      "|paper_id|             author|count|\n",
      "+--------+-------------------+-----+\n",
      "| 1523221|       Dongkun Shin|    4|\n",
      "| 2059316|      Han Chuanfeng|    3|\n",
      "| 1202294|          N. Sharma|    3|\n",
      "| 2042230|            Lu Leng|    3|\n",
      "| 2040206|       Anchun Cheng|    3|\n",
      "| 2040206|       Mingshu Wang|    3|\n",
      "| 1070928|    Federico Rajola|    2|\n",
      "| 1198797|   Alladi Venkatesh|    2|\n",
      "| 1936484|      Jiangxia Duan|    2|\n",
      "| 1071003|Claudia Steinberger|    2|\n",
      "| 1939475|         Mihai Lupu|    2|\n",
      "| 1864915| Zakariya Belkhamza|    2|\n",
      "| 1895212|     Anders Mattson|    2|\n",
      "| 1071049|         Ming Zhang|    2|\n",
      "| 1167730|    Max A. Woodbury|    2|\n",
      "| 1612982|           A. Klemm|    2|\n",
      "|  581650|  J. Howard Johnson|    2|\n",
      "|  632381|              J. Li|    2|\n",
      "| 1058643|         Frank Thun|    2|\n",
      "| 1070401|      Arieh Iserles|    2|\n",
      "+--------+-------------------+-----+\n",
      "only showing top 20 rows\n",
      "\n"
     ]
    },
    {
     "name": "stderr",
     "output_type": "stream",
     "text": [
      "\r",
      "                                                                                \r"
     ]
    }
   ],
   "source": [
    "### check for duplicate rows:\n",
    "unique_paper_author_df.groupby(['paper_id', 'author']).count().where('count > 1').sort('count', ascending=False).show()"
   ]
  },
  {
   "cell_type": "code",
   "execution_count": 32,
   "id": "80d2a640",
   "metadata": {},
   "outputs": [],
   "source": [
    "### drop duplicate rows since here we need unique paper-author relation\n",
    "unique_paper_author_df=unique_paper_author_df.dropDuplicates()"
   ]
  },
  {
   "cell_type": "code",
   "execution_count": 33,
   "id": "72777581",
   "metadata": {},
   "outputs": [
    {
     "name": "stderr",
     "output_type": "stream",
     "text": [
      "[Stage 27:=======>                                                  (1 + 7) / 8]\r"
     ]
    },
    {
     "name": "stdout",
     "output_type": "stream",
     "text": [
      "+--------+-------------------+\n",
      "|paper_id|author             |\n",
      "+--------+-------------------+\n",
      "|2080    |Matthew L. Ginsberg|\n",
      "|2996    |Martin T. Sullivan |\n",
      "|3185    |William B. Robinson|\n",
      "|4362    |C-T Liou           |\n",
      "|4424    |Ron M Roth         |\n",
      "|6181    |W J Baggaley       |\n",
      "|6247    |Ravi B Boppana     |\n",
      "|6700    |Tomas Hirschfeld   |\n",
      "|6833    |H D Mills          |\n",
      "|7480    |S. F. Smith        |\n",
      "|7868    |R Garcia           |\n",
      "|8776    |G V Nikolaeva      |\n",
      "|9492    |B Buchanan         |\n",
      "|10663   |D Beringer         |\n",
      "|11576   |A H Zemanian       |\n",
      "|12221   |V Cody             |\n",
      "|12936   |L Tondl            |\n",
      "|13852   |M Gregory Maxwell  |\n",
      "|13977   |S Reorda           |\n",
      "|14109   |A Barbour          |\n",
      "+--------+-------------------+\n",
      "only showing top 20 rows\n",
      "\n"
     ]
    },
    {
     "name": "stderr",
     "output_type": "stream",
     "text": [
      "\r",
      "                                                                                \r"
     ]
    }
   ],
   "source": [
    "unique_paper_author_df.show(truncate=False)"
   ]
  },
  {
   "cell_type": "code",
   "execution_count": null,
   "id": "993c7031",
   "metadata": {},
   "outputs": [],
   "source": []
  },
  {
   "cell_type": "code",
   "execution_count": null,
   "id": "880d4afe",
   "metadata": {},
   "outputs": [],
   "source": []
  },
  {
   "cell_type": "code",
   "execution_count": null,
   "id": "ab611b13",
   "metadata": {},
   "outputs": [],
   "source": []
  },
  {
   "cell_type": "code",
   "execution_count": null,
   "id": "c98b4f5d",
   "metadata": {},
   "outputs": [],
   "source": []
  },
  {
   "cell_type": "markdown",
   "id": "b1855220",
   "metadata": {},
   "source": [
    "# Load and clean Publication_venues df"
   ]
  },
  {
   "cell_type": "code",
   "execution_count": 34,
   "id": "0d25f590",
   "metadata": {},
   "outputs": [
    {
     "name": "stdout",
     "output_type": "stream",
     "text": [
      "[('paper_id', 'Integer'), ('publication_venue', 'String')]\n"
     ]
    }
   ],
   "source": [
    "### load publication_venues into schema\n",
    "dtypes = pd.read_csv('./schemas/publication_venues.csv').to_records(index=False).tolist()\n",
    "print(dtypes)\n",
    "fields = [StructField(dtype[0], globals()[f'{dtype[1]}Type']()) for dtype in dtypes]\n",
    "schema = StructType(fields)\n",
    "publication_venue_df = spark.read.option('header', 'true').csv('./assets/parsedData/publication_venues.csv', header=True, schema=schema)"
   ]
  },
  {
   "cell_type": "code",
   "execution_count": 35,
   "id": "026166d7",
   "metadata": {},
   "outputs": [
    {
     "name": "stdout",
     "output_type": "stream",
     "text": [
      "+--------+--------------------+\n",
      "|paper_id|   publication_venue|\n",
      "+--------+--------------------+\n",
      "|      65|Information Techn...|\n",
      "|     130|Proc. of the symp...|\n",
      "|     195|ACM Transactions ...|\n",
      "|     260|Information and C...|\n",
      "|     325|Computers and pen...|\n",
      "|     390|Information and C...|\n",
      "|     455|SIAM Journal on C...|\n",
      "|     520|IBM Journal of Re...|\n",
      "|     585|Journal of the AC...|\n",
      "|     650|Theoretical Compu...|\n",
      "|     715|            Computer|\n",
      "|     780|ACM Transactions ...|\n",
      "|     845|Methods and tools...|\n",
      "|     910|Information Proce...|\n",
      "|     975|ACM Transactions ...|\n",
      "|    1040|Information Proce...|\n",
      "|    1105|ACM Transactions ...|\n",
      "|    1170|Proc. of the 2nd ...|\n",
      "|    1235|Proc. of the inte...|\n",
      "|    1300|Foundations of co...|\n",
      "+--------+--------------------+\n",
      "only showing top 20 rows\n",
      "\n"
     ]
    }
   ],
   "source": [
    "publication_venue_df = publication_venue_df.withColumn(\"publication_venue\", trim(publication_venue_df.publication_venue))\n",
    "publication_venue_df = publication_venue_df.withColumn(\"paper_id\", trim(publication_venue_df.paper_id))\n",
    "publication_venue_df = publication_venue_df.withColumn(\"paper_id\",publication_venue_df[\"paper_id\"].cast(IntegerType()))\n",
    "publication_venue_df.show()"
   ]
  },
  {
   "cell_type": "code",
   "execution_count": 36,
   "id": "6daa39b5",
   "metadata": {},
   "outputs": [],
   "source": [
    "null_values_publication_venue=publication_venue_df.select([count(when(isnan(c) | col(c).isNull(), c)).alias(c) for c in publication_venue_df.columns]\n",
    "   )"
   ]
  },
  {
   "cell_type": "code",
   "execution_count": 37,
   "id": "eef3dd2b",
   "metadata": {},
   "outputs": [
    {
     "name": "stdout",
     "output_type": "stream",
     "text": [
      "+--------+-----------------+\n",
      "|paper_id|publication_venue|\n",
      "+--------+-----------------+\n",
      "|  109525|             null|\n",
      "|  987870|             null|\n",
      "| 1065415|             null|\n",
      "| 1555515|             null|\n",
      "|  144171|             null|\n",
      "|  804766|             null|\n",
      "| 1032591|             null|\n",
      "| 1986272|             null|\n",
      "| 1013548|             null|\n",
      "| 1054433|             null|\n",
      "| 1785618|             null|\n",
      "|  993855|             null|\n",
      "| 1444435|             null|\n",
      "|  893041|             null|\n",
      "|  947251|             null|\n",
      "|  638112|             null|\n",
      "| 1074067|             null|\n",
      "| 1375797|             null|\n",
      "| 1376577|             null|\n",
      "|  861258|             null|\n",
      "+--------+-----------------+\n",
      "only showing top 20 rows\n",
      "\n"
     ]
    }
   ],
   "source": [
    "publication_venue_df.filter(publication_venue_df['publication_venue'].isNull()).show()"
   ]
  },
  {
   "cell_type": "code",
   "execution_count": null,
   "id": "61aa0c6c",
   "metadata": {},
   "outputs": [],
   "source": []
  },
  {
   "cell_type": "markdown",
   "id": "e1a6ec60",
   "metadata": {},
   "source": [
    "# Load and clean Citations df"
   ]
  },
  {
   "cell_type": "code",
   "execution_count": 38,
   "id": "6d24ec61",
   "metadata": {},
   "outputs": [
    {
     "name": "stdout",
     "output_type": "stream",
     "text": [
      "[('paper_id', 'Integer'), ('ref_ids', 'String')]\n"
     ]
    }
   ],
   "source": [
    "### load affiliation into schema\n",
    "dtypes = pd.read_csv('./schemas/citations.csv').to_records(index=False).tolist()\n",
    "print(dtypes)\n",
    "fields = [StructField(dtype[0], globals()[f'{dtype[1]}Type']()) for dtype in dtypes]\n",
    "schema = StructType(fields)\n",
    "citation_df = spark.read.option('header', 'true').csv('./assets/parsedData/citations.csv', header=True, schema=schema)"
   ]
  },
  {
   "cell_type": "code",
   "execution_count": 39,
   "id": "e1fbf832",
   "metadata": {},
   "outputs": [
    {
     "name": "stdout",
     "output_type": "stream",
     "text": [
      "+--------+--------------------+\n",
      "|paper_id|             ref_ids|\n",
      "+--------+--------------------+\n",
      "|      65|                null|\n",
      "|     130|                null|\n",
      "|     195|317424;317425;317573|\n",
      "|     260|                null|\n",
      "|     325|                null|\n",
      "|     390|                null|\n",
      "|     455|                null|\n",
      "|     520|       318368;323493|\n",
      "|     585|                null|\n",
      "|     650|                null|\n",
      "|     715|                null|\n",
      "|     780|318420;319233;319...|\n",
      "|     845|                null|\n",
      "|     910|                null|\n",
      "|     975|67604;318882;3718...|\n",
      "|    1040|                null|\n",
      "|    1105|289087;318014;318...|\n",
      "|    1170|                null|\n",
      "|    1235|                null|\n",
      "|    1300|                null|\n",
      "+--------+--------------------+\n",
      "only showing top 20 rows\n",
      "\n"
     ]
    }
   ],
   "source": [
    "citation_df.show()"
   ]
  },
  {
   "cell_type": "code",
   "execution_count": 40,
   "id": "509f0ac2",
   "metadata": {},
   "outputs": [
    {
     "name": "stdout",
     "output_type": "stream",
     "text": [
      "+--------+--------------------+\n",
      "|paper_id|             ref_ids|\n",
      "+--------+--------------------+\n",
      "|      65|                null|\n",
      "|     130|                null|\n",
      "|     195|317424;317425;317573|\n",
      "|     260|                null|\n",
      "|     325|                null|\n",
      "|     390|                null|\n",
      "|     455|                null|\n",
      "|     520|       318368;323493|\n",
      "|     585|                null|\n",
      "|     650|                null|\n",
      "|     715|                null|\n",
      "|     780|318420;319233;319...|\n",
      "|     845|                null|\n",
      "|     910|                null|\n",
      "|     975|67604;318882;3718...|\n",
      "|    1040|                null|\n",
      "|    1105|289087;318014;318...|\n",
      "|    1170|                null|\n",
      "|    1235|                null|\n",
      "|    1300|                null|\n",
      "+--------+--------------------+\n",
      "only showing top 20 rows\n",
      "\n"
     ]
    }
   ],
   "source": [
    "### remove leading and trailing spaces\n",
    "citation_df = citation_df.withColumn(\"ref_ids\", trim(citation_df.ref_ids))\n",
    "citation_df = citation_df.withColumn(\"paper_id\", trim(citation_df.paper_id))\n",
    "### change data type of paper_id to Integer\n",
    "citation_df = citation_df.withColumn(\"paper_id\",citation_df[\"paper_id\"].cast(IntegerType()))\n",
    "citation_df.show()"
   ]
  },
  {
   "cell_type": "code",
   "execution_count": 41,
   "id": "1afe6f2e",
   "metadata": {},
   "outputs": [
    {
     "name": "stderr",
     "output_type": "stream",
     "text": [
      "[Stage 35:====================================>                     (5 + 3) / 8]\r"
     ]
    },
    {
     "name": "stdout",
     "output_type": "stream",
     "text": [
      "+--------+-------+-----+\n",
      "|paper_id|ref_ids|count|\n",
      "+--------+-------+-----+\n",
      "+--------+-------+-----+\n",
      "\n"
     ]
    },
    {
     "name": "stderr",
     "output_type": "stream",
     "text": [
      "\r",
      "[Stage 37:============>                                             (2 + 7) / 9]\r",
      "\r",
      "                                                                                \r"
     ]
    }
   ],
   "source": [
    "### check for duplicate rows\n",
    "citation_df.groupby(['paper_id', 'ref_ids']).count().where('count > 1').sort('count', ascending=False).show()"
   ]
  },
  {
   "cell_type": "code",
   "execution_count": 42,
   "id": "b5c54e1c",
   "metadata": {},
   "outputs": [
    {
     "name": "stdout",
     "output_type": "stream",
     "text": [
      "+--------+------+\n",
      "|paper_id|ref_id|\n",
      "+--------+------+\n",
      "|195     |317424|\n",
      "|195     |317425|\n",
      "|195     |317573|\n",
      "|520     |318368|\n",
      "|520     |323493|\n",
      "|780     |318420|\n",
      "|780     |319233|\n",
      "|780     |319290|\n",
      "|780     |319579|\n",
      "|780     |320813|\n",
      "|975     |67604 |\n",
      "|975     |318882|\n",
      "|975     |371812|\n",
      "|975     |404772|\n",
      "|975     |604232|\n",
      "|975     |834995|\n",
      "|975     |836008|\n",
      "|1105    |289087|\n",
      "|1105    |318014|\n",
      "|1105    |318186|\n",
      "+--------+------+\n",
      "only showing top 20 rows\n",
      "\n",
      "+--------+------------------------------------------------+\n",
      "|paper_id|ref_ids                                         |\n",
      "+--------+------------------------------------------------+\n",
      "|65      |null                                            |\n",
      "|130     |null                                            |\n",
      "|195     |317424;317425;317573                            |\n",
      "|260     |null                                            |\n",
      "|325     |null                                            |\n",
      "|390     |null                                            |\n",
      "|455     |null                                            |\n",
      "|520     |318368;323493                                   |\n",
      "|585     |null                                            |\n",
      "|650     |null                                            |\n",
      "|715     |null                                            |\n",
      "|780     |318420;319233;319290;319579;320813              |\n",
      "|845     |null                                            |\n",
      "|910     |null                                            |\n",
      "|975     |67604;318882;371812;404772;604232;834995;836008 |\n",
      "|1040    |null                                            |\n",
      "|1105    |289087;318014;318186;320104;321160;323377;603800|\n",
      "|1170    |null                                            |\n",
      "|1235    |null                                            |\n",
      "|1300    |null                                            |\n",
      "+--------+------------------------------------------------+\n",
      "only showing top 20 rows\n",
      "\n"
     ]
    }
   ],
   "source": [
    "### split citations so we can have clean data and seperate records {paper_id; ref_id}\n",
    "unique_citation_df = citation_df.select(F.col(\"paper_id\"), F.explode(F.split(F.col(\"ref_ids\"),\";\")).alias(\"ref_id\"))\n",
    "unique_citation_df.show(20, False)\n",
    "citation_df.show(20, False)"
   ]
  },
  {
   "cell_type": "code",
   "execution_count": 43,
   "id": "32d01f0e",
   "metadata": {},
   "outputs": [],
   "source": [
    "### change datat type of ref_id to Integer\n",
    "unique_citation_df = unique_citation_df.withColumn(\"ref_id\",unique_citation_df[\"ref_id\"].cast(IntegerType()))"
   ]
  },
  {
   "cell_type": "code",
   "execution_count": 44,
   "id": "037eb73e",
   "metadata": {},
   "outputs": [
    {
     "name": "stdout",
     "output_type": "stream",
     "text": [
      "root\n",
      " |-- paper_id: integer (nullable = true)\n",
      " |-- ref_id: integer (nullable = true)\n",
      "\n"
     ]
    }
   ],
   "source": [
    "unique_citation_df.printSchema()"
   ]
  },
  {
   "cell_type": "code",
   "execution_count": 45,
   "id": "ce89c12f",
   "metadata": {},
   "outputs": [
    {
     "name": "stderr",
     "output_type": "stream",
     "text": [
      "22/01/17 19:11:37 WARN RowBasedKeyValueBatch: Calling spill() on RowBasedKeyValueBatch. Will not spill but return 0.\n",
      "22/01/17 19:11:37 WARN RowBasedKeyValueBatch: Calling spill() on RowBasedKeyValueBatch. Will not spill but return 0.\n",
      "22/01/17 19:11:37 WARN RowBasedKeyValueBatch: Calling spill() on RowBasedKeyValueBatch. Will not spill but return 0.\n",
      "22/01/17 19:11:37 WARN RowBasedKeyValueBatch: Calling spill() on RowBasedKeyValueBatch. Will not spill but return 0.\n",
      "22/01/17 19:11:37 WARN RowBasedKeyValueBatch: Calling spill() on RowBasedKeyValueBatch. Will not spill but return 0.\n",
      "22/01/17 19:11:37 WARN RowBasedKeyValueBatch: Calling spill() on RowBasedKeyValueBatch. Will not spill but return 0.\n",
      "22/01/17 19:11:37 WARN RowBasedKeyValueBatch: Calling spill() on RowBasedKeyValueBatch. Will not spill but return 0.\n",
      "22/01/17 19:11:37 WARN RowBasedKeyValueBatch: Calling spill() on RowBasedKeyValueBatch. Will not spill but return 0.\n",
      "22/01/17 19:11:42 WARN RowBasedKeyValueBatch: Calling spill() on RowBasedKeyValueBatch. Will not spill but return 0.\n",
      "22/01/17 19:11:42 WARN RowBasedKeyValueBatch: Calling spill() on RowBasedKeyValueBatch. Will not spill but return 0.\n",
      "22/01/17 19:11:42 WARN RowBasedKeyValueBatch: Calling spill() on RowBasedKeyValueBatch. Will not spill but return 0.\n",
      "22/01/17 19:11:42 WARN RowBasedKeyValueBatch: Calling spill() on RowBasedKeyValueBatch. Will not spill but return 0.\n",
      "22/01/17 19:11:42 WARN RowBasedKeyValueBatch: Calling spill() on RowBasedKeyValueBatch. Will not spill but return 0.\n",
      "22/01/17 19:11:42 WARN RowBasedKeyValueBatch: Calling spill() on RowBasedKeyValueBatch. Will not spill but return 0.\n",
      "22/01/17 19:11:42 WARN RowBasedKeyValueBatch: Calling spill() on RowBasedKeyValueBatch. Will not spill but return 0.\n",
      "22/01/17 19:11:42 WARN RowBasedKeyValueBatch: Calling spill() on RowBasedKeyValueBatch. Will not spill but return 0.\n"
     ]
    },
    {
     "name": "stdout",
     "output_type": "stream",
     "text": [
      "+--------+------+-----+\n",
      "|paper_id|ref_id|count|\n",
      "+--------+------+-----+\n",
      "+--------+------+-----+\n",
      "\n"
     ]
    },
    {
     "name": "stderr",
     "output_type": "stream",
     "text": [
      "\r",
      "[Stage 42:===================================================>      (8 + 1) / 9]\r",
      "\r",
      "                                                                                \r"
     ]
    }
   ],
   "source": [
    "### check for duplicate rows\n",
    "unique_citation_df.groupby(['paper_id', 'ref_id']).count().where('count > 1').sort('count', ascending=False).show()"
   ]
  },
  {
   "cell_type": "code",
   "execution_count": 46,
   "id": "bad7b570",
   "metadata": {},
   "outputs": [
    {
     "name": "stdout",
     "output_type": "stream",
     "text": [
      "[('author_id', 'Integer'), ('citation_count', 'Integer'), ('h_index', 'Integer'), ('name', 'String'), ('paper_count', 'Integer')]\n"
     ]
    },
    {
     "name": "stderr",
     "output_type": "stream",
     "text": [
      "                                                                                \r"
     ]
    },
    {
     "name": "stdout",
     "output_type": "stream",
     "text": [
      "+---------+--------------+-------+----+-----------+\n",
      "|author_id|citation_count|h_index|name|paper_count|\n",
      "+---------+--------------+-------+----+-----------+\n",
      "|        0|             2|      2|   3|          2|\n",
      "+---------+--------------+-------+----+-----------+\n",
      "\n"
     ]
    },
    {
     "name": "stderr",
     "output_type": "stream",
     "text": [
      "[Stage 46:=======>                                                  (1 + 7) / 8]\r"
     ]
    },
    {
     "name": "stdout",
     "output_type": "stream",
     "text": [
      "+--------------------+------------------+------------------+------------------+\n",
      "|                name|       paper_count|    citation_count|           h_index|\n",
      "+--------------------+------------------+------------------+------------------+\n",
      "|        Rui G. Silva|               1.0|               1.0|               1.0|\n",
      "|           B. Setlik|               1.0|               0.0|               0.0|\n",
      "|        Hanyue Zhang|               1.0|               0.0|               0.0|\n",
      "|      Angus Marshall|               1.0|               0.0|               0.0|\n",
      "|        Dong-hwa Yun|               1.0|               1.0|               1.0|\n",
      "|        Ryusuke Hata|               1.0|               0.0|               0.0|\n",
      "|         Peng Zuzeng|               2.0|               0.0|               0.0|\n",
      "|          T. Hajjari|               3.0|              32.0|               2.0|\n",
      "|James C. Armstron...|               4.0|               0.5|               0.5|\n",
      "|             T. Yagi|               2.5|               6.0|               1.5|\n",
      "|Krisana Whattanan...|               1.0|               0.0|               0.0|\n",
      "|    Yannis Tzitzikas|              54.0|             205.0|               7.0|\n",
      "|         K. Maruyama|1.6363636363636365|3.8181818181818183|0.2727272727272727|\n",
      "|     A. F. Sidorenko|               6.0|               2.0|               1.0|\n",
      "|            Daqi Zhu|              10.0|               0.0|               0.0|\n",
      "|        Masoud Niazi|               1.0|               0.0|               0.0|\n",
      "|  Nikolaos Asproulis|               1.0|               2.0|               1.0|\n",
      "|    Philip Marquardt|               3.0|              15.0|               1.0|\n",
      "|      Eleanor Singer|               1.0|               3.0|               1.0|\n",
      "|        A. Varonides|              24.0|               1.0|               1.0|\n",
      "+--------------------+------------------+------------------+------------------+\n",
      "only showing top 20 rows\n",
      "\n",
      "None\n"
     ]
    },
    {
     "name": "stderr",
     "output_type": "stream",
     "text": [
      "\r",
      "                                                                                \r"
     ]
    }
   ],
   "source": [
    "## Yaryna's copy-pasted staff\n",
    "## Should be replaced by Bora's changes\n",
    "### load author into schema\n",
    "dtypes = pd.read_csv('./schemas/author.csv').to_records(index=False).tolist()\n",
    "print(dtypes)\n",
    "fields = [T.StructField(dtype[0], globals()[f'{dtype[1]}Type']()) for dtype in dtypes]\n",
    "schema = StructType(fields)\n",
    "author_df = spark.read.option('header', 'true').csv('./assets/parsedData/authors.csv', header=True, schema=schema)\n",
    "\n",
    "### remove spaces from values of the columns\n",
    "author_df = author_df.withColumn(\"author_id\", trim(author_df.author_id))\n",
    "author_df = author_df.withColumn(\"citation_count\", trim(author_df.citation_count))\n",
    "author_df = author_df.withColumn(\"h_index\", trim(author_df.h_index))\n",
    "author_df = author_df.withColumn(\"name\", trim(author_df.name))\n",
    "author_df = author_df.withColumn(\"paper_count\", trim(author_df.paper_count))\n",
    "\n",
    "### change data type of author_id, paper_count, citation_count, h_index to Integer\n",
    "author_df = author_df.withColumn(\"author_id\",author_df[\"author_id\"].cast(IntegerType()))\n",
    "author_df = author_df.withColumn(\"citation_count\",author_df[\"citation_count\"].cast(IntegerType()))\n",
    "author_df = author_df.withColumn(\"h_index\",author_df[\"h_index\"].cast(IntegerType()))\n",
    "author_df = author_df.withColumn(\"paper_count\",author_df[\"paper_count\"].cast(IntegerType()))\n",
    "\n",
    "### check for nonsense null data\n",
    "null_values_author_df = author_df.select([count(when(isnan(c) | col(c).isNull(), c)).alias(c) for c in author_df.columns]\n",
    "   )\n",
    "null_values_author_df.show()\n",
    "\n",
    "### Decided to drop rows whose author--name is missing (2 authors)\n",
    "### At the moment we can evaluate precomputed paper_count and citation_count only if we have the author_names\n",
    "\n",
    "author_df=author_df.na.drop(how=\"any\", subset=['name'])\n",
    "\n",
    "### fill empty paper_count, citation_count, h_index to 0   (just one author)\n",
    "author_df=author_df.na.fill(value=0, subset='paper_count')\n",
    "author_df=author_df.na.fill(value=0, subset='citation_count')\n",
    "author_df=author_df.na.fill(value=0, subset='h_index')\n",
    "\n",
    "## Yaryna\n",
    "# duplicated_authors_list_y=duplicated_authors_y.select('name').rdd.flatMap(lambda x: x).collect()\n",
    "duplicated_authors=author_df.groupby(['name'])\n",
    "unique_authors=duplicated_authors.agg(\n",
    "    F.avg(\"paper_count\").alias(\"paper_count\"),\n",
    "    F.avg(\"citation_count\").alias(\"citation_count\"),\n",
    "    F.avg(\"h_index\").alias(\"h_index\")\n",
    ")\n",
    "print(unique_authors.show())"
   ]
  },
  {
   "cell_type": "markdown",
   "id": "113403f1",
   "metadata": {},
   "source": [
    "# Run Queries"
   ]
  },
  {
   "cell_type": "markdown",
   "id": "c1657b28",
   "metadata": {},
   "source": [
    "### Q1.2 Compute paper count per unique affiliation"
   ]
  },
  {
   "cell_type": "code",
   "execution_count": 117,
   "id": "b914ee6d",
   "metadata": {},
   "outputs": [
    {
     "name": "stderr",
     "output_type": "stream",
     "text": [
      "[Stage 288:==================================================>      (8 + 1) / 9]\r"
     ]
    },
    {
     "name": "stdout",
     "output_type": "stream",
     "text": [
      "+--------------------+-----+\n",
      "|         affiliation|count|\n",
      "+--------------------+-----+\n",
      "|Massachusetts Ins...|    1|\n",
      "|             AdaCore|   73|\n",
      "|Carleton Universi...|  119|\n",
      "|Academy of Mathem...|    3|\n",
      "|Advanced Database...|    2|\n",
      "|National Taiwan U...|  382|\n",
      "|Computing Laborat...|    8|\n",
      "|Stony Brook Unive...|  152|\n",
      "|Department of Ind...|    1|\n",
      "|Evans and Sutherland|    2|\n",
      "|Institute for Inf...|   12|\n",
      "|Horst Görtz Insti...|   32|\n",
      "|Department of App...|    1|\n",
      "|      CWI, Amsterdam|   43|\n",
      "|School of Library...|    1|\n",
      "|Computer Science ...|    1|\n",
      "|Department of Ind...|   32|\n",
      "|University of Man...|    3|\n",
      "|North China Elect...|    1|\n",
      "|Department of Com...|    3|\n",
      "+--------------------+-----+\n",
      "only showing top 20 rows\n",
      "\n",
      "None\n"
     ]
    },
    {
     "name": "stderr",
     "output_type": "stream",
     "text": [
      "\r",
      "                                                                                \r"
     ]
    }
   ],
   "source": [
    "## Fact table\n",
    "paper_count_per_affiliation_df = unique_affiliations_df.groupBy('affiliation').count()\n",
    "print(paper_count_per_affiliation_df.show())"
   ]
  },
  {
   "cell_type": "markdown",
   "id": "838bf13f",
   "metadata": {},
   "source": [
    "### Q1.1 Validate precomputed paper counts, citation (ref) counts and h-indexes (per author)"
   ]
  },
  {
   "cell_type": "markdown",
   "id": "d0b9f8ed",
   "metadata": {},
   "source": [
    "#### Important links\n",
    "1. Join https://spark.apache.org/docs/3.1.1/api/python/reference/api/pyspark.sql.DataFrame.join.html\n",
    "2. OrderBy https://sparkbyexamples.com/pyspark/pyspark-orderby-and-sort-explained/#sort\n"
   ]
  },
  {
   "cell_type": "markdown",
   "id": "9f798eb5",
   "metadata": {},
   "source": [
    "1. Retrieve all publications of the author\n",
    "2. Calculate the number of references per publication\n",
    "3. Sort the results in descending order\n",
    "4. Find a threshold N, where N top publications have at least N references each. N is the h-index of the author.\n"
   ]
  },
  {
   "cell_type": "code",
   "execution_count": 49,
   "id": "6012efd2",
   "metadata": {},
   "outputs": [],
   "source": [
    "# Retrieve all publications per author -- retrieved in papers_per_author_df"
   ]
  },
  {
   "cell_type": "code",
   "execution_count": 50,
   "id": "88305476",
   "metadata": {
    "scrolled": false
   },
   "outputs": [
    {
     "name": "stderr",
     "output_type": "stream",
     "text": [
      "[Stage 55:=======>                                                  (1 + 7) / 8]\r"
     ]
    },
    {
     "name": "stdout",
     "output_type": "stream",
     "text": [
      "+--------+----------------+\n",
      "|paper_id|paper_references|\n",
      "+--------+----------------+\n",
      "|   38220|              10|\n",
      "|   56680|               4|\n",
      "|  102960|               1|\n",
      "|  287495|               8|\n",
      "|  301535|               4|\n",
      "|  324155|               5|\n",
      "|  417040|               6|\n",
      "|  420485|              17|\n",
      "|  421135|              67|\n",
      "|  450125|               4|\n",
      "|  452010|               5|\n",
      "|  458185|               4|\n",
      "|  504400|              11|\n",
      "|  581815|              11|\n",
      "|  582400|               3|\n",
      "|  722735|              23|\n",
      "|  735215|               3|\n",
      "|  749060|               7|\n",
      "|  753025|              18|\n",
      "|  795275|               2|\n",
      "+--------+----------------+\n",
      "only showing top 20 rows\n",
      "\n",
      "None\n"
     ]
    },
    {
     "name": "stderr",
     "output_type": "stream",
     "text": [
      "\r",
      "[Stage 55:=============================>                            (4 + 4) / 8]\r",
      "\r",
      "                                                                                \r"
     ]
    }
   ],
   "source": [
    "# Calculate the number of references per publication\n",
    "refs_per_paper_count_df = unique_citation_df.groupBy(\"paper_id\").count().withColumnRenamed(\"count\",\"paper_references\")\n",
    "print(refs_per_paper_count_df.show())"
   ]
  },
  {
   "cell_type": "code",
   "execution_count": 51,
   "id": "649cf57d",
   "metadata": {},
   "outputs": [
    {
     "name": "stderr",
     "output_type": "stream",
     "text": [
      "[Stage 65:>                                                         (0 + 8) / 9]\r"
     ]
    },
    {
     "name": "stdout",
     "output_type": "stream",
     "text": [
      "+--------+--------------------+----------------+\n",
      "|paper_id|              author|paper_references|\n",
      "+--------+--------------------+----------------+\n",
      "| 2015219|    Michael Kaminsky|             806|\n",
      "| 2015219|         Mike Dahlin|             806|\n",
      "|  719353|  Johannes Grabmeier|             772|\n",
      "|  719353| Volker Weispfenning|             772|\n",
      "|  719353|      Erich Kaltofen|             772|\n",
      "| 1221204|                Wang|             555|\n",
      "| 1583653|          Jörg Meyer|             527|\n",
      "| 1583653|      Andreas Kerren|             527|\n",
      "| 1583653|         Achim Ebert|             527|\n",
      "| 1376720|       Peter Sanders|             524|\n",
      "| 1376720|          Jop Sibeyn|             524|\n",
      "| 1376720|        Ulrich Meyer|             524|\n",
      "| 1221200|         Scott Hauck|             523|\n",
      "| 1221200|         Andre DeHon|             523|\n",
      "|  932477| Giovanni De Micheli|             476|\n",
      "|  932477|         Luca Benini|             476|\n",
      "| 1504996|      Stefan Schirra|             435|\n",
      "| 1504996|Matthias Muller-H...|             435|\n",
      "|  936367|      Bernhard Preim|             412|\n",
      "|  936367|          Dirk Bartz|             412|\n",
      "+--------+--------------------+----------------+\n",
      "only showing top 20 rows\n",
      "\n",
      "None\n"
     ]
    },
    {
     "name": "stderr",
     "output_type": "stream",
     "text": [
      "\r",
      "[Stage 65:=============================================>            (7 + 2) / 9]\r",
      "\r",
      "                                                                                \r"
     ]
    }
   ],
   "source": [
    "# Join and sort the results in descending order\n",
    "author_papers_with_ref_count = unique_paper_author_df.join(refs_per_paper_count_df, 'paper_id').sort(col(\"paper_references\").desc())\n",
    "print(author_papers_with_ref_count.show())"
   ]
  },
  {
   "cell_type": "code",
   "execution_count": 52,
   "id": "035128ac",
   "metadata": {},
   "outputs": [
    {
     "name": "stderr",
     "output_type": "stream",
     "text": [
      "[Stage 73:>                                                         (0 + 8) / 9]\r"
     ]
    },
    {
     "name": "stdout",
     "output_type": "stream",
     "text": [
      "+--------+--------------------+----------------+\n",
      "|paper_id|              author|paper_references|\n",
      "+--------+--------------------+----------------+\n",
      "| 2015219|    Michael Kaminsky|             806|\n",
      "| 2015219|         Mike Dahlin|             806|\n",
      "|  719353|      Erich Kaltofen|             772|\n",
      "|  719353| Volker Weispfenning|             772|\n",
      "|  719353|  Johannes Grabmeier|             772|\n",
      "| 1221204|                Wang|             555|\n",
      "| 1583653|      Andreas Kerren|             527|\n",
      "| 1583653|         Achim Ebert|             527|\n",
      "| 1583653|          Jörg Meyer|             527|\n",
      "| 1376720|        Ulrich Meyer|             524|\n",
      "| 1376720|       Peter Sanders|             524|\n",
      "| 1376720|          Jop Sibeyn|             524|\n",
      "| 1221200|         Scott Hauck|             523|\n",
      "| 1221200|         Andre DeHon|             523|\n",
      "|  932477|         Luca Benini|             476|\n",
      "|  932477| Giovanni De Micheli|             476|\n",
      "| 1504996|Matthias Muller-H...|             435|\n",
      "| 1504996|      Stefan Schirra|             435|\n",
      "|  936367|      Bernhard Preim|             412|\n",
      "|  936367|          Dirk Bartz|             412|\n",
      "+--------+--------------------+----------------+\n",
      "only showing top 20 rows\n",
      "\n",
      "None\n"
     ]
    },
    {
     "name": "stderr",
     "output_type": "stream",
     "text": [
      "\r",
      "                                                                                \r"
     ]
    }
   ],
   "source": [
    "print(author_papers_with_ref_count.show())"
   ]
  },
  {
   "cell_type": "code",
   "execution_count": 53,
   "id": "8a3562c5",
   "metadata": {},
   "outputs": [],
   "source": [
    "window = Window.partitionBy(author_papers_with_ref_count['author']).orderBy(desc(\"paper_references\"), desc(\"paper_id\"))\n",
    "indexed_grouped_papers_df = author_papers_with_ref_count.select('*', rank().over(window).alias('index'))"
   ]
  },
  {
   "cell_type": "code",
   "execution_count": 54,
   "id": "5603ea2e",
   "metadata": {},
   "outputs": [
    {
     "name": "stderr",
     "output_type": "stream",
     "text": [
      "                                                                                \r"
     ]
    },
    {
     "name": "stdout",
     "output_type": "stream",
     "text": [
      "+--------+--------------+----------------+-----+----------------+\n",
      "|paper_id|author        |paper_references|index|possible_h_index|\n",
      "+--------+--------------+----------------+-----+----------------+\n",
      "|1021079 |Antonio García|21              |1    |1               |\n",
      "|1043043 |Antonio García|19              |2    |2               |\n",
      "|1714191 |Antonio García|13              |3    |3               |\n",
      "|1442848 |Antonio García|13              |4    |4               |\n",
      "|1704289 |Antonio García|9               |5    |5               |\n",
      "|569823  |Antonio García|9               |6    |6               |\n",
      "|520842  |Antonio García|5               |7    |0               |\n",
      "|424188  |Antonio García|5               |8    |0               |\n",
      "|1719840 |Antonio García|4               |9    |0               |\n",
      "|290424  |Antonio García|4               |10   |0               |\n",
      "|1591441 |Antonio García|3               |11   |0               |\n",
      "|1228557 |Antonio García|3               |12   |0               |\n",
      "|548207  |Antonio García|3               |13   |0               |\n",
      "|548036  |Antonio García|3               |14   |0               |\n",
      "|547367  |Antonio García|3               |15   |0               |\n",
      "|1581382 |Antonio García|1               |16   |0               |\n",
      "+--------+--------------+----------------+-----+----------------+\n",
      "\n",
      "None\n"
     ]
    }
   ],
   "source": [
    "h_indexed_papers = indexed_grouped_papers_df.withColumn(\"possible_h_index\", when(indexed_grouped_papers_df.index <= indexed_grouped_papers_df.paper_references, indexed_grouped_papers_df.index).otherwise(0))\n",
    "print(h_indexed_papers.filter(h_indexed_papers.author == \"Antonio García\").show(100, False))"
   ]
  },
  {
   "cell_type": "code",
   "execution_count": null,
   "id": "beaad136",
   "metadata": {},
   "outputs": [],
   "source": [
    "h_indexed_aggregated_papers = h_indexed_papers.groupBy('author')\\\n",
    "    .agg(\n",
    "        F.count('paper_id').alias(\"computed_paper_count\"),\\\n",
    "        F.sum('paper_references').alias(\"computed_citation_count\"),\\\n",
    "        F.max('possible_h_index').alias(\"computed_h_index\")\\ \n",
    "    ).withColumnRenamed(\"author\", \"name\")"
   ]
  },
  {
   "cell_type": "code",
   "execution_count": null,
   "id": "c884e2c8",
   "metadata": {},
   "outputs": [],
   "source": [
    "h_indexed_aggregated_papers.filter(h_indexed_aggregated_papers.author.like(\"%Antonio García%\")).show(truncate=False)"
   ]
  },
  {
   "cell_type": "code",
   "execution_count": 55,
   "id": "893c10ee",
   "metadata": {},
   "outputs": [
    {
     "ename": "NameError",
     "evalue": "name 'h_indexed_aggregated_papers' is not defined",
     "output_type": "error",
     "traceback": [
      "\u001b[0;31m---------------------------------------------------------------------------\u001b[0m",
      "\u001b[0;31mNameError\u001b[0m                                 Traceback (most recent call last)",
      "\u001b[0;32m/var/folders/px/khc4q1n94cnblzp3k7s518xm0000gn/T/ipykernel_33684/4292219949.py\u001b[0m in \u001b[0;36m<module>\u001b[0;34m\u001b[0m\n\u001b[1;32m      1\u001b[0m \u001b[0;31m## Join the real authors with the validated data from paper dataset\u001b[0m\u001b[0;34m\u001b[0m\u001b[0;34m\u001b[0m\u001b[0m\n\u001b[0;32m----> 2\u001b[0;31m \u001b[0munique_authors_with_validated_cols_df\u001b[0m \u001b[0;34m=\u001b[0m \u001b[0munique_authors\u001b[0m\u001b[0;34m.\u001b[0m\u001b[0mjoin\u001b[0m\u001b[0;34m(\u001b[0m\u001b[0mh_indexed_aggregated_papers\u001b[0m\u001b[0;34m,\u001b[0m \u001b[0;34m'name'\u001b[0m\u001b[0;34m)\u001b[0m\u001b[0;34m\u001b[0m\u001b[0;34m\u001b[0m\u001b[0m\n\u001b[0m",
      "\u001b[0;31mNameError\u001b[0m: name 'h_indexed_aggregated_papers' is not defined"
     ]
    }
   ],
   "source": [
    "## Join the real authors with the validated data from paper dataset\n",
    "unique_authors_with_validated_cols_df = unique_authors.join(h_indexed_aggregated_papers, 'name')"
   ]
  },
  {
   "cell_type": "code",
   "execution_count": null,
   "id": "4523b9ee",
   "metadata": {},
   "outputs": [],
   "source": [
    "print(unique_authors_with_validated_cols_df\n",
    "      .filter(\\\n",
    "    unique_authors_with_validated_cols_df.name.like(\"%Antonio García%\")).show(truncate=False))"
   ]
  }
 ],
 "metadata": {
  "kernelspec": {
   "display_name": "Python 3 (ipykernel)",
   "language": "python",
   "name": "python3"
  },
  "language_info": {
   "codemirror_mode": {
    "name": "ipython",
    "version": 3
   },
   "file_extension": ".py",
   "mimetype": "text/x-python",
   "name": "python",
   "nbconvert_exporter": "python",
   "pygments_lexer": "ipython3",
   "version": "3.9.8"
  }
 },
 "nbformat": 4,
 "nbformat_minor": 5
}
